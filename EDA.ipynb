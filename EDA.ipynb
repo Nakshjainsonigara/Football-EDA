{
 "cells": [
  {
   "cell_type": "markdown",
   "id": "9005fda6-791e-41ea-ba93-206df24d035b",
   "metadata": {},
   "source": [
    "<p>\n",
    "    <img style=\"float: right; margin: 90px 5px 20px 2px; max-width: 275px;\" src=\"https://freepngimg.com/thumb/football/66114-soccer-photography-football-royalty-free-player-stock-playing.png\" alt=\"Football Image\">\n",
    "</p>\n",
    "\n",
    "# Data-Driven Goals: A Comprehensive EDA of Football\n",
    "\n",
    "Football, a global phenomenon that transcends borders and unites millions of passionate fans worldwide, captivates with its rich interweaving of history, rivalries, and emotions. In this comprehensive exploration, we delve into the very essence of the game, unraveling the intricate patterns and nuanced dynamics that shape this enthralling spectacle.\n",
    "\n",
    "Our dataset is a treasure trove of information, encompassing a vast array of elements that collectively paint a vivid portrait of football's complexity. From match dates and participating teams to scores and managerial tactics, each piece of data holds the potential to unlock invaluable insights. By delving into player appearances, club games, clubs, competitions, game events, games, player valuations, and player profiles, we aim to unravel the multifaceted layers that contribute to the sport's captivating allure.\n",
    "\n",
    "At the forefront of our investigation is a quest to understand the inner workings of football competitions. We delve into player appearances, club games, competitions, and more, seeking to uncover the underlying patterns and trends that define success on the pitch. By examining player performances, club strategies, and league dynamics, we hope to provide valuable insights that resonate with fans, analysts, and industry professionals alike. By delving into the heart of the game, we aim to unveil the underlying narratives that weave together the enduring appeal of this global phenomenon.\n",
    "\n",
    "This was a collaborative project undertaken by [Naksh Jain Sonigara](https://www.linkedin.com/in/nakshjainsonigara/) and [Soumya Chauhan](https://www.linkedin.com/in/soumyachauhandotcom/).\n"
   ]
  },
  {
   "cell_type": "markdown",
   "id": "ceee8073-53fa-4d5e-a308-eab6ef8d3ea8",
   "metadata": {},
   "source": [
    "## Table of Contents\n",
    "1. [Data Loading](#Data-Loading)\n",
    "2. [Data Exploration](#Data-Exploration)\n",
    "3. [Player Club Appearances Overview](#Player-Club-Appearances-Overview)\n",
    "4. [Player Height Distribution Analysis for Centre-Forwards](#Player-Height-Distribution-Analysis-for-Centre-Forwards)\n",
    "5. [Analyzing Player Mobility and Transfer Frequencies](#Analyzing-Player-Mobility-and-Transfer-Frequencies)\n",
    "6. [Player Market Value Trends Over Time](#Player-Market-Value-Trends-Over-Time)\n",
    "7. [Club Yellow and Red Card Analysis](#Club-Yellow-and-Red-Card-Analysis)\n",
    "8. [Player Nationality Analysis](#Player-Nationality-Analysis)\n",
    "9. [Home vs Away Performance Analysis](#Home-vs-Away-Performance-Analysis)\n",
    "10. [Club Performace Report](#Club-Performace-Report)\n",
    "11. [Age Group Dynamics and Performance in Football Clubs](#Age-Group-Dynamics-and-Performance-in-Football-Clubs)\n",
    "12. [Exploring the Relationship Between Squad Size and Win Rates](#Exploring-the-Relationship-Between-Squad-Size-and-Win-Rates)\n",
    "13. [Top 5 players of individual club](#Top-5-players-of-individual-club)\n",
    "14. [Top performing clubs of each competitions](#Top-performing-clubs-of-each-competitions)\n",
    "15. [Top Scorer Analysis](#Top-Scorer-Analysis)"
   ]
  },
  {
   "cell_type": "markdown",
   "id": "e5659b65-0c42-49b5-83d6-5e777835d200",
   "metadata": {},
   "source": [
    "## Importing necessary libraries"
   ]
  },
  {
   "cell_type": "code",
   "execution_count": 33,
   "id": "009c0c9c-f022-4cb1-83d5-c504999c67b3",
   "metadata": {},
   "outputs": [],
   "source": [
    "import numpy as np\n",
    "import pandas as pd\n",
    "import seaborn as sns\n",
    "import matplotlib.pyplot as plt\n",
    "import seaborn as sns\n",
    "import plotly.express as px\n",
    "import dash\n",
    "from dash import html , dcc\n",
    "from dash.dependencies import Input, Output\n",
    "import ipywidgets as widgets\n",
    "from IPython.display import display, clear_output\n",
    "import scipy.stats as ss\n",
    "from sklearn.preprocessing import MinMaxScaler\n",
    "from os import listdir\n",
    "from os.path import isfile, join"
   ]
  },
  {
   "cell_type": "code",
   "execution_count": 35,
   "id": "a1ed218d-e1c7-4fe3-ba95-86554fddaf5c",
   "metadata": {},
   "outputs": [],
   "source": [
    "#Setting plot style to seaborn\n",
    "plt.style.use(\"seaborn-v0_8\")"
   ]
  },
  {
   "cell_type": "markdown",
   "id": "75764b9b-fbba-414a-90b1-6a899be4c1cb",
   "metadata": {},
   "source": [
    "## Data Loading"
   ]
  },
  {
   "cell_type": "code",
   "execution_count": 37,
   "id": "71ad1029-81d2-448a-b586-6477b86110a5",
   "metadata": {},
   "outputs": [],
   "source": [
    "path = r\"C:\\Users\\jainn\\OneDrive\\Documents\\Sem 1\\EXCEL\\dataS\\dcereijo-player-scores\"\n",
    "files = [ f for f in listdir(path) if isfile(join(path, f))]\n",
    "df = {}\n",
    "for i in files:\n",
    "    df[i] = pd.read_csv(path + \"//\" + i)\n",
    "# All The datasets: 8 datasets\n",
    "appearances = df['appearances']\n",
    "club_games = df['club_games']\n",
    "clubs = df['clubs']\n",
    "competitions = df['competitions']\n",
    "game_events = df['game_events']\n",
    "games = df['games']\n",
    "player_valuations = df['player_valuations']\n",
    "players = df['players']"
   ]
  },
  {
   "cell_type": "markdown",
   "id": "a384d2e6-7c8d-47d1-8617-4b4d8025f9a3",
   "metadata": {},
   "source": [
    "## Data Exploration"
   ]
  },
  {
   "cell_type": "code",
   "execution_count": 38,
   "id": "05f2664b-e1fc-4114-984e-29f5517d2374",
   "metadata": {},
   "outputs": [
    {
     "name": "stdout",
     "output_type": "stream",
     "text": [
      "Info for appearances:\n",
      "<class 'pandas.core.frame.DataFrame'>\n",
      "RangeIndex: 1166215 entries, 0 to 1166214\n",
      "Data columns (total 13 columns):\n",
      " #   Column                  Non-Null Count    Dtype \n",
      "---  ------                  --------------    ----- \n",
      " 0   appearance_id           1166215 non-null  object\n",
      " 1   game_id                 1166215 non-null  int64 \n",
      " 2   player_id               1166215 non-null  int64 \n",
      " 3   player_club_id          1166215 non-null  int64 \n",
      " 4   player_current_club_id  1166215 non-null  int64 \n",
      " 5   date                    1154308 non-null  object\n",
      " 6   player_name             1165851 non-null  object\n",
      " 7   competition_id          1166215 non-null  object\n",
      " 8   yellow_cards            1166215 non-null  int64 \n",
      " 9   red_cards               1166215 non-null  int64 \n",
      " 10  goals                   1166215 non-null  int64 \n",
      " 11  assists                 1166215 non-null  int64 \n",
      " 12  minutes_played          1166215 non-null  int64 \n",
      "dtypes: int64(9), object(4)\n",
      "memory usage: 115.7+ MB\n",
      "None\n",
      "\n",
      "Head of appearances:\n"
     ]
    },
    {
     "data": {
      "text/html": [
       "<div>\n",
       "<style scoped>\n",
       "    .dataframe tbody tr th:only-of-type {\n",
       "        vertical-align: middle;\n",
       "    }\n",
       "\n",
       "    .dataframe tbody tr th {\n",
       "        vertical-align: top;\n",
       "    }\n",
       "\n",
       "    .dataframe thead th {\n",
       "        text-align: right;\n",
       "    }\n",
       "</style>\n",
       "<table border=\"1\" class=\"dataframe\">\n",
       "  <thead>\n",
       "    <tr style=\"text-align: right;\">\n",
       "      <th></th>\n",
       "      <th>appearance_id</th>\n",
       "      <th>game_id</th>\n",
       "      <th>player_id</th>\n",
       "      <th>player_club_id</th>\n",
       "      <th>player_current_club_id</th>\n",
       "      <th>date</th>\n",
       "      <th>player_name</th>\n",
       "      <th>competition_id</th>\n",
       "      <th>yellow_cards</th>\n",
       "      <th>red_cards</th>\n",
       "      <th>goals</th>\n",
       "      <th>assists</th>\n",
       "      <th>minutes_played</th>\n",
       "    </tr>\n",
       "  </thead>\n",
       "  <tbody>\n",
       "    <tr>\n",
       "      <th>0</th>\n",
       "      <td>-1_172127</td>\n",
       "      <td>-1</td>\n",
       "      <td>172127</td>\n",
       "      <td>3999</td>\n",
       "      <td>3999</td>\n",
       "      <td>NaN</td>\n",
       "      <td>Tyronne</td>\n",
       "      <td>GRP</td>\n",
       "      <td>0</td>\n",
       "      <td>0</td>\n",
       "      <td>0</td>\n",
       "      <td>0</td>\n",
       "      <td>90</td>\n",
       "    </tr>\n",
       "    <tr>\n",
       "      <th>1</th>\n",
       "      <td>-1_210988</td>\n",
       "      <td>-1</td>\n",
       "      <td>210988</td>\n",
       "      <td>3999</td>\n",
       "      <td>553</td>\n",
       "      <td>NaN</td>\n",
       "      <td>Christos Eleftheriadis</td>\n",
       "      <td>GRP</td>\n",
       "      <td>0</td>\n",
       "      <td>0</td>\n",
       "      <td>0</td>\n",
       "      <td>0</td>\n",
       "      <td>90</td>\n",
       "    </tr>\n",
       "    <tr>\n",
       "      <th>2</th>\n",
       "      <td>-1_231471</td>\n",
       "      <td>-1</td>\n",
       "      <td>231471</td>\n",
       "      <td>3999</td>\n",
       "      <td>3999</td>\n",
       "      <td>NaN</td>\n",
       "      <td>Theofanis Tzandaris</td>\n",
       "      <td>GRP</td>\n",
       "      <td>0</td>\n",
       "      <td>0</td>\n",
       "      <td>0</td>\n",
       "      <td>0</td>\n",
       "      <td>90</td>\n",
       "    </tr>\n",
       "    <tr>\n",
       "      <th>3</th>\n",
       "      <td>-1_256819</td>\n",
       "      <td>-1</td>\n",
       "      <td>256819</td>\n",
       "      <td>3999</td>\n",
       "      <td>3999</td>\n",
       "      <td>NaN</td>\n",
       "      <td>Nikolaos Tsoukalos</td>\n",
       "      <td>GRP</td>\n",
       "      <td>0</td>\n",
       "      <td>0</td>\n",
       "      <td>0</td>\n",
       "      <td>0</td>\n",
       "      <td>90</td>\n",
       "    </tr>\n",
       "    <tr>\n",
       "      <th>4</th>\n",
       "      <td>-1_281919</td>\n",
       "      <td>-1</td>\n",
       "      <td>281919</td>\n",
       "      <td>3999</td>\n",
       "      <td>3999</td>\n",
       "      <td>NaN</td>\n",
       "      <td>Adam Tzanetopoulos</td>\n",
       "      <td>GRP</td>\n",
       "      <td>0</td>\n",
       "      <td>0</td>\n",
       "      <td>0</td>\n",
       "      <td>0</td>\n",
       "      <td>90</td>\n",
       "    </tr>\n",
       "  </tbody>\n",
       "</table>\n",
       "</div>"
      ],
      "text/plain": [
       "  appearance_id  game_id  player_id  player_club_id  player_current_club_id  \\\n",
       "0     -1_172127       -1     172127            3999                    3999   \n",
       "1     -1_210988       -1     210988            3999                     553   \n",
       "2     -1_231471       -1     231471            3999                    3999   \n",
       "3     -1_256819       -1     256819            3999                    3999   \n",
       "4     -1_281919       -1     281919            3999                    3999   \n",
       "\n",
       "  date             player_name competition_id  yellow_cards  red_cards  goals  \\\n",
       "0  NaN                 Tyronne            GRP             0          0      0   \n",
       "1  NaN  Christos Eleftheriadis            GRP             0          0      0   \n",
       "2  NaN     Theofanis Tzandaris            GRP             0          0      0   \n",
       "3  NaN      Nikolaos Tsoukalos            GRP             0          0      0   \n",
       "4  NaN      Adam Tzanetopoulos            GRP             0          0      0   \n",
       "\n",
       "   assists  minutes_played  \n",
       "0        0              90  \n",
       "1        0              90  \n",
       "2        0              90  \n",
       "3        0              90  \n",
       "4        0              90  "
      ]
     },
     "metadata": {},
     "output_type": "display_data"
    },
    {
     "name": "stdout",
     "output_type": "stream",
     "text": [
      "Info for clubs:\n",
      "<class 'pandas.core.frame.DataFrame'>\n",
      "RangeIndex: 411 entries, 0 to 410\n",
      "Data columns (total 16 columns):\n",
      " #   Column                   Non-Null Count  Dtype  \n",
      "---  ------                   --------------  -----  \n",
      " 0   club_id                  411 non-null    int64  \n",
      " 1   club_code                411 non-null    object \n",
      " 2   name                     236 non-null    object \n",
      " 3   domestic_competition_id  411 non-null    object \n",
      " 4   total_market_value       0 non-null      float64\n",
      " 5   squad_size               411 non-null    int64  \n",
      " 6   average_age              373 non-null    float64\n",
      " 7   foreigners_number        411 non-null    int64  \n",
      " 8   foreigners_percentage    365 non-null    float64\n",
      " 9   national_team_players    411 non-null    int64  \n",
      " 10  stadium_name             411 non-null    object \n",
      " 11  stadium_seats            411 non-null    int64  \n",
      " 12  net_transfer_record      411 non-null    object \n",
      " 13  coach_name               0 non-null      float64\n",
      " 14  last_season              411 non-null    int64  \n",
      " 15  url                      411 non-null    object \n",
      "dtypes: float64(4), int64(6), object(6)\n",
      "memory usage: 51.5+ KB\n",
      "None\n",
      "\n",
      "Head of clubs:\n"
     ]
    },
    {
     "data": {
      "text/html": [
       "<div>\n",
       "<style scoped>\n",
       "    .dataframe tbody tr th:only-of-type {\n",
       "        vertical-align: middle;\n",
       "    }\n",
       "\n",
       "    .dataframe tbody tr th {\n",
       "        vertical-align: top;\n",
       "    }\n",
       "\n",
       "    .dataframe thead th {\n",
       "        text-align: right;\n",
       "    }\n",
       "</style>\n",
       "<table border=\"1\" class=\"dataframe\">\n",
       "  <thead>\n",
       "    <tr style=\"text-align: right;\">\n",
       "      <th></th>\n",
       "      <th>club_id</th>\n",
       "      <th>club_code</th>\n",
       "      <th>name</th>\n",
       "      <th>domestic_competition_id</th>\n",
       "      <th>total_market_value</th>\n",
       "      <th>squad_size</th>\n",
       "      <th>average_age</th>\n",
       "      <th>foreigners_number</th>\n",
       "      <th>foreigners_percentage</th>\n",
       "      <th>national_team_players</th>\n",
       "      <th>stadium_name</th>\n",
       "      <th>stadium_seats</th>\n",
       "      <th>net_transfer_record</th>\n",
       "      <th>coach_name</th>\n",
       "      <th>last_season</th>\n",
       "      <th>url</th>\n",
       "    </tr>\n",
       "  </thead>\n",
       "  <tbody>\n",
       "    <tr>\n",
       "      <th>0</th>\n",
       "      <td>127</td>\n",
       "      <td>sc-paderborn-07</td>\n",
       "      <td>NaN</td>\n",
       "      <td>L1</td>\n",
       "      <td>NaN</td>\n",
       "      <td>26</td>\n",
       "      <td>25.7</td>\n",
       "      <td>5</td>\n",
       "      <td>19.2</td>\n",
       "      <td>1</td>\n",
       "      <td>Home Deluxe Arena</td>\n",
       "      <td>15000</td>\n",
       "      <td>€-450k</td>\n",
       "      <td>NaN</td>\n",
       "      <td>2019</td>\n",
       "      <td>https://www.transfermarkt.co.uk/sc-paderborn-0...</td>\n",
       "    </tr>\n",
       "    <tr>\n",
       "      <th>1</th>\n",
       "      <td>192</td>\n",
       "      <td>roda-jc-kerkrade</td>\n",
       "      <td>NaN</td>\n",
       "      <td>NL1</td>\n",
       "      <td>NaN</td>\n",
       "      <td>25</td>\n",
       "      <td>23.9</td>\n",
       "      <td>9</td>\n",
       "      <td>36.0</td>\n",
       "      <td>0</td>\n",
       "      <td>Parkstad Limburg Stadion</td>\n",
       "      <td>19979</td>\n",
       "      <td>+€1.30m</td>\n",
       "      <td>NaN</td>\n",
       "      <td>2017</td>\n",
       "      <td>https://www.transfermarkt.co.uk/roda-jc-kerkra...</td>\n",
       "    </tr>\n",
       "    <tr>\n",
       "      <th>2</th>\n",
       "      <td>2239</td>\n",
       "      <td>us-cremonese</td>\n",
       "      <td>US Cremonese</td>\n",
       "      <td>IT1</td>\n",
       "      <td>NaN</td>\n",
       "      <td>26</td>\n",
       "      <td>26.0</td>\n",
       "      <td>12</td>\n",
       "      <td>46.2</td>\n",
       "      <td>7</td>\n",
       "      <td>Giovanni Zini</td>\n",
       "      <td>16003</td>\n",
       "      <td>€-33.80m</td>\n",
       "      <td>NaN</td>\n",
       "      <td>2022</td>\n",
       "      <td>https://www.transfermarkt.co.uk/us-cremonese/s...</td>\n",
       "    </tr>\n",
       "    <tr>\n",
       "      <th>3</th>\n",
       "      <td>2423</td>\n",
       "      <td>cd-santa-clara</td>\n",
       "      <td>CD Santa Clara</td>\n",
       "      <td>PO1</td>\n",
       "      <td>NaN</td>\n",
       "      <td>31</td>\n",
       "      <td>25.8</td>\n",
       "      <td>20</td>\n",
       "      <td>64.5</td>\n",
       "      <td>2</td>\n",
       "      <td>Estádio de São Miguel</td>\n",
       "      <td>15000</td>\n",
       "      <td>+€5.85m</td>\n",
       "      <td>NaN</td>\n",
       "      <td>2022</td>\n",
       "      <td>https://www.transfermarkt.co.uk/cd-santa-clara...</td>\n",
       "    </tr>\n",
       "    <tr>\n",
       "      <th>4</th>\n",
       "      <td>24245</td>\n",
       "      <td>umraniyespor</td>\n",
       "      <td>Ümraniyespor</td>\n",
       "      <td>TR1</td>\n",
       "      <td>NaN</td>\n",
       "      <td>24</td>\n",
       "      <td>28.4</td>\n",
       "      <td>10</td>\n",
       "      <td>41.7</td>\n",
       "      <td>3</td>\n",
       "      <td>Ümraniye Belediyesi Şehir Stadı</td>\n",
       "      <td>3513</td>\n",
       "      <td>+-0</td>\n",
       "      <td>NaN</td>\n",
       "      <td>2022</td>\n",
       "      <td>https://www.transfermarkt.co.uk/umraniyespor/s...</td>\n",
       "    </tr>\n",
       "  </tbody>\n",
       "</table>\n",
       "</div>"
      ],
      "text/plain": [
       "   club_id         club_code            name domestic_competition_id  \\\n",
       "0      127   sc-paderborn-07             NaN                      L1   \n",
       "1      192  roda-jc-kerkrade             NaN                     NL1   \n",
       "2     2239      us-cremonese    US Cremonese                     IT1   \n",
       "3     2423    cd-santa-clara  CD Santa Clara                     PO1   \n",
       "4    24245      umraniyespor    Ümraniyespor                     TR1   \n",
       "\n",
       "   total_market_value  squad_size  average_age  foreigners_number  \\\n",
       "0                 NaN          26         25.7                  5   \n",
       "1                 NaN          25         23.9                  9   \n",
       "2                 NaN          26         26.0                 12   \n",
       "3                 NaN          31         25.8                 20   \n",
       "4                 NaN          24         28.4                 10   \n",
       "\n",
       "   foreigners_percentage  national_team_players  \\\n",
       "0                   19.2                      1   \n",
       "1                   36.0                      0   \n",
       "2                   46.2                      7   \n",
       "3                   64.5                      2   \n",
       "4                   41.7                      3   \n",
       "\n",
       "                      stadium_name  stadium_seats net_transfer_record  \\\n",
       "0                Home Deluxe Arena          15000              €-450k   \n",
       "1         Parkstad Limburg Stadion          19979             +€1.30m   \n",
       "2                    Giovanni Zini          16003            €-33.80m   \n",
       "3            Estádio de São Miguel          15000             +€5.85m   \n",
       "4  Ümraniye Belediyesi Şehir Stadı           3513                 +-0   \n",
       "\n",
       "   coach_name  last_season                                                url  \n",
       "0         NaN         2019  https://www.transfermarkt.co.uk/sc-paderborn-0...  \n",
       "1         NaN         2017  https://www.transfermarkt.co.uk/roda-jc-kerkra...  \n",
       "2         NaN         2022  https://www.transfermarkt.co.uk/us-cremonese/s...  \n",
       "3         NaN         2022  https://www.transfermarkt.co.uk/cd-santa-clara...  \n",
       "4         NaN         2022  https://www.transfermarkt.co.uk/umraniyespor/s...  "
      ]
     },
     "metadata": {},
     "output_type": "display_data"
    },
    {
     "name": "stdout",
     "output_type": "stream",
     "text": [
      "Info for club_games:\n",
      "<class 'pandas.core.frame.DataFrame'>\n",
      "RangeIndex: 123076 entries, 0 to 123075\n",
      "Data columns (total 11 columns):\n",
      " #   Column                 Non-Null Count   Dtype \n",
      "---  ------                 --------------   ----- \n",
      " 0   game_id                123076 non-null  int64 \n",
      " 1   club_id                123076 non-null  int64 \n",
      " 2   own_goals              123076 non-null  int64 \n",
      " 3   own_position           123076 non-null  int64 \n",
      " 4   own_manager_name       121728 non-null  object\n",
      " 5   opponent_id            123076 non-null  int64 \n",
      " 6   opponent_goals         123076 non-null  int64 \n",
      " 7   opponent_position      123076 non-null  int64 \n",
      " 8   opponent_manager_name  121728 non-null  object\n",
      " 9   hosting                123076 non-null  object\n",
      " 10  is_win                 123076 non-null  int64 \n",
      "dtypes: int64(8), object(3)\n",
      "memory usage: 10.3+ MB\n",
      "None\n",
      "\n",
      "Head of club_games:\n"
     ]
    },
    {
     "data": {
      "text/html": [
       "<div>\n",
       "<style scoped>\n",
       "    .dataframe tbody tr th:only-of-type {\n",
       "        vertical-align: middle;\n",
       "    }\n",
       "\n",
       "    .dataframe tbody tr th {\n",
       "        vertical-align: top;\n",
       "    }\n",
       "\n",
       "    .dataframe thead th {\n",
       "        text-align: right;\n",
       "    }\n",
       "</style>\n",
       "<table border=\"1\" class=\"dataframe\">\n",
       "  <thead>\n",
       "    <tr style=\"text-align: right;\">\n",
       "      <th></th>\n",
       "      <th>game_id</th>\n",
       "      <th>club_id</th>\n",
       "      <th>own_goals</th>\n",
       "      <th>own_position</th>\n",
       "      <th>own_manager_name</th>\n",
       "      <th>opponent_id</th>\n",
       "      <th>opponent_goals</th>\n",
       "      <th>opponent_position</th>\n",
       "      <th>opponent_manager_name</th>\n",
       "      <th>hosting</th>\n",
       "      <th>is_win</th>\n",
       "    </tr>\n",
       "  </thead>\n",
       "  <tbody>\n",
       "    <tr>\n",
       "      <th>0</th>\n",
       "      <td>2221747</td>\n",
       "      <td>440</td>\n",
       "      <td>0</td>\n",
       "      <td>-1</td>\n",
       "      <td>Sven Köhler</td>\n",
       "      <td>52</td>\n",
       "      <td>1</td>\n",
       "      <td>-1</td>\n",
       "      <td>Oliver Reck</td>\n",
       "      <td>Home</td>\n",
       "      <td>0</td>\n",
       "    </tr>\n",
       "    <tr>\n",
       "      <th>1</th>\n",
       "      <td>2221760</td>\n",
       "      <td>113</td>\n",
       "      <td>0</td>\n",
       "      <td>-1</td>\n",
       "      <td>Petrik Sander</td>\n",
       "      <td>15</td>\n",
       "      <td>4</td>\n",
       "      <td>-1</td>\n",
       "      <td>Sascha Lewandowski</td>\n",
       "      <td>Home</td>\n",
       "      <td>0</td>\n",
       "    </tr>\n",
       "    <tr>\n",
       "      <th>2</th>\n",
       "      <td>2222539</td>\n",
       "      <td>60</td>\n",
       "      <td>1</td>\n",
       "      <td>11</td>\n",
       "      <td>Christian Streich</td>\n",
       "      <td>39</td>\n",
       "      <td>1</td>\n",
       "      <td>10</td>\n",
       "      <td>Thomas Tuchel</td>\n",
       "      <td>Home</td>\n",
       "      <td>0</td>\n",
       "    </tr>\n",
       "    <tr>\n",
       "      <th>3</th>\n",
       "      <td>2222541</td>\n",
       "      <td>41</td>\n",
       "      <td>0</td>\n",
       "      <td>15</td>\n",
       "      <td>Thorsten Fink</td>\n",
       "      <td>4</td>\n",
       "      <td>1</td>\n",
       "      <td>6</td>\n",
       "      <td>Dieter Hecking</td>\n",
       "      <td>Home</td>\n",
       "      <td>0</td>\n",
       "    </tr>\n",
       "    <tr>\n",
       "      <th>4</th>\n",
       "      <td>2222542</td>\n",
       "      <td>24</td>\n",
       "      <td>2</td>\n",
       "      <td>5</td>\n",
       "      <td>Armin Veh</td>\n",
       "      <td>15</td>\n",
       "      <td>1</td>\n",
       "      <td>12</td>\n",
       "      <td>Sascha Lewandowski</td>\n",
       "      <td>Home</td>\n",
       "      <td>1</td>\n",
       "    </tr>\n",
       "  </tbody>\n",
       "</table>\n",
       "</div>"
      ],
      "text/plain": [
       "   game_id  club_id  own_goals  own_position   own_manager_name  opponent_id  \\\n",
       "0  2221747      440          0            -1        Sven Köhler           52   \n",
       "1  2221760      113          0            -1      Petrik Sander           15   \n",
       "2  2222539       60          1            11  Christian Streich           39   \n",
       "3  2222541       41          0            15      Thorsten Fink            4   \n",
       "4  2222542       24          2             5          Armin Veh           15   \n",
       "\n",
       "   opponent_goals  opponent_position opponent_manager_name hosting  is_win  \n",
       "0               1                 -1           Oliver Reck    Home       0  \n",
       "1               4                 -1    Sascha Lewandowski    Home       0  \n",
       "2               1                 10         Thomas Tuchel    Home       0  \n",
       "3               1                  6        Dieter Hecking    Home       0  \n",
       "4               1                 12    Sascha Lewandowski    Home       1  "
      ]
     },
     "metadata": {},
     "output_type": "display_data"
    },
    {
     "name": "stdout",
     "output_type": "stream",
     "text": [
      "Info for competitions:\n",
      "<class 'pandas.core.frame.DataFrame'>\n",
      "RangeIndex: 43 entries, 0 to 42\n",
      "Data columns (total 10 columns):\n",
      " #   Column                Non-Null Count  Dtype \n",
      "---  ------                --------------  ----- \n",
      " 0   competition_id        43 non-null     object\n",
      " 1   competition_code      43 non-null     object\n",
      " 2   name                  43 non-null     object\n",
      " 3   sub_type              43 non-null     object\n",
      " 4   type                  43 non-null     object\n",
      " 5   country_id            43 non-null     int64 \n",
      " 6   country_name          36 non-null     object\n",
      " 7   domestic_league_code  36 non-null     object\n",
      " 8   confederation         43 non-null     object\n",
      " 9   url                   43 non-null     object\n",
      "dtypes: int64(1), object(9)\n",
      "memory usage: 3.5+ KB\n",
      "None\n",
      "\n",
      "Head of competitions:\n"
     ]
    },
    {
     "data": {
      "text/html": [
       "<div>\n",
       "<style scoped>\n",
       "    .dataframe tbody tr th:only-of-type {\n",
       "        vertical-align: middle;\n",
       "    }\n",
       "\n",
       "    .dataframe tbody tr th {\n",
       "        vertical-align: top;\n",
       "    }\n",
       "\n",
       "    .dataframe thead th {\n",
       "        text-align: right;\n",
       "    }\n",
       "</style>\n",
       "<table border=\"1\" class=\"dataframe\">\n",
       "  <thead>\n",
       "    <tr style=\"text-align: right;\">\n",
       "      <th></th>\n",
       "      <th>competition_id</th>\n",
       "      <th>competition_code</th>\n",
       "      <th>name</th>\n",
       "      <th>sub_type</th>\n",
       "      <th>type</th>\n",
       "      <th>country_id</th>\n",
       "      <th>country_name</th>\n",
       "      <th>domestic_league_code</th>\n",
       "      <th>confederation</th>\n",
       "      <th>url</th>\n",
       "    </tr>\n",
       "  </thead>\n",
       "  <tbody>\n",
       "    <tr>\n",
       "      <th>0</th>\n",
       "      <td>BE1</td>\n",
       "      <td>jupiler-pro-league</td>\n",
       "      <td>jupiler-pro-league</td>\n",
       "      <td>first_tier</td>\n",
       "      <td>domestic_league</td>\n",
       "      <td>19</td>\n",
       "      <td>Belgium</td>\n",
       "      <td>BE1</td>\n",
       "      <td>europa</td>\n",
       "      <td>https://www.transfermarkt.co.uk/jupiler-pro-le...</td>\n",
       "    </tr>\n",
       "    <tr>\n",
       "      <th>1</th>\n",
       "      <td>SCI</td>\n",
       "      <td>supercoppa-italiana</td>\n",
       "      <td>supercoppa-italiana</td>\n",
       "      <td>domestic_super_cup</td>\n",
       "      <td>other</td>\n",
       "      <td>75</td>\n",
       "      <td>Italy</td>\n",
       "      <td>IT1</td>\n",
       "      <td>europa</td>\n",
       "      <td>https://www.transfermarkt.co.uk/supercoppa-ita...</td>\n",
       "    </tr>\n",
       "    <tr>\n",
       "      <th>2</th>\n",
       "      <td>SFA</td>\n",
       "      <td>sfa-cup</td>\n",
       "      <td>sfa-cup</td>\n",
       "      <td>domestic_cup</td>\n",
       "      <td>domestic_cup</td>\n",
       "      <td>190</td>\n",
       "      <td>Scotland</td>\n",
       "      <td>SC1</td>\n",
       "      <td>europa</td>\n",
       "      <td>https://www.transfermarkt.co.uk/sfa-cup/starts...</td>\n",
       "    </tr>\n",
       "    <tr>\n",
       "      <th>3</th>\n",
       "      <td>UKRS</td>\n",
       "      <td>ukrainian-super-cup</td>\n",
       "      <td>ukrainian-super-cup</td>\n",
       "      <td>domestic_super_cup</td>\n",
       "      <td>other</td>\n",
       "      <td>177</td>\n",
       "      <td>Ukraine</td>\n",
       "      <td>UKR1</td>\n",
       "      <td>europa</td>\n",
       "      <td>https://www.transfermarkt.co.uk/ukrainian-supe...</td>\n",
       "    </tr>\n",
       "    <tr>\n",
       "      <th>4</th>\n",
       "      <td>FAC</td>\n",
       "      <td>fa-cup</td>\n",
       "      <td>fa-cup</td>\n",
       "      <td>domestic_cup</td>\n",
       "      <td>domestic_cup</td>\n",
       "      <td>189</td>\n",
       "      <td>England</td>\n",
       "      <td>GB1</td>\n",
       "      <td>europa</td>\n",
       "      <td>https://www.transfermarkt.co.uk/fa-cup/startse...</td>\n",
       "    </tr>\n",
       "  </tbody>\n",
       "</table>\n",
       "</div>"
      ],
      "text/plain": [
       "  competition_id     competition_code                 name  \\\n",
       "0            BE1   jupiler-pro-league   jupiler-pro-league   \n",
       "1            SCI  supercoppa-italiana  supercoppa-italiana   \n",
       "2            SFA              sfa-cup              sfa-cup   \n",
       "3           UKRS  ukrainian-super-cup  ukrainian-super-cup   \n",
       "4            FAC               fa-cup               fa-cup   \n",
       "\n",
       "             sub_type             type  country_id country_name  \\\n",
       "0          first_tier  domestic_league          19      Belgium   \n",
       "1  domestic_super_cup            other          75        Italy   \n",
       "2        domestic_cup     domestic_cup         190     Scotland   \n",
       "3  domestic_super_cup            other         177      Ukraine   \n",
       "4        domestic_cup     domestic_cup         189      England   \n",
       "\n",
       "  domestic_league_code confederation  \\\n",
       "0                  BE1        europa   \n",
       "1                  IT1        europa   \n",
       "2                  SC1        europa   \n",
       "3                 UKR1        europa   \n",
       "4                  GB1        europa   \n",
       "\n",
       "                                                 url  \n",
       "0  https://www.transfermarkt.co.uk/jupiler-pro-le...  \n",
       "1  https://www.transfermarkt.co.uk/supercoppa-ita...  \n",
       "2  https://www.transfermarkt.co.uk/sfa-cup/starts...  \n",
       "3  https://www.transfermarkt.co.uk/ukrainian-supe...  \n",
       "4  https://www.transfermarkt.co.uk/fa-cup/startse...  "
      ]
     },
     "metadata": {},
     "output_type": "display_data"
    },
    {
     "name": "stdout",
     "output_type": "stream",
     "text": [
      "Info for games:\n",
      "<class 'pandas.core.frame.DataFrame'>\n",
      "RangeIndex: 61538 entries, 0 to 61537\n",
      "Data columns (total 21 columns):\n",
      " #   Column                  Non-Null Count  Dtype  \n",
      "---  ------                  --------------  -----  \n",
      " 0   game_id                 61538 non-null  int64  \n",
      " 1   competition_id          61538 non-null  object \n",
      " 2   season                  61538 non-null  int64  \n",
      " 3   round                   61538 non-null  object \n",
      " 4   date                    61538 non-null  object \n",
      " 5   home_club_id            61538 non-null  int64  \n",
      " 6   away_club_id            61538 non-null  int64  \n",
      " 7   home_club_goals         61538 non-null  int64  \n",
      " 8   away_club_goals         61538 non-null  int64  \n",
      " 9   home_club_position      61538 non-null  int64  \n",
      " 10  away_club_position      61538 non-null  int64  \n",
      " 11  home_club_manager_name  60864 non-null  object \n",
      " 12  away_club_manager_name  60864 non-null  object \n",
      " 13  stadium                 61350 non-null  object \n",
      " 14  attendance              52542 non-null  float64\n",
      " 15  referee                 60974 non-null  object \n",
      " 16  url                     61538 non-null  object \n",
      " 17  home_club_name          37417 non-null  object \n",
      " 18  away_club_name          38092 non-null  object \n",
      " 19  aggregate               61538 non-null  object \n",
      " 20  competition_type        61538 non-null  object \n",
      "dtypes: float64(1), int64(8), object(12)\n",
      "memory usage: 9.9+ MB\n",
      "None\n",
      "\n",
      "Head of games:\n"
     ]
    },
    {
     "data": {
      "text/html": [
       "<div>\n",
       "<style scoped>\n",
       "    .dataframe tbody tr th:only-of-type {\n",
       "        vertical-align: middle;\n",
       "    }\n",
       "\n",
       "    .dataframe tbody tr th {\n",
       "        vertical-align: top;\n",
       "    }\n",
       "\n",
       "    .dataframe thead th {\n",
       "        text-align: right;\n",
       "    }\n",
       "</style>\n",
       "<table border=\"1\" class=\"dataframe\">\n",
       "  <thead>\n",
       "    <tr style=\"text-align: right;\">\n",
       "      <th></th>\n",
       "      <th>game_id</th>\n",
       "      <th>competition_id</th>\n",
       "      <th>season</th>\n",
       "      <th>round</th>\n",
       "      <th>date</th>\n",
       "      <th>home_club_id</th>\n",
       "      <th>away_club_id</th>\n",
       "      <th>home_club_goals</th>\n",
       "      <th>away_club_goals</th>\n",
       "      <th>home_club_position</th>\n",
       "      <th>...</th>\n",
       "      <th>home_club_manager_name</th>\n",
       "      <th>away_club_manager_name</th>\n",
       "      <th>stadium</th>\n",
       "      <th>attendance</th>\n",
       "      <th>referee</th>\n",
       "      <th>url</th>\n",
       "      <th>home_club_name</th>\n",
       "      <th>away_club_name</th>\n",
       "      <th>aggregate</th>\n",
       "      <th>competition_type</th>\n",
       "    </tr>\n",
       "  </thead>\n",
       "  <tbody>\n",
       "    <tr>\n",
       "      <th>0</th>\n",
       "      <td>2222539</td>\n",
       "      <td>L1</td>\n",
       "      <td>2012</td>\n",
       "      <td>1. Matchday</td>\n",
       "      <td>2012-08-25</td>\n",
       "      <td>60</td>\n",
       "      <td>39</td>\n",
       "      <td>1</td>\n",
       "      <td>1</td>\n",
       "      <td>11</td>\n",
       "      <td>...</td>\n",
       "      <td>Christian Streich</td>\n",
       "      <td>Thomas Tuchel</td>\n",
       "      <td>Dreisamstadion</td>\n",
       "      <td>22500.0</td>\n",
       "      <td>Deniz Aytekin</td>\n",
       "      <td>https://www.transfermarkt.co.uk/sc-freiburg_1-...</td>\n",
       "      <td>SC Freiburg</td>\n",
       "      <td>1.FSV Mainz 05</td>\n",
       "      <td>1:1</td>\n",
       "      <td>domestic_league</td>\n",
       "    </tr>\n",
       "    <tr>\n",
       "      <th>1</th>\n",
       "      <td>2222541</td>\n",
       "      <td>L1</td>\n",
       "      <td>2012</td>\n",
       "      <td>1. Matchday</td>\n",
       "      <td>2012-08-25</td>\n",
       "      <td>41</td>\n",
       "      <td>4</td>\n",
       "      <td>0</td>\n",
       "      <td>1</td>\n",
       "      <td>15</td>\n",
       "      <td>...</td>\n",
       "      <td>Thorsten Fink</td>\n",
       "      <td>Dieter Hecking</td>\n",
       "      <td>Volksparkstadion</td>\n",
       "      <td>50123.0</td>\n",
       "      <td>Marco Fritz</td>\n",
       "      <td>https://www.transfermarkt.co.uk/hamburger-sv_1...</td>\n",
       "      <td>NaN</td>\n",
       "      <td>NaN</td>\n",
       "      <td>0:1</td>\n",
       "      <td>domestic_league</td>\n",
       "    </tr>\n",
       "    <tr>\n",
       "      <th>2</th>\n",
       "      <td>2222542</td>\n",
       "      <td>L1</td>\n",
       "      <td>2012</td>\n",
       "      <td>1. Matchday</td>\n",
       "      <td>2012-08-25</td>\n",
       "      <td>24</td>\n",
       "      <td>15</td>\n",
       "      <td>2</td>\n",
       "      <td>1</td>\n",
       "      <td>5</td>\n",
       "      <td>...</td>\n",
       "      <td>Armin Veh</td>\n",
       "      <td>Sascha Lewandowski</td>\n",
       "      <td>Commerzbank Arena</td>\n",
       "      <td>27950.0</td>\n",
       "      <td>Thorsten Kinhöfer</td>\n",
       "      <td>https://www.transfermarkt.co.uk/eintracht-fran...</td>\n",
       "      <td>Eintracht Frankfurt</td>\n",
       "      <td>Bayer 04 Leverkusen</td>\n",
       "      <td>2:1</td>\n",
       "      <td>domestic_league</td>\n",
       "    </tr>\n",
       "    <tr>\n",
       "      <th>3</th>\n",
       "      <td>2222595</td>\n",
       "      <td>RU1</td>\n",
       "      <td>2012</td>\n",
       "      <td>3. Matchday</td>\n",
       "      <td>2012-08-05</td>\n",
       "      <td>2700</td>\n",
       "      <td>4128</td>\n",
       "      <td>1</td>\n",
       "      <td>0</td>\n",
       "      <td>3</td>\n",
       "      <td>...</td>\n",
       "      <td>Guus Hiddink</td>\n",
       "      <td>Rustem Khuzin</td>\n",
       "      <td>Dinamo</td>\n",
       "      <td>14000.0</td>\n",
       "      <td>Vladislav Bezborodov</td>\n",
       "      <td>https://www.transfermarkt.co.uk/anzhi-makhachk...</td>\n",
       "      <td>NaN</td>\n",
       "      <td>NaN</td>\n",
       "      <td>1:0</td>\n",
       "      <td>domestic_league</td>\n",
       "    </tr>\n",
       "    <tr>\n",
       "      <th>4</th>\n",
       "      <td>2222636</td>\n",
       "      <td>RU1</td>\n",
       "      <td>2012</td>\n",
       "      <td>4. Matchday</td>\n",
       "      <td>2012-08-12</td>\n",
       "      <td>1083</td>\n",
       "      <td>2696</td>\n",
       "      <td>1</td>\n",
       "      <td>2</td>\n",
       "      <td>15</td>\n",
       "      <td>...</td>\n",
       "      <td>Miodrag Bozovic</td>\n",
       "      <td>Andrey Kobelev</td>\n",
       "      <td>Olimp-2</td>\n",
       "      <td>6800.0</td>\n",
       "      <td>Vitali Meshkov</td>\n",
       "      <td>https://www.transfermarkt.co.uk/fk-rostov_kryl...</td>\n",
       "      <td>FK Rostov</td>\n",
       "      <td>Krylya Sovetov Samara</td>\n",
       "      <td>1:2</td>\n",
       "      <td>domestic_league</td>\n",
       "    </tr>\n",
       "  </tbody>\n",
       "</table>\n",
       "<p>5 rows × 21 columns</p>\n",
       "</div>"
      ],
      "text/plain": [
       "   game_id competition_id  season        round        date  home_club_id  \\\n",
       "0  2222539             L1    2012  1. Matchday  2012-08-25            60   \n",
       "1  2222541             L1    2012  1. Matchday  2012-08-25            41   \n",
       "2  2222542             L1    2012  1. Matchday  2012-08-25            24   \n",
       "3  2222595            RU1    2012  3. Matchday  2012-08-05          2700   \n",
       "4  2222636            RU1    2012  4. Matchday  2012-08-12          1083   \n",
       "\n",
       "   away_club_id  home_club_goals  away_club_goals  home_club_position  ...  \\\n",
       "0            39                1                1                  11  ...   \n",
       "1             4                0                1                  15  ...   \n",
       "2            15                2                1                   5  ...   \n",
       "3          4128                1                0                   3  ...   \n",
       "4          2696                1                2                  15  ...   \n",
       "\n",
       "   home_club_manager_name away_club_manager_name            stadium  \\\n",
       "0       Christian Streich          Thomas Tuchel     Dreisamstadion   \n",
       "1           Thorsten Fink         Dieter Hecking   Volksparkstadion   \n",
       "2               Armin Veh     Sascha Lewandowski  Commerzbank Arena   \n",
       "3            Guus Hiddink          Rustem Khuzin             Dinamo   \n",
       "4         Miodrag Bozovic         Andrey Kobelev            Olimp-2   \n",
       "\n",
       "  attendance               referee  \\\n",
       "0    22500.0         Deniz Aytekin   \n",
       "1    50123.0           Marco Fritz   \n",
       "2    27950.0     Thorsten Kinhöfer   \n",
       "3    14000.0  Vladislav Bezborodov   \n",
       "4     6800.0        Vitali Meshkov   \n",
       "\n",
       "                                                 url       home_club_name  \\\n",
       "0  https://www.transfermarkt.co.uk/sc-freiburg_1-...          SC Freiburg   \n",
       "1  https://www.transfermarkt.co.uk/hamburger-sv_1...                  NaN   \n",
       "2  https://www.transfermarkt.co.uk/eintracht-fran...  Eintracht Frankfurt   \n",
       "3  https://www.transfermarkt.co.uk/anzhi-makhachk...                  NaN   \n",
       "4  https://www.transfermarkt.co.uk/fk-rostov_kryl...            FK Rostov   \n",
       "\n",
       "          away_club_name aggregate competition_type  \n",
       "0         1.FSV Mainz 05       1:1  domestic_league  \n",
       "1                    NaN       0:1  domestic_league  \n",
       "2    Bayer 04 Leverkusen       2:1  domestic_league  \n",
       "3                    NaN       1:0  domestic_league  \n",
       "4  Krylya Sovetov Samara       1:2  domestic_league  \n",
       "\n",
       "[5 rows x 21 columns]"
      ]
     },
     "metadata": {},
     "output_type": "display_data"
    },
    {
     "name": "stdout",
     "output_type": "stream",
     "text": [
      "Info for game_events:\n",
      "<class 'pandas.core.frame.DataFrame'>\n",
      "RangeIndex: 559962 entries, 0 to 559961\n",
      "Data columns (total 7 columns):\n",
      " #   Column        Non-Null Count   Dtype  \n",
      "---  ------        --------------   -----  \n",
      " 0   game_id       559962 non-null  int64  \n",
      " 1   minute        559962 non-null  int64  \n",
      " 2   type          559962 non-null  object \n",
      " 3   club_id       559962 non-null  int64  \n",
      " 4   player_id     559962 non-null  int64  \n",
      " 5   description   169995 non-null  object \n",
      " 6   player_in_id  389422 non-null  float64\n",
      "dtypes: float64(1), int64(4), object(2)\n",
      "memory usage: 29.9+ MB\n",
      "None\n",
      "\n",
      "Head of game_events:\n"
     ]
    },
    {
     "data": {
      "text/html": [
       "<div>\n",
       "<style scoped>\n",
       "    .dataframe tbody tr th:only-of-type {\n",
       "        vertical-align: middle;\n",
       "    }\n",
       "\n",
       "    .dataframe tbody tr th {\n",
       "        vertical-align: top;\n",
       "    }\n",
       "\n",
       "    .dataframe thead th {\n",
       "        text-align: right;\n",
       "    }\n",
       "</style>\n",
       "<table border=\"1\" class=\"dataframe\">\n",
       "  <thead>\n",
       "    <tr style=\"text-align: right;\">\n",
       "      <th></th>\n",
       "      <th>game_id</th>\n",
       "      <th>minute</th>\n",
       "      <th>type</th>\n",
       "      <th>club_id</th>\n",
       "      <th>player_id</th>\n",
       "      <th>description</th>\n",
       "      <th>player_in_id</th>\n",
       "    </tr>\n",
       "  </thead>\n",
       "  <tbody>\n",
       "    <tr>\n",
       "      <th>0</th>\n",
       "      <td>2221747</td>\n",
       "      <td>70</td>\n",
       "      <td>Substitutions</td>\n",
       "      <td>52</td>\n",
       "      <td>2125</td>\n",
       "      <td>NaN</td>\n",
       "      <td>43984.0</td>\n",
       "    </tr>\n",
       "    <tr>\n",
       "      <th>1</th>\n",
       "      <td>2221747</td>\n",
       "      <td>80</td>\n",
       "      <td>Substitutions</td>\n",
       "      <td>440</td>\n",
       "      <td>23566</td>\n",
       "      <td>NaN</td>\n",
       "      <td>40679.0</td>\n",
       "    </tr>\n",
       "    <tr>\n",
       "      <th>2</th>\n",
       "      <td>2221747</td>\n",
       "      <td>86</td>\n",
       "      <td>Substitutions</td>\n",
       "      <td>52</td>\n",
       "      <td>8639</td>\n",
       "      <td>NaN</td>\n",
       "      <td>42749.0</td>\n",
       "    </tr>\n",
       "    <tr>\n",
       "      <th>3</th>\n",
       "      <td>2221747</td>\n",
       "      <td>88</td>\n",
       "      <td>Substitutions</td>\n",
       "      <td>440</td>\n",
       "      <td>43822</td>\n",
       "      <td>NaN</td>\n",
       "      <td>83191.0</td>\n",
       "    </tr>\n",
       "    <tr>\n",
       "      <th>4</th>\n",
       "      <td>2221760</td>\n",
       "      <td>68</td>\n",
       "      <td>Substitutions</td>\n",
       "      <td>15</td>\n",
       "      <td>61087</td>\n",
       "      <td>NaN</td>\n",
       "      <td>39102.0</td>\n",
       "    </tr>\n",
       "  </tbody>\n",
       "</table>\n",
       "</div>"
      ],
      "text/plain": [
       "   game_id  minute           type  club_id  player_id description  \\\n",
       "0  2221747      70  Substitutions       52       2125         NaN   \n",
       "1  2221747      80  Substitutions      440      23566         NaN   \n",
       "2  2221747      86  Substitutions       52       8639         NaN   \n",
       "3  2221747      88  Substitutions      440      43822         NaN   \n",
       "4  2221760      68  Substitutions       15      61087         NaN   \n",
       "\n",
       "   player_in_id  \n",
       "0       43984.0  \n",
       "1       40679.0  \n",
       "2       42749.0  \n",
       "3       83191.0  \n",
       "4       39102.0  "
      ]
     },
     "metadata": {},
     "output_type": "display_data"
    },
    {
     "name": "stdout",
     "output_type": "stream",
     "text": [
      "Info for players:\n",
      "<class 'pandas.core.frame.DataFrame'>\n",
      "RangeIndex: 28459 entries, 0 to 28458\n",
      "Data columns (total 23 columns):\n",
      " #   Column                                Non-Null Count  Dtype  \n",
      "---  ------                                --------------  -----  \n",
      " 0   player_id                             28459 non-null  int64  \n",
      " 1   first_name                            26609 non-null  object \n",
      " 2   last_name                             28459 non-null  object \n",
      " 3   name                                  28459 non-null  object \n",
      " 4   last_season                           28459 non-null  int64  \n",
      " 5   current_club_id                       28459 non-null  int64  \n",
      " 6   player_code                           28459 non-null  object \n",
      " 7   country_of_birth                      26660 non-null  object \n",
      " 8   city_of_birth                         26670 non-null  object \n",
      " 9   country_of_citizenship                28458 non-null  object \n",
      " 10  date_of_birth                         28417 non-null  object \n",
      " 11  sub_position                          28300 non-null  object \n",
      " 12  position                              28459 non-null  object \n",
      " 13  foot                                  26385 non-null  object \n",
      " 14  height_in_cm                          26741 non-null  float64\n",
      " 15  market_value_in_eur                   17938 non-null  float64\n",
      " 16  highest_market_value_in_eur           27437 non-null  float64\n",
      " 17  contract_expiration_date              17946 non-null  object \n",
      " 18  agent_name                            13987 non-null  object \n",
      " 19  image_url                             28459 non-null  object \n",
      " 20  url                                   28459 non-null  object \n",
      " 21  current_club_domestic_competition_id  28459 non-null  object \n",
      " 22  current_club_name                     19054 non-null  object \n",
      "dtypes: float64(3), int64(3), object(17)\n",
      "memory usage: 5.0+ MB\n",
      "None\n",
      "\n",
      "Head of players:\n"
     ]
    },
    {
     "data": {
      "text/html": [
       "<div>\n",
       "<style scoped>\n",
       "    .dataframe tbody tr th:only-of-type {\n",
       "        vertical-align: middle;\n",
       "    }\n",
       "\n",
       "    .dataframe tbody tr th {\n",
       "        vertical-align: top;\n",
       "    }\n",
       "\n",
       "    .dataframe thead th {\n",
       "        text-align: right;\n",
       "    }\n",
       "</style>\n",
       "<table border=\"1\" class=\"dataframe\">\n",
       "  <thead>\n",
       "    <tr style=\"text-align: right;\">\n",
       "      <th></th>\n",
       "      <th>player_id</th>\n",
       "      <th>first_name</th>\n",
       "      <th>last_name</th>\n",
       "      <th>name</th>\n",
       "      <th>last_season</th>\n",
       "      <th>current_club_id</th>\n",
       "      <th>player_code</th>\n",
       "      <th>country_of_birth</th>\n",
       "      <th>city_of_birth</th>\n",
       "      <th>country_of_citizenship</th>\n",
       "      <th>...</th>\n",
       "      <th>foot</th>\n",
       "      <th>height_in_cm</th>\n",
       "      <th>market_value_in_eur</th>\n",
       "      <th>highest_market_value_in_eur</th>\n",
       "      <th>contract_expiration_date</th>\n",
       "      <th>agent_name</th>\n",
       "      <th>image_url</th>\n",
       "      <th>url</th>\n",
       "      <th>current_club_domestic_competition_id</th>\n",
       "      <th>current_club_name</th>\n",
       "    </tr>\n",
       "  </thead>\n",
       "  <tbody>\n",
       "    <tr>\n",
       "      <th>0</th>\n",
       "      <td>597</td>\n",
       "      <td>Aleksandr</td>\n",
       "      <td>Hleb</td>\n",
       "      <td>Aleksandr Hleb</td>\n",
       "      <td>2016</td>\n",
       "      <td>2696</td>\n",
       "      <td>aleksandr-hleb</td>\n",
       "      <td>UdSSR</td>\n",
       "      <td>Minsk</td>\n",
       "      <td>Belarus</td>\n",
       "      <td>...</td>\n",
       "      <td>NaN</td>\n",
       "      <td>NaN</td>\n",
       "      <td>NaN</td>\n",
       "      <td>19000000.0</td>\n",
       "      <td>NaN</td>\n",
       "      <td>fair-sport GmbH</td>\n",
       "      <td>https://img.a.transfermarkt.technology/portrai...</td>\n",
       "      <td>https://www.transfermarkt.co.uk/aleksandr-hleb...</td>\n",
       "      <td>RU1</td>\n",
       "      <td>Krylya Sovetov Samara</td>\n",
       "    </tr>\n",
       "    <tr>\n",
       "      <th>1</th>\n",
       "      <td>1428</td>\n",
       "      <td>Mike</td>\n",
       "      <td>Hanke</td>\n",
       "      <td>Mike Hanke</td>\n",
       "      <td>2013</td>\n",
       "      <td>60</td>\n",
       "      <td>mike-hanke</td>\n",
       "      <td>Germany</td>\n",
       "      <td>Hamm</td>\n",
       "      <td>Germany</td>\n",
       "      <td>...</td>\n",
       "      <td>right</td>\n",
       "      <td>185.0</td>\n",
       "      <td>NaN</td>\n",
       "      <td>5000000.0</td>\n",
       "      <td>NaN</td>\n",
       "      <td>NaN</td>\n",
       "      <td>https://img.a.transfermarkt.technology/portrai...</td>\n",
       "      <td>https://www.transfermarkt.co.uk/mike-hanke/pro...</td>\n",
       "      <td>L1</td>\n",
       "      <td>SC Freiburg</td>\n",
       "    </tr>\n",
       "    <tr>\n",
       "      <th>2</th>\n",
       "      <td>1560</td>\n",
       "      <td>Youssef</td>\n",
       "      <td>El Akchaoui</td>\n",
       "      <td>Youssef El Akchaoui</td>\n",
       "      <td>2012</td>\n",
       "      <td>306</td>\n",
       "      <td>youssef-el-akchaoui</td>\n",
       "      <td>Netherlands</td>\n",
       "      <td>Dordrecht</td>\n",
       "      <td>Morocco</td>\n",
       "      <td>...</td>\n",
       "      <td>NaN</td>\n",
       "      <td>NaN</td>\n",
       "      <td>NaN</td>\n",
       "      <td>1750000.0</td>\n",
       "      <td>NaN</td>\n",
       "      <td>NaN</td>\n",
       "      <td>https://img.a.transfermarkt.technology/portrai...</td>\n",
       "      <td>https://www.transfermarkt.co.uk/youssef-el-akc...</td>\n",
       "      <td>NL1</td>\n",
       "      <td>SC Heerenveen</td>\n",
       "    </tr>\n",
       "    <tr>\n",
       "      <th>3</th>\n",
       "      <td>1587</td>\n",
       "      <td>Mario</td>\n",
       "      <td>Eggimann</td>\n",
       "      <td>Mario Eggimann</td>\n",
       "      <td>2012</td>\n",
       "      <td>42</td>\n",
       "      <td>mario-eggimann</td>\n",
       "      <td>Switzerland</td>\n",
       "      <td>Brugg</td>\n",
       "      <td>Switzerland</td>\n",
       "      <td>...</td>\n",
       "      <td>right</td>\n",
       "      <td>190.0</td>\n",
       "      <td>NaN</td>\n",
       "      <td>3000000.0</td>\n",
       "      <td>NaN</td>\n",
       "      <td>NaN</td>\n",
       "      <td>https://img.a.transfermarkt.technology/portrai...</td>\n",
       "      <td>https://www.transfermarkt.co.uk/mario-eggimann...</td>\n",
       "      <td>L1</td>\n",
       "      <td>NaN</td>\n",
       "    </tr>\n",
       "    <tr>\n",
       "      <th>4</th>\n",
       "      <td>1726</td>\n",
       "      <td>Heiko</td>\n",
       "      <td>Westermann</td>\n",
       "      <td>Heiko Westermann</td>\n",
       "      <td>2016</td>\n",
       "      <td>610</td>\n",
       "      <td>heiko-westermann</td>\n",
       "      <td>Germany</td>\n",
       "      <td>Alzenau</td>\n",
       "      <td>Germany</td>\n",
       "      <td>...</td>\n",
       "      <td>right</td>\n",
       "      <td>190.0</td>\n",
       "      <td>NaN</td>\n",
       "      <td>9000000.0</td>\n",
       "      <td>NaN</td>\n",
       "      <td>NaN</td>\n",
       "      <td>https://img.a.transfermarkt.technology/portrai...</td>\n",
       "      <td>https://www.transfermarkt.co.uk/heiko-westerma...</td>\n",
       "      <td>NL1</td>\n",
       "      <td>Ajax Amsterdam</td>\n",
       "    </tr>\n",
       "  </tbody>\n",
       "</table>\n",
       "<p>5 rows × 23 columns</p>\n",
       "</div>"
      ],
      "text/plain": [
       "   player_id first_name    last_name                 name  last_season  \\\n",
       "0        597  Aleksandr         Hleb       Aleksandr Hleb         2016   \n",
       "1       1428       Mike        Hanke           Mike Hanke         2013   \n",
       "2       1560    Youssef  El Akchaoui  Youssef El Akchaoui         2012   \n",
       "3       1587      Mario     Eggimann       Mario Eggimann         2012   \n",
       "4       1726      Heiko   Westermann     Heiko Westermann         2016   \n",
       "\n",
       "   current_club_id          player_code country_of_birth city_of_birth  \\\n",
       "0             2696       aleksandr-hleb            UdSSR         Minsk   \n",
       "1               60           mike-hanke          Germany          Hamm   \n",
       "2              306  youssef-el-akchaoui      Netherlands     Dordrecht   \n",
       "3               42       mario-eggimann      Switzerland         Brugg   \n",
       "4              610     heiko-westermann          Germany       Alzenau   \n",
       "\n",
       "  country_of_citizenship  ...   foot height_in_cm market_value_in_eur  \\\n",
       "0                Belarus  ...    NaN          NaN                 NaN   \n",
       "1                Germany  ...  right        185.0                 NaN   \n",
       "2                Morocco  ...    NaN          NaN                 NaN   \n",
       "3            Switzerland  ...  right        190.0                 NaN   \n",
       "4                Germany  ...  right        190.0                 NaN   \n",
       "\n",
       "  highest_market_value_in_eur  contract_expiration_date       agent_name  \\\n",
       "0                  19000000.0                       NaN  fair-sport GmbH   \n",
       "1                   5000000.0                       NaN              NaN   \n",
       "2                   1750000.0                       NaN              NaN   \n",
       "3                   3000000.0                       NaN              NaN   \n",
       "4                   9000000.0                       NaN              NaN   \n",
       "\n",
       "                                           image_url  \\\n",
       "0  https://img.a.transfermarkt.technology/portrai...   \n",
       "1  https://img.a.transfermarkt.technology/portrai...   \n",
       "2  https://img.a.transfermarkt.technology/portrai...   \n",
       "3  https://img.a.transfermarkt.technology/portrai...   \n",
       "4  https://img.a.transfermarkt.technology/portrai...   \n",
       "\n",
       "                                                 url  \\\n",
       "0  https://www.transfermarkt.co.uk/aleksandr-hleb...   \n",
       "1  https://www.transfermarkt.co.uk/mike-hanke/pro...   \n",
       "2  https://www.transfermarkt.co.uk/youssef-el-akc...   \n",
       "3  https://www.transfermarkt.co.uk/mario-eggimann...   \n",
       "4  https://www.transfermarkt.co.uk/heiko-westerma...   \n",
       "\n",
       "  current_club_domestic_competition_id      current_club_name  \n",
       "0                                  RU1  Krylya Sovetov Samara  \n",
       "1                                   L1            SC Freiburg  \n",
       "2                                  NL1          SC Heerenveen  \n",
       "3                                   L1                    NaN  \n",
       "4                                  NL1         Ajax Amsterdam  \n",
       "\n",
       "[5 rows x 23 columns]"
      ]
     },
     "metadata": {},
     "output_type": "display_data"
    },
    {
     "name": "stdout",
     "output_type": "stream",
     "text": [
      "Info for player_valuations:\n",
      "<class 'pandas.core.frame.DataFrame'>\n",
      "RangeIndex: 424323 entries, 0 to 424322\n",
      "Data columns (total 9 columns):\n",
      " #   Column                               Non-Null Count   Dtype \n",
      "---  ------                               --------------   ----- \n",
      " 0   player_id                            424323 non-null  int64 \n",
      " 1   last_season                          424323 non-null  int64 \n",
      " 2   datetime                             424323 non-null  object\n",
      " 3   date                                 424323 non-null  object\n",
      " 4   dateweek                             424323 non-null  object\n",
      " 5   market_value_in_eur                  424323 non-null  int64 \n",
      " 6   n                                    424323 non-null  int64 \n",
      " 7   current_club_id                      424323 non-null  int64 \n",
      " 8   player_club_domestic_competition_id  424323 non-null  object\n",
      "dtypes: int64(5), object(4)\n",
      "memory usage: 29.1+ MB\n",
      "None\n",
      "\n",
      "Head of player_valuations:\n"
     ]
    },
    {
     "data": {
      "text/html": [
       "<div>\n",
       "<style scoped>\n",
       "    .dataframe tbody tr th:only-of-type {\n",
       "        vertical-align: middle;\n",
       "    }\n",
       "\n",
       "    .dataframe tbody tr th {\n",
       "        vertical-align: top;\n",
       "    }\n",
       "\n",
       "    .dataframe thead th {\n",
       "        text-align: right;\n",
       "    }\n",
       "</style>\n",
       "<table border=\"1\" class=\"dataframe\">\n",
       "  <thead>\n",
       "    <tr style=\"text-align: right;\">\n",
       "      <th></th>\n",
       "      <th>player_id</th>\n",
       "      <th>last_season</th>\n",
       "      <th>datetime</th>\n",
       "      <th>date</th>\n",
       "      <th>dateweek</th>\n",
       "      <th>market_value_in_eur</th>\n",
       "      <th>n</th>\n",
       "      <th>current_club_id</th>\n",
       "      <th>player_club_domestic_competition_id</th>\n",
       "    </tr>\n",
       "  </thead>\n",
       "  <tbody>\n",
       "    <tr>\n",
       "      <th>0</th>\n",
       "      <td>3132</td>\n",
       "      <td>2013</td>\n",
       "      <td>2003-12-09 00:00:00</td>\n",
       "      <td>2003-12-09</td>\n",
       "      <td>2003-12-08</td>\n",
       "      <td>400000</td>\n",
       "      <td>1</td>\n",
       "      <td>126</td>\n",
       "      <td>TR1</td>\n",
       "    </tr>\n",
       "    <tr>\n",
       "      <th>1</th>\n",
       "      <td>6893</td>\n",
       "      <td>2012</td>\n",
       "      <td>2003-12-15 00:00:00</td>\n",
       "      <td>2003-12-15</td>\n",
       "      <td>2003-12-15</td>\n",
       "      <td>900000</td>\n",
       "      <td>1</td>\n",
       "      <td>984</td>\n",
       "      <td>GB1</td>\n",
       "    </tr>\n",
       "    <tr>\n",
       "      <th>2</th>\n",
       "      <td>10</td>\n",
       "      <td>2015</td>\n",
       "      <td>2004-10-04 00:00:00</td>\n",
       "      <td>2004-10-04</td>\n",
       "      <td>2004-10-04</td>\n",
       "      <td>7000000</td>\n",
       "      <td>1</td>\n",
       "      <td>398</td>\n",
       "      <td>IT1</td>\n",
       "    </tr>\n",
       "    <tr>\n",
       "      <th>3</th>\n",
       "      <td>26</td>\n",
       "      <td>2017</td>\n",
       "      <td>2004-10-04 00:00:00</td>\n",
       "      <td>2004-10-04</td>\n",
       "      <td>2004-10-04</td>\n",
       "      <td>1500000</td>\n",
       "      <td>1</td>\n",
       "      <td>16</td>\n",
       "      <td>L1</td>\n",
       "    </tr>\n",
       "    <tr>\n",
       "      <th>4</th>\n",
       "      <td>65</td>\n",
       "      <td>2015</td>\n",
       "      <td>2004-10-04 00:00:00</td>\n",
       "      <td>2004-10-04</td>\n",
       "      <td>2004-10-04</td>\n",
       "      <td>8000000</td>\n",
       "      <td>1</td>\n",
       "      <td>1091</td>\n",
       "      <td>GR1</td>\n",
       "    </tr>\n",
       "  </tbody>\n",
       "</table>\n",
       "</div>"
      ],
      "text/plain": [
       "   player_id  last_season             datetime        date    dateweek  \\\n",
       "0       3132         2013  2003-12-09 00:00:00  2003-12-09  2003-12-08   \n",
       "1       6893         2012  2003-12-15 00:00:00  2003-12-15  2003-12-15   \n",
       "2         10         2015  2004-10-04 00:00:00  2004-10-04  2004-10-04   \n",
       "3         26         2017  2004-10-04 00:00:00  2004-10-04  2004-10-04   \n",
       "4         65         2015  2004-10-04 00:00:00  2004-10-04  2004-10-04   \n",
       "\n",
       "   market_value_in_eur  n  current_club_id player_club_domestic_competition_id  \n",
       "0               400000  1              126                                 TR1  \n",
       "1               900000  1              984                                 GB1  \n",
       "2              7000000  1              398                                 IT1  \n",
       "3              1500000  1               16                                  L1  \n",
       "4              8000000  1             1091                                 GR1  "
      ]
     },
     "metadata": {},
     "output_type": "display_data"
    }
   ],
   "source": [
    "for i,j in df.items():\n",
    "    print(f\"Info for {i}:\")\n",
    "    print(j.info())\n",
    "    print(f\"\\nHead of {i}:\")\n",
    "    display(j.head())"
   ]
  },
  {
   "cell_type": "markdown",
   "id": "90a32b89-9528-4718-a420-a268c4eabf9f",
   "metadata": {},
   "source": [
    "## Player Club Appearances Overview"
   ]
  },
  {
   "cell_type": "markdown",
   "id": "1d2d35e0-7134-4ce6-9e77-c6e3094b6918",
   "metadata": {},
   "source": [
    "This section of the analysis focuses on determining the frequency of player appearances for each club. By correlating player appearances with club , insights into player performance and club engagement are unveiled. The Aggregated player appearances are presented to illustrate the frequency of matches played by each player for their respective clubs."
   ]
  },
  {
   "cell_type": "code",
   "execution_count": 39,
   "id": "206320f5-6e8d-497b-8346-7ced76916a7a",
   "metadata": {},
   "outputs": [
    {
     "data": {
      "text/html": [
       "<div>\n",
       "<style scoped>\n",
       "    .dataframe tbody tr th:only-of-type {\n",
       "        vertical-align: middle;\n",
       "    }\n",
       "\n",
       "    .dataframe tbody tr th {\n",
       "        vertical-align: top;\n",
       "    }\n",
       "\n",
       "    .dataframe thead th {\n",
       "        text-align: right;\n",
       "    }\n",
       "</style>\n",
       "<table border=\"1\" class=\"dataframe\">\n",
       "  <thead>\n",
       "    <tr style=\"text-align: right;\">\n",
       "      <th></th>\n",
       "      <th></th>\n",
       "      <th>No. of Matches</th>\n",
       "    </tr>\n",
       "    <tr>\n",
       "      <th>player_name</th>\n",
       "      <th>name</th>\n",
       "      <th></th>\n",
       "    </tr>\n",
       "  </thead>\n",
       "  <tbody>\n",
       "    <tr>\n",
       "      <th>Sergio Busquets</th>\n",
       "      <th>FC Barcelona</th>\n",
       "      <td>421</td>\n",
       "    </tr>\n",
       "    <tr>\n",
       "      <th>Thomas Müller</th>\n",
       "      <th>Bayern Munich</th>\n",
       "      <td>403</td>\n",
       "    </tr>\n",
       "    <tr>\n",
       "      <th>Koke</th>\n",
       "      <th>Atlético de Madrid</th>\n",
       "      <td>403</td>\n",
       "    </tr>\n",
       "    <tr>\n",
       "      <th>Toni Kroos</th>\n",
       "      <th>Real Madrid</th>\n",
       "      <td>397</td>\n",
       "    </tr>\n",
       "    <tr>\n",
       "      <th>David de Gea</th>\n",
       "      <th>Manchester United</th>\n",
       "      <td>393</td>\n",
       "    </tr>\n",
       "    <tr>\n",
       "      <th>...</th>\n",
       "      <th>...</th>\n",
       "      <td>...</td>\n",
       "    </tr>\n",
       "    <tr>\n",
       "      <th>Rafael Forster</th>\n",
       "      <th>Fenerbahce</th>\n",
       "      <td>2</td>\n",
       "    </tr>\n",
       "    <tr>\n",
       "      <th>Orest Lebedenko</th>\n",
       "      <th>Shakhtar Donetsk</th>\n",
       "      <td>2</td>\n",
       "    </tr>\n",
       "    <tr>\n",
       "      <th>Tarik Elyounoussi</th>\n",
       "      <th>SC Freiburg</th>\n",
       "      <td>2</td>\n",
       "    </tr>\n",
       "    <tr>\n",
       "      <th>Giovani Lo Celso</th>\n",
       "      <th>Crystal Palace</th>\n",
       "      <td>2</td>\n",
       "    </tr>\n",
       "    <tr>\n",
       "      <th>Rafael Forster</th>\n",
       "      <th>Manchester United</th>\n",
       "      <td>2</td>\n",
       "    </tr>\n",
       "  </tbody>\n",
       "</table>\n",
       "<p>193637 rows × 1 columns</p>\n",
       "</div>"
      ],
      "text/plain": [
       "                                      No. of Matches\n",
       "player_name       name                              \n",
       "Sergio Busquets   FC Barcelona                   421\n",
       "Thomas Müller     Bayern Munich                  403\n",
       "Koke              Atlético de Madrid             403\n",
       "Toni Kroos        Real Madrid                    397\n",
       "David de Gea      Manchester United              393\n",
       "...                                              ...\n",
       "Rafael Forster    Fenerbahce                       2\n",
       "Orest Lebedenko   Shakhtar Donetsk                 2\n",
       "Tarik Elyounoussi SC Freiburg                      2\n",
       "Giovani Lo Celso  Crystal Palace                   2\n",
       "Rafael Forster    Manchester United                2\n",
       "\n",
       "[193637 rows x 1 columns]"
      ]
     },
     "metadata": {},
     "output_type": "display_data"
    }
   ],
   "source": [
    "club_p=pd.merge(appearances[[\"appearance_id\",\"game_id\",\"player_name\"]],club_games[['game_id','club_id']],on=\"game_id\",how=\"left\")\n",
    "club_p=club_p.dropna().drop(columns=\"game_id\")\n",
    "club_p=pd.merge(club_p,clubs[['club_id','name']],on=\"club_id\",how=\"left\")\n",
    "club_p=pd.pivot_table(club_p,index=[\"player_name\",\"name\"],values=\"appearance_id\",aggfunc=\"count\").sort_values(\"appearance_id\",ascending=False)\n",
    "club_p.columns=['No. of Matches']\n",
    "display(club_p[club_p['No. of Matches']>1])"
   ]
  },
  {
   "cell_type": "markdown",
   "id": "3f180cc6-78fd-4418-accc-0b689a16b312",
   "metadata": {},
   "source": [
    "This unveils the vast disparity in appearances, with some players having minimal contributions, as illustrated by **Rafael Forster's** two appearances for both Fenerbahce and Manchester United whereas **Sergio Busquets** 421 appearances for FC Barcelona."
   ]
  },
  {
   "cell_type": "code",
   "execution_count": 40,
   "id": "0f12e83c-e814-427d-8af8-a9a4e2798a58",
   "metadata": {},
   "outputs": [
    {
     "data": {
      "text/html": [
       "<div>\n",
       "<style scoped>\n",
       "    .dataframe tbody tr th:only-of-type {\n",
       "        vertical-align: middle;\n",
       "    }\n",
       "\n",
       "    .dataframe tbody tr th {\n",
       "        vertical-align: top;\n",
       "    }\n",
       "\n",
       "    .dataframe thead th {\n",
       "        text-align: right;\n",
       "    }\n",
       "</style>\n",
       "<table border=\"1\" class=\"dataframe\">\n",
       "  <thead>\n",
       "    <tr style=\"text-align: right;\">\n",
       "      <th></th>\n",
       "      <th></th>\n",
       "      <th>No. of Matches</th>\n",
       "    </tr>\n",
       "    <tr>\n",
       "      <th>player_name</th>\n",
       "      <th>name</th>\n",
       "      <th></th>\n",
       "    </tr>\n",
       "  </thead>\n",
       "  <tbody>\n",
       "    <tr>\n",
       "      <th>A.J. Soares</th>\n",
       "      <th>Aarhus GF</th>\n",
       "      <td>6</td>\n",
       "    </tr>\n",
       "    <tr>\n",
       "      <th rowspan=\"8\" valign=\"top\">AJ Leitch-Smith</th>\n",
       "      <th>Aberdeen FC</th>\n",
       "      <td>2</td>\n",
       "    </tr>\n",
       "    <tr>\n",
       "      <th>Motherwell FC</th>\n",
       "      <td>4</td>\n",
       "    </tr>\n",
       "    <tr>\n",
       "      <th>Hibernian FC</th>\n",
       "      <td>2</td>\n",
       "    </tr>\n",
       "    <tr>\n",
       "      <th>Kilmarnock FC</th>\n",
       "      <td>2</td>\n",
       "    </tr>\n",
       "    <tr>\n",
       "      <th>St. Johnstone FC</th>\n",
       "      <td>3</td>\n",
       "    </tr>\n",
       "    <tr>\n",
       "      <th>Heart of Midlothian FC</th>\n",
       "      <td>3</td>\n",
       "    </tr>\n",
       "    <tr>\n",
       "      <th>Rangers FC</th>\n",
       "      <td>2</td>\n",
       "    </tr>\n",
       "    <tr>\n",
       "      <th>Celtic FC</th>\n",
       "      <td>3</td>\n",
       "    </tr>\n",
       "    <tr>\n",
       "      <th rowspan=\"11\" valign=\"top\">Aaron Appindangoyé</th>\n",
       "      <th>Sivasspor</th>\n",
       "      <td>69</td>\n",
       "    </tr>\n",
       "    <tr>\n",
       "      <th>Gaziantep FK</th>\n",
       "      <td>3</td>\n",
       "    </tr>\n",
       "    <tr>\n",
       "      <th>Alanyaspor</th>\n",
       "      <td>4</td>\n",
       "    </tr>\n",
       "    <tr>\n",
       "      <th>Fatih Karagümrük</th>\n",
       "      <td>2</td>\n",
       "    </tr>\n",
       "    <tr>\n",
       "      <th>Giresunspor</th>\n",
       "      <td>2</td>\n",
       "    </tr>\n",
       "    <tr>\n",
       "      <th>Hatayspor</th>\n",
       "      <td>2</td>\n",
       "    </tr>\n",
       "    <tr>\n",
       "      <th>Kayserispor</th>\n",
       "      <td>2</td>\n",
       "    </tr>\n",
       "    <tr>\n",
       "      <th>Fenerbahce</th>\n",
       "      <td>4</td>\n",
       "    </tr>\n",
       "    <tr>\n",
       "      <th>Basaksehir FK</th>\n",
       "      <td>4</td>\n",
       "    </tr>\n",
       "    <tr>\n",
       "      <th>Konyaspor</th>\n",
       "      <td>3</td>\n",
       "    </tr>\n",
       "    <tr>\n",
       "      <th>Antalyaspor</th>\n",
       "      <td>4</td>\n",
       "    </tr>\n",
       "  </tbody>\n",
       "</table>\n",
       "</div>"
      ],
      "text/plain": [
       "                                           No. of Matches\n",
       "player_name        name                                  \n",
       "A.J. Soares        Aarhus GF                            6\n",
       "AJ Leitch-Smith    Aberdeen FC                          2\n",
       "                   Motherwell FC                        4\n",
       "                   Hibernian FC                         2\n",
       "                   Kilmarnock FC                        2\n",
       "                   St. Johnstone FC                     3\n",
       "                   Heart of Midlothian FC               3\n",
       "                   Rangers FC                           2\n",
       "                   Celtic FC                            3\n",
       "Aaron Appindangoyé Sivasspor                           69\n",
       "                   Gaziantep FK                         3\n",
       "                   Alanyaspor                           4\n",
       "                   Fatih Karagümrük                     2\n",
       "                   Giresunspor                          2\n",
       "                   Hatayspor                            2\n",
       "                   Kayserispor                          2\n",
       "                   Fenerbahce                           4\n",
       "                   Basaksehir FK                        4\n",
       "                   Konyaspor                            3\n",
       "                   Antalyaspor                          4"
      ]
     },
     "metadata": {},
     "output_type": "display_data"
    }
   ],
   "source": [
    "display(club_p[club_p['No. of Matches']>1].sort_values(by=\"player_name\").head(20))"
   ]
  },
  {
   "cell_type": "markdown",
   "id": "b9243a1a-82f0-4559-a067-c577ff03a12d",
   "metadata": {},
   "source": [
    "This shows the no. of matches played by individual player for individual clubs."
   ]
  },
  {
   "cell_type": "markdown",
   "id": "ce3bb1f0-7703-4b8b-81e9-374b542099de",
   "metadata": {},
   "source": [
    "These insights into player loyalty and performance within specific club provides valuable information for team management and strategic decision-making, facilitating a deeper understanding of player contributions to their clubs."
   ]
  },
  {
   "cell_type": "markdown",
   "id": "1f122e75-7d33-4b2a-9419-00ceca72bec7",
   "metadata": {},
   "source": [
    "## Player Height Distribution Analysis for Centre-Forwards"
   ]
  },
  {
   "cell_type": "markdown",
   "id": "c45598e3-96e3-42e2-893a-c4868498bc23",
   "metadata": {},
   "source": [
    "This section delves into the distribution of player heights, with a specific focus on <u>Centre-Forwards</u>. The dataset is segmented into five distinct height bins The analysis presents both the percentage of players and the count of players within each height bin, shedding light on the prevalent physical attributes among Centre-Forwards. We chose to look only at Centre-Forwards because their position in football often relies on height for key skills like winning aerial duels, holding up the ball, and scoring from crosses."
   ]
  },
  {
   "cell_type": "code",
   "execution_count": 41,
   "id": "076ed9dc-e397-4798-804b-b9d571b3e5d2",
   "metadata": {},
   "outputs": [
    {
     "data": {
      "text/html": [
       "<div>\n",
       "<style scoped>\n",
       "    .dataframe tbody tr th:only-of-type {\n",
       "        vertical-align: middle;\n",
       "    }\n",
       "\n",
       "    .dataframe tbody tr th {\n",
       "        vertical-align: top;\n",
       "    }\n",
       "\n",
       "    .dataframe thead th {\n",
       "        text-align: right;\n",
       "    }\n",
       "</style>\n",
       "<table border=\"1\" class=\"dataframe\">\n",
       "  <thead>\n",
       "    <tr style=\"text-align: right;\">\n",
       "      <th>col_0</th>\n",
       "      <th>Percentage of players</th>\n",
       "      <th>Count of players</th>\n",
       "    </tr>\n",
       "    <tr>\n",
       "      <th>height_bin</th>\n",
       "      <th></th>\n",
       "      <th></th>\n",
       "    </tr>\n",
       "  </thead>\n",
       "  <tbody>\n",
       "    <tr>\n",
       "      <th>(162.959, 171.2]</th>\n",
       "      <td>2.433281</td>\n",
       "      <td>93</td>\n",
       "    </tr>\n",
       "    <tr>\n",
       "      <th>(171.2, 179.4]</th>\n",
       "      <td>17.425432</td>\n",
       "      <td>666</td>\n",
       "    </tr>\n",
       "    <tr>\n",
       "      <th>(179.4, 187.6]</th>\n",
       "      <td>52.982732</td>\n",
       "      <td>2025</td>\n",
       "    </tr>\n",
       "    <tr>\n",
       "      <th>(187.6, 195.8]</th>\n",
       "      <td>25.327054</td>\n",
       "      <td>968</td>\n",
       "    </tr>\n",
       "    <tr>\n",
       "      <th>(195.8, 204.0]</th>\n",
       "      <td>1.831502</td>\n",
       "      <td>70</td>\n",
       "    </tr>\n",
       "  </tbody>\n",
       "</table>\n",
       "</div>"
      ],
      "text/plain": [
       "col_0             Percentage of players  Count of players\n",
       "height_bin                                               \n",
       "(162.959, 171.2]               2.433281                93\n",
       "(171.2, 179.4]                17.425432               666\n",
       "(179.4, 187.6]                52.982732              2025\n",
       "(187.6, 195.8]                25.327054               968\n",
       "(195.8, 204.0]                 1.831502                70"
      ]
     },
     "metadata": {},
     "output_type": "display_data"
    }
   ],
   "source": [
    "players[\"height_bin\"]=pd.cut(players[players['sub_position']==\"Centre-Forward\"]['height_in_cm'],bins=5)\n",
    "ply_h=pd.crosstab(index=players[\"height_bin\"], columns='Percentage of players',normalize=True)*100\n",
    "ply_h['Count of players']=pd.crosstab(index=players[\"height_bin\"], columns='Count of players')['Count of players']\n",
    "display(ply_h)"
   ]
  },
  {
   "cell_type": "markdown",
   "id": "eefe16ba-dd18-4ed8-bf67-857ec572d2bb",
   "metadata": {},
   "source": [
    "The contingency table above reveals that the majority of Centre-Forwards fall within the height range of 179.4 cm to 187.6 cm, constituting approximately 52.98% of the total players in this position.\n",
    "\n",
    "The analysis underscores the dominant height range among Centre-Forwards, providing valuable insights for talent scouting, team formation strategies, and understanding the physical demands specific to this critical position in football"
   ]
  },
  {
   "cell_type": "markdown",
   "id": "55af8baa-8b4e-43df-8d38-b1542ac05026",
   "metadata": {},
   "source": [
    "## Analyzing Player Mobility and Transfer Frequencies"
   ]
  },
  {
   "cell_type": "markdown",
   "id": "9d2fe745-9d72-44bd-b4e0-567d22fd0ded",
   "metadata": {},
   "source": [
    "The analysis delves into the transfer activity of football players, specifically focusing on those with more than three transfers. By merging the player valuations and appearances datasets, the goal is to explore the frequency of transfers among these players and identify any notable patterns or trends."
   ]
  },
  {
   "cell_type": "code",
   "execution_count": 42,
   "id": "c20687c9-8029-47e7-863e-2c3ab80ba0b3",
   "metadata": {},
   "outputs": [
    {
     "name": "stdout",
     "output_type": "stream",
     "text": [
      "Player:  Alex\n",
      "No. of transfers: 5\n",
      "\n",
      "\n",
      "Player:  Bruninho\n",
      "No. of transfers: 5\n",
      "\n",
      "\n",
      "Player:  Charles\n",
      "No. of transfers: 4\n",
      "\n",
      "\n",
      "Player:  Danilo\n",
      "No. of transfers: 6\n",
      "\n",
      "\n",
      "Player:  Douglas\n",
      "No. of transfers: 5\n",
      "\n",
      "\n",
      "Player:  Eduardo\n",
      "No. of transfers: 4\n",
      "\n",
      "\n",
      "Player:  Fernando\n",
      "No. of transfers: 4\n",
      "\n",
      "\n",
      "Player:  Guilherme\n",
      "No. of transfers: 7\n",
      "\n",
      "\n",
      "Player:  João Pedro\n",
      "No. of transfers: 7\n",
      "\n",
      "\n",
      "Player:  Paulinho\n",
      "No. of transfers: 9\n",
      "\n",
      "\n",
      "Player:  Rafinha\n",
      "No. of transfers: 4\n",
      "\n",
      "\n",
      "Player:  Serginho\n",
      "No. of transfers: 4\n",
      "\n",
      "\n",
      "Player:  Wanderson\n",
      "No. of transfers: 4\n",
      "\n",
      "\n",
      "Player:  William\n",
      "No. of transfers: 4\n",
      "\n",
      "\n"
     ]
    }
   ],
   "source": [
    "m=pd.merge(player_valuations,appearances[['player_id','player_name']],on=\"player_id\",how=\"inner\").dropna(subset=\"player_name\")\n",
    "player_data=m\n",
    "player_groups = player_data.groupby('player_name')['player_id'].nunique()\n",
    "filtered_players = player_groups[player_groups > 3]\n",
    "club_t = {name: player_data[player_data['player_name'] == name]['player_id'].nunique() for name in filtered_players.index}\n",
    "for i,j in club_t.items():\n",
    "    print(\"Player: \",i)\n",
    "    print(\"No. of transfers:\",j)\n",
    "    print(\"\\n\")"
   ]
  },
  {
   "cell_type": "markdown",
   "id": "0428dfbf-d212-48a7-832e-2c4d45bff9ee",
   "metadata": {},
   "source": [
    "Noteworthy findings include players like Alex and Bruninho, each boasting five transfers, and Paulinho, with an impressive tally of nine transfers."
   ]
  },
  {
   "cell_type": "code",
   "execution_count": 43,
   "id": "fde8ffd1-cdf8-4ba3-a2d8-9ce88c01f136",
   "metadata": {},
   "outputs": [
    {
     "data": {
      "image/png": "[encoded data removed]",
      "text/plain": [
       "<Figure size 800x550 with 1 Axes>"
      ]
     },
     "metadata": {},
     "output_type": "display_data"
    }
   ],
   "source": [
    "data = pd.DataFrame(club_t.items(),columns=['Player Name',\"No. of Transfers\"])\n",
    "plt.style.use(\"seaborn-v0_8\")\n",
    "sns.barplot(data=data[data['No. of Transfers']>4],x='Player Name',y='No. of Transfers')\n",
    "plt.savefig(\"Tranfers\")"
   ]
  },
  {
   "cell_type": "code",
   "execution_count": 44,
   "id": "0aaebda8-4a85-4970-9f93-d2be1df0c1e3",
   "metadata": {},
   "outputs": [
    {
     "data": {
      "text/html": [
       "<div>\n",
       "<style scoped>\n",
       "    .dataframe tbody tr th:only-of-type {\n",
       "        vertical-align: middle;\n",
       "    }\n",
       "\n",
       "    .dataframe tbody tr th {\n",
       "        vertical-align: top;\n",
       "    }\n",
       "\n",
       "    .dataframe thead th {\n",
       "        text-align: right;\n",
       "    }\n",
       "</style>\n",
       "<table border=\"1\" class=\"dataframe\">\n",
       "  <thead>\n",
       "    <tr style=\"text-align: right;\">\n",
       "      <th>No. of Transfers</th>\n",
       "      <th>Percentage of players</th>\n",
       "    </tr>\n",
       "    <tr>\n",
       "      <th>player_id</th>\n",
       "      <th></th>\n",
       "    </tr>\n",
       "  </thead>\n",
       "  <tbody>\n",
       "    <tr>\n",
       "      <th>1</th>\n",
       "      <td>98.682590</td>\n",
       "    </tr>\n",
       "    <tr>\n",
       "      <th>2</th>\n",
       "      <td>1.076421</td>\n",
       "    </tr>\n",
       "    <tr>\n",
       "      <th>3</th>\n",
       "      <td>0.166015</td>\n",
       "    </tr>\n",
       "    <tr>\n",
       "      <th>4</th>\n",
       "      <td>0.037487</td>\n",
       "    </tr>\n",
       "    <tr>\n",
       "      <th>5</th>\n",
       "      <td>0.016066</td>\n",
       "    </tr>\n",
       "    <tr>\n",
       "      <th>6</th>\n",
       "      <td>0.005355</td>\n",
       "    </tr>\n",
       "    <tr>\n",
       "      <th>7</th>\n",
       "      <td>0.010711</td>\n",
       "    </tr>\n",
       "    <tr>\n",
       "      <th>9</th>\n",
       "      <td>0.005355</td>\n",
       "    </tr>\n",
       "  </tbody>\n",
       "</table>\n",
       "</div>"
      ],
      "text/plain": [
       "No. of Transfers  Percentage of players\n",
       "player_id                              \n",
       "1                             98.682590\n",
       "2                              1.076421\n",
       "3                              0.166015\n",
       "4                              0.037487\n",
       "5                              0.016066\n",
       "6                              0.005355\n",
       "7                              0.010711\n",
       "9                              0.005355"
      ]
     },
     "execution_count": 44,
     "metadata": {},
     "output_type": "execute_result"
    }
   ],
   "source": [
    "play_grp=player_data.groupby('player_name')['player_id'].nunique().reset_index()\n",
    "pd.crosstab(index=play_grp['player_id'],columns=\"Percentage of players\",normalize=True,colnames=['No. of Transfers'])*100"
   ]
  },
  {
   "cell_type": "markdown",
   "id": "0db76307-48cd-410e-ab79-c5cc93c65d92",
   "metadata": {},
   "source": [
    "The contingency table abover shows that majority of players (98.68%) have experienced only one transfer , indicating limited movement in their careers.\n",
    "A small proportion of players (less than 2%) have undergone multiple transfers, suggesting higher mobility or volatility in their professional carrers\n",
    "This findings sheds light on the mobility and market dynamics within the football industry, providing valuable insights into the transfer activity of players."
   ]
  },
  {
   "cell_type": "markdown",
   "id": "15923f44-6892-4e54-adad-bcb452d2a0b9",
   "metadata": {},
   "source": [
    "##  Player Market Value Trends Over Time"
   ]
  },
  {
   "cell_type": "markdown",
   "id": "e38ad591-abbe-4f07-9b50-58a22a12bf4b",
   "metadata": {},
   "source": [
    "The objective of this analysis is to examine the historical market valuation trends of football players over time. By merging player data with valuation records, we aim to gain insights into the fluctuations in market value across different seasons.The main analysis involves visualizing market valuations using `Plotly Dash`, allowing users to select specific players and observe their valuation trends over the years. Insights derived from the analysis include identifying trends in player valuation changes and exploring correlations between player performance metrics and market valuation. "
   ]
  },
  {
   "cell_type": "code",
   "execution_count": 45,
   "id": "c55e83ae-567c-40c3-b99e-56b21bacf55e",
   "metadata": {},
   "outputs": [
    {
     "data": {
      "text/html": [
       "<div>\n",
       "<style scoped>\n",
       "    .dataframe tbody tr th:only-of-type {\n",
       "        vertical-align: middle;\n",
       "    }\n",
       "\n",
       "    .dataframe tbody tr th {\n",
       "        vertical-align: top;\n",
       "    }\n",
       "\n",
       "    .dataframe thead th {\n",
       "        text-align: right;\n",
       "    }\n",
       "</style>\n",
       "<table border=\"1\" class=\"dataframe\">\n",
       "  <thead>\n",
       "    <tr style=\"text-align: right;\">\n",
       "      <th></th>\n",
       "      <th>player_id</th>\n",
       "      <th>first_name</th>\n",
       "      <th>last_name</th>\n",
       "      <th>name</th>\n",
       "      <th>last_season</th>\n",
       "      <th>current_club_id</th>\n",
       "      <th>player_code</th>\n",
       "      <th>country_of_birth</th>\n",
       "      <th>city_of_birth</th>\n",
       "      <th>country_of_citizenship</th>\n",
       "      <th>...</th>\n",
       "      <th>height_in_cm</th>\n",
       "      <th>highest_market_value_in_eur</th>\n",
       "      <th>contract_expiration_date</th>\n",
       "      <th>competition_id</th>\n",
       "      <th>club_name</th>\n",
       "      <th>height_bin</th>\n",
       "      <th>date</th>\n",
       "      <th>dateweek</th>\n",
       "      <th>market_value_in_eur</th>\n",
       "      <th>year</th>\n",
       "    </tr>\n",
       "  </thead>\n",
       "  <tbody>\n",
       "    <tr>\n",
       "      <th>0</th>\n",
       "      <td>597</td>\n",
       "      <td>Aleksandr</td>\n",
       "      <td>Hleb</td>\n",
       "      <td>Aleksandr Hleb</td>\n",
       "      <td>2016</td>\n",
       "      <td>2696</td>\n",
       "      <td>aleksandr-hleb</td>\n",
       "      <td>UdSSR</td>\n",
       "      <td>Minsk</td>\n",
       "      <td>Belarus</td>\n",
       "      <td>...</td>\n",
       "      <td>NaN</td>\n",
       "      <td>19000000.0</td>\n",
       "      <td>NaN</td>\n",
       "      <td>RU1</td>\n",
       "      <td>Krylya Sovetov Samara</td>\n",
       "      <td>NaN</td>\n",
       "      <td>2004-10-04</td>\n",
       "      <td>2004-10-04</td>\n",
       "      <td>7500000</td>\n",
       "      <td>2004</td>\n",
       "    </tr>\n",
       "    <tr>\n",
       "      <th>1</th>\n",
       "      <td>597</td>\n",
       "      <td>Aleksandr</td>\n",
       "      <td>Hleb</td>\n",
       "      <td>Aleksandr Hleb</td>\n",
       "      <td>2016</td>\n",
       "      <td>2696</td>\n",
       "      <td>aleksandr-hleb</td>\n",
       "      <td>UdSSR</td>\n",
       "      <td>Minsk</td>\n",
       "      <td>Belarus</td>\n",
       "      <td>...</td>\n",
       "      <td>NaN</td>\n",
       "      <td>19000000.0</td>\n",
       "      <td>NaN</td>\n",
       "      <td>RU1</td>\n",
       "      <td>Krylya Sovetov Samara</td>\n",
       "      <td>NaN</td>\n",
       "      <td>2005-10-17</td>\n",
       "      <td>2005-10-17</td>\n",
       "      <td>10750000</td>\n",
       "      <td>2005</td>\n",
       "    </tr>\n",
       "    <tr>\n",
       "      <th>2</th>\n",
       "      <td>597</td>\n",
       "      <td>Aleksandr</td>\n",
       "      <td>Hleb</td>\n",
       "      <td>Aleksandr Hleb</td>\n",
       "      <td>2016</td>\n",
       "      <td>2696</td>\n",
       "      <td>aleksandr-hleb</td>\n",
       "      <td>UdSSR</td>\n",
       "      <td>Minsk</td>\n",
       "      <td>Belarus</td>\n",
       "      <td>...</td>\n",
       "      <td>NaN</td>\n",
       "      <td>19000000.0</td>\n",
       "      <td>NaN</td>\n",
       "      <td>RU1</td>\n",
       "      <td>Krylya Sovetov Samara</td>\n",
       "      <td>NaN</td>\n",
       "      <td>2006-06-14</td>\n",
       "      <td>2006-06-12</td>\n",
       "      <td>11250000</td>\n",
       "      <td>2006</td>\n",
       "    </tr>\n",
       "    <tr>\n",
       "      <th>3</th>\n",
       "      <td>597</td>\n",
       "      <td>Aleksandr</td>\n",
       "      <td>Hleb</td>\n",
       "      <td>Aleksandr Hleb</td>\n",
       "      <td>2016</td>\n",
       "      <td>2696</td>\n",
       "      <td>aleksandr-hleb</td>\n",
       "      <td>UdSSR</td>\n",
       "      <td>Minsk</td>\n",
       "      <td>Belarus</td>\n",
       "      <td>...</td>\n",
       "      <td>NaN</td>\n",
       "      <td>19000000.0</td>\n",
       "      <td>NaN</td>\n",
       "      <td>RU1</td>\n",
       "      <td>Krylya Sovetov Samara</td>\n",
       "      <td>NaN</td>\n",
       "      <td>2007-04-24</td>\n",
       "      <td>2007-04-23</td>\n",
       "      <td>11700000</td>\n",
       "      <td>2007</td>\n",
       "    </tr>\n",
       "    <tr>\n",
       "      <th>4</th>\n",
       "      <td>597</td>\n",
       "      <td>Aleksandr</td>\n",
       "      <td>Hleb</td>\n",
       "      <td>Aleksandr Hleb</td>\n",
       "      <td>2016</td>\n",
       "      <td>2696</td>\n",
       "      <td>aleksandr-hleb</td>\n",
       "      <td>UdSSR</td>\n",
       "      <td>Minsk</td>\n",
       "      <td>Belarus</td>\n",
       "      <td>...</td>\n",
       "      <td>NaN</td>\n",
       "      <td>19000000.0</td>\n",
       "      <td>NaN</td>\n",
       "      <td>RU1</td>\n",
       "      <td>Krylya Sovetov Samara</td>\n",
       "      <td>NaN</td>\n",
       "      <td>2007-09-01</td>\n",
       "      <td>2007-08-27</td>\n",
       "      <td>11500000</td>\n",
       "      <td>2007</td>\n",
       "    </tr>\n",
       "    <tr>\n",
       "      <th>...</th>\n",
       "      <td>...</td>\n",
       "      <td>...</td>\n",
       "      <td>...</td>\n",
       "      <td>...</td>\n",
       "      <td>...</td>\n",
       "      <td>...</td>\n",
       "      <td>...</td>\n",
       "      <td>...</td>\n",
       "      <td>...</td>\n",
       "      <td>...</td>\n",
       "      <td>...</td>\n",
       "      <td>...</td>\n",
       "      <td>...</td>\n",
       "      <td>...</td>\n",
       "      <td>...</td>\n",
       "      <td>...</td>\n",
       "      <td>...</td>\n",
       "      <td>...</td>\n",
       "      <td>...</td>\n",
       "      <td>...</td>\n",
       "      <td>...</td>\n",
       "    </tr>\n",
       "    <tr>\n",
       "      <th>424318</th>\n",
       "      <td>621911</td>\n",
       "      <td>Ekrem</td>\n",
       "      <td>Kayilibal</td>\n",
       "      <td>Ekrem Kayilibal</td>\n",
       "      <td>2021</td>\n",
       "      <td>2293</td>\n",
       "      <td>ekrem-kayilibal</td>\n",
       "      <td>Turkey</td>\n",
       "      <td>Konya</td>\n",
       "      <td>Turkey</td>\n",
       "      <td>...</td>\n",
       "      <td>176.0</td>\n",
       "      <td>100000.0</td>\n",
       "      <td>2024-06-30 00:00:00</td>\n",
       "      <td>TR1</td>\n",
       "      <td>Konyaspor</td>\n",
       "      <td>NaN</td>\n",
       "      <td>2021-10-12</td>\n",
       "      <td>2021-10-11</td>\n",
       "      <td>100000</td>\n",
       "      <td>2021</td>\n",
       "    </tr>\n",
       "    <tr>\n",
       "      <th>424319</th>\n",
       "      <td>621911</td>\n",
       "      <td>Ekrem</td>\n",
       "      <td>Kayilibal</td>\n",
       "      <td>Ekrem Kayilibal</td>\n",
       "      <td>2021</td>\n",
       "      <td>2293</td>\n",
       "      <td>ekrem-kayilibal</td>\n",
       "      <td>Turkey</td>\n",
       "      <td>Konya</td>\n",
       "      <td>Turkey</td>\n",
       "      <td>...</td>\n",
       "      <td>176.0</td>\n",
       "      <td>100000.0</td>\n",
       "      <td>2024-06-30 00:00:00</td>\n",
       "      <td>TR1</td>\n",
       "      <td>Konyaspor</td>\n",
       "      <td>NaN</td>\n",
       "      <td>2022-01-04</td>\n",
       "      <td>2022-01-03</td>\n",
       "      <td>75000</td>\n",
       "      <td>2022</td>\n",
       "    </tr>\n",
       "    <tr>\n",
       "      <th>424320</th>\n",
       "      <td>621911</td>\n",
       "      <td>Ekrem</td>\n",
       "      <td>Kayilibal</td>\n",
       "      <td>Ekrem Kayilibal</td>\n",
       "      <td>2021</td>\n",
       "      <td>2293</td>\n",
       "      <td>ekrem-kayilibal</td>\n",
       "      <td>Turkey</td>\n",
       "      <td>Konya</td>\n",
       "      <td>Turkey</td>\n",
       "      <td>...</td>\n",
       "      <td>176.0</td>\n",
       "      <td>100000.0</td>\n",
       "      <td>2024-06-30 00:00:00</td>\n",
       "      <td>TR1</td>\n",
       "      <td>Konyaspor</td>\n",
       "      <td>NaN</td>\n",
       "      <td>2022-03-31</td>\n",
       "      <td>2022-03-28</td>\n",
       "      <td>75000</td>\n",
       "      <td>2022</td>\n",
       "    </tr>\n",
       "    <tr>\n",
       "      <th>424321</th>\n",
       "      <td>621911</td>\n",
       "      <td>Ekrem</td>\n",
       "      <td>Kayilibal</td>\n",
       "      <td>Ekrem Kayilibal</td>\n",
       "      <td>2021</td>\n",
       "      <td>2293</td>\n",
       "      <td>ekrem-kayilibal</td>\n",
       "      <td>Turkey</td>\n",
       "      <td>Konya</td>\n",
       "      <td>Turkey</td>\n",
       "      <td>...</td>\n",
       "      <td>176.0</td>\n",
       "      <td>100000.0</td>\n",
       "      <td>2024-06-30 00:00:00</td>\n",
       "      <td>TR1</td>\n",
       "      <td>Konyaspor</td>\n",
       "      <td>NaN</td>\n",
       "      <td>2022-06-01</td>\n",
       "      <td>2022-05-30</td>\n",
       "      <td>75000</td>\n",
       "      <td>2022</td>\n",
       "    </tr>\n",
       "    <tr>\n",
       "      <th>424322</th>\n",
       "      <td>621911</td>\n",
       "      <td>Ekrem</td>\n",
       "      <td>Kayilibal</td>\n",
       "      <td>Ekrem Kayilibal</td>\n",
       "      <td>2021</td>\n",
       "      <td>2293</td>\n",
       "      <td>ekrem-kayilibal</td>\n",
       "      <td>Turkey</td>\n",
       "      <td>Konya</td>\n",
       "      <td>Turkey</td>\n",
       "      <td>...</td>\n",
       "      <td>176.0</td>\n",
       "      <td>100000.0</td>\n",
       "      <td>2024-06-30 00:00:00</td>\n",
       "      <td>TR1</td>\n",
       "      <td>Konyaspor</td>\n",
       "      <td>NaN</td>\n",
       "      <td>2023-01-05</td>\n",
       "      <td>2023-01-02</td>\n",
       "      <td>50000</td>\n",
       "      <td>2023</td>\n",
       "    </tr>\n",
       "  </tbody>\n",
       "</table>\n",
       "<p>424323 rows × 24 columns</p>\n",
       "</div>"
      ],
      "text/plain": [
       "        player_id first_name  last_name             name  last_season  \\\n",
       "0             597  Aleksandr       Hleb   Aleksandr Hleb         2016   \n",
       "1             597  Aleksandr       Hleb   Aleksandr Hleb         2016   \n",
       "2             597  Aleksandr       Hleb   Aleksandr Hleb         2016   \n",
       "3             597  Aleksandr       Hleb   Aleksandr Hleb         2016   \n",
       "4             597  Aleksandr       Hleb   Aleksandr Hleb         2016   \n",
       "...           ...        ...        ...              ...          ...   \n",
       "424318     621911      Ekrem  Kayilibal  Ekrem Kayilibal         2021   \n",
       "424319     621911      Ekrem  Kayilibal  Ekrem Kayilibal         2021   \n",
       "424320     621911      Ekrem  Kayilibal  Ekrem Kayilibal         2021   \n",
       "424321     621911      Ekrem  Kayilibal  Ekrem Kayilibal         2021   \n",
       "424322     621911      Ekrem  Kayilibal  Ekrem Kayilibal         2021   \n",
       "\n",
       "        current_club_id      player_code country_of_birth city_of_birth  \\\n",
       "0                  2696   aleksandr-hleb            UdSSR         Minsk   \n",
       "1                  2696   aleksandr-hleb            UdSSR         Minsk   \n",
       "2                  2696   aleksandr-hleb            UdSSR         Minsk   \n",
       "3                  2696   aleksandr-hleb            UdSSR         Minsk   \n",
       "4                  2696   aleksandr-hleb            UdSSR         Minsk   \n",
       "...                 ...              ...              ...           ...   \n",
       "424318             2293  ekrem-kayilibal           Turkey         Konya   \n",
       "424319             2293  ekrem-kayilibal           Turkey         Konya   \n",
       "424320             2293  ekrem-kayilibal           Turkey         Konya   \n",
       "424321             2293  ekrem-kayilibal           Turkey         Konya   \n",
       "424322             2293  ekrem-kayilibal           Turkey         Konya   \n",
       "\n",
       "       country_of_citizenship  ... height_in_cm highest_market_value_in_eur  \\\n",
       "0                     Belarus  ...          NaN                  19000000.0   \n",
       "1                     Belarus  ...          NaN                  19000000.0   \n",
       "2                     Belarus  ...          NaN                  19000000.0   \n",
       "3                     Belarus  ...          NaN                  19000000.0   \n",
       "4                     Belarus  ...          NaN                  19000000.0   \n",
       "...                       ...  ...          ...                         ...   \n",
       "424318                 Turkey  ...        176.0                    100000.0   \n",
       "424319                 Turkey  ...        176.0                    100000.0   \n",
       "424320                 Turkey  ...        176.0                    100000.0   \n",
       "424321                 Turkey  ...        176.0                    100000.0   \n",
       "424322                 Turkey  ...        176.0                    100000.0   \n",
       "\n",
       "       contract_expiration_date competition_id              club_name  \\\n",
       "0                           NaN            RU1  Krylya Sovetov Samara   \n",
       "1                           NaN            RU1  Krylya Sovetov Samara   \n",
       "2                           NaN            RU1  Krylya Sovetov Samara   \n",
       "3                           NaN            RU1  Krylya Sovetov Samara   \n",
       "4                           NaN            RU1  Krylya Sovetov Samara   \n",
       "...                         ...            ...                    ...   \n",
       "424318      2024-06-30 00:00:00            TR1              Konyaspor   \n",
       "424319      2024-06-30 00:00:00            TR1              Konyaspor   \n",
       "424320      2024-06-30 00:00:00            TR1              Konyaspor   \n",
       "424321      2024-06-30 00:00:00            TR1              Konyaspor   \n",
       "424322      2024-06-30 00:00:00            TR1              Konyaspor   \n",
       "\n",
       "        height_bin       date    dateweek market_value_in_eur  year  \n",
       "0              NaN 2004-10-04  2004-10-04             7500000  2004  \n",
       "1              NaN 2005-10-17  2005-10-17            10750000  2005  \n",
       "2              NaN 2006-06-14  2006-06-12            11250000  2006  \n",
       "3              NaN 2007-04-24  2007-04-23            11700000  2007  \n",
       "4              NaN 2007-09-01  2007-08-27            11500000  2007  \n",
       "...            ...        ...         ...                 ...   ...  \n",
       "424318         NaN 2021-10-12  2021-10-11              100000  2021  \n",
       "424319         NaN 2022-01-04  2022-01-03               75000  2022  \n",
       "424320         NaN 2022-03-31  2022-03-28               75000  2022  \n",
       "424321         NaN 2022-06-01  2022-05-30               75000  2022  \n",
       "424322         NaN 2023-01-05  2023-01-02               50000  2023  \n",
       "\n",
       "[424323 rows x 24 columns]"
      ]
     },
     "metadata": {},
     "output_type": "display_data"
    }
   ],
   "source": [
    "# Merging player and player valuation data for combined player data.\n",
    "player_data = pd.merge(players, player_valuations[['player_id','datetime','date','dateweek','market_value_in_eur']], on = \"player_id\")\n",
    "player_data.drop('market_value_in_eur_x', axis = 1, inplace = True)\n",
    "player_data.rename(columns = {'market_value_in_eur_y': 'market_value_in_eur'},inplace=True)\n",
    "player_data['date'] = pd.to_datetime(player_data['date'])\n",
    "player_data['year'] = player_data['dateweek'].str.split('-').str[0]\n",
    "player_data.drop(['datetime','image_url','url','agent_name'], axis = 1, inplace = True)\n",
    "player_data.rename(columns= {'current_club_name':'club_name','current_club_domestic_competition_id':'competition_id'},inplace = True)\n",
    "display(player_data)"
   ]
  },
  {
   "cell_type": "code",
   "execution_count": 46,
   "id": "d35ce978-f839-4ff8-be7c-2d6b434ed457",
   "metadata": {},
   "outputs": [
    {
     "data": {
      "text/html": [
       "\n",
       "        <iframe\n",
       "            width=\"100%\"\n",
       "            height=\"650\"\n",
       "            src=\"http://127.0.0.1:8050/\"\n",
       "            frameborder=\"0\"\n",
       "            allowfullscreen\n",
       "            \n",
       "        ></iframe>\n",
       "        "
      ],
      "text/plain": [
       "<IPython.lib.display.IFrame at 0x18173120ec0>"
      ]
     },
     "metadata": {},
     "output_type": "display_data"
    }
   ],
   "source": [
    "app = dash.Dash(__name__)\n",
    "\n",
    "app.layout = html.Div([\n",
    "    html.H1(\"Player Valuation Over Years\"),\n",
    "    dcc.Dropdown(\n",
    "        id='player-dropdown',\n",
    "        options=[{'label': player, 'value': player} for player in player_data['name'].unique()],\n",
    "        placeholder=\"Select a player\",  \n",
    "        multi=False\n",
    "    ),\n",
    "    dcc.Graph(id='valuation-plot')\n",
    "])\n",
    "\n",
    "@app.callback(\n",
    "    Output('valuation-plot', 'figure'),\n",
    "    [Input('player-dropdown', 'value')]\n",
    ")\n",
    "def update_plot(selected_player):\n",
    "    if selected_player is None:\n",
    "        return px.line(title=\"Select a player to view their valuation over years\")\n",
    "    filtered_data = player_data[player_data['name'] == selected_player]\n",
    "    \n",
    "    fig = px.line(filtered_data, x=filtered_data['year'], y='market_value_in_eur', \n",
    "                  title=f\"{selected_player}'s Valuation Over Years\")\n",
    "    return fig\n",
    "\n",
    "if __name__ == '__main__':\n",
    "    app.run_server(debug=True)"
   ]
  },
  {
   "cell_type": "markdown",
   "id": "25402313-2af9-4365-92b9-5460d4a6d5a0",
   "metadata": {},
   "source": [
    "##  Club Yellow and Red Card Analysis"
   ]
  },
  {
   "cell_type": "markdown",
   "id": "4a2e901c-4a69-47d8-80a3-1833722bcf2c",
   "metadata": {},
   "source": [
    "This part looks at how football clubs deal with player discipline, focusing on yellow and red cards. By combining club game data with player event details, it aims to provide insights into club-level disciplinary trends.\n",
    "* The dataset is pivoted to aggregate the total number of yellow and red cards per club, offering a comprehensive view of disciplinary actions.\n",
    "* We also consider the total number of matches played by each club to put the disciplinary data into context.\n",
    "* An interactive bubble chart, generated using the Plotly to visualizes the distribution of yellow and red cards across clubs.\n",
    "* Bubble size in the chart represents the frequency of matches played by each club, while color distinguishes between different clubs"
   ]
  },
  {
   "cell_type": "code",
   "execution_count": 47,
   "id": "4a4b0f5f-75b1-4e5d-85f2-90517ffab38d",
   "metadata": {},
   "outputs": [
    {
     "data": {
      "application/vnd.plotly.v1+json": {
       "config": {
        "plotlyServerURL": "https://plot.ly"
       },
       "data": [
        {
         "hovertemplate": "<b>%{hovertext}</b><br><br>Red Cards=%{x}<br>Yellow Cards=%{y}<br>total_match=%{marker.size}<br>color=%{marker.color}<extra></extra>",
         "hovertext": [
          1,
          2,
          3,
          4,
          5,
          6,
          7,
          8,
          9,
          10,
          11,
          12,
          13,
          14,
          15,
          16,
          18,
          19,
          20,
          21,
          22,
          23,
          24,
          25,
          26,
          27,
          29,
          30,
          31,
          33,
          35,
          36,
          38,
          39,
          40,
          41,
          42,
          43,
          44,
          46,
          47,
          48,
          52,
          56,
          57,
          58,
          60,
          61,
          62,
          63,
          64,
          65,
          66,
          68,
          69,
          71,
          72,
          76,
          77,
          78,
          79,
          80,
          81,
          82,
          83,
          84,
          85,
          86,
          89,
          90,
          91,
          92,
          93,
          94,
          95,
          96,
          97,
          103,
          104,
          105,
          107,
          108,
          109,
          111,
          113,
          114,
          115,
          117,
          119,
          121,
          122,
          124,
          126,
          127,
          128,
          129,
          130,
          131,
          132,
          133
         ],
         "legendgroup": "",
         "marker": {
          "color": [
           1,
           2,
           3,
           4,
           5,
           6,
           7,
           8,
           9,
           10,
           11,
           12,
           13,
           14,
           15,
           16,
           18,
           19,
           20,
           21,
           22,
           23,
           24,
           25,
           26,
           27,
           29,
           30,
           31,
           33,
           35,
           36,
           38,
           39,
           40,
           41,
           42,
           43,
           44,
           46,
           47,
           48,
           52,
           56,
           57,
           58,
           60,
           61,
           62,
           63,
           64,
           65,
           66,
           68,
           69,
           71,
           72,
           76,
           77,
           78,
           79,
           80,
           81,
           82,
           83,
           84,
           85,
           86,
           89,
           90,
           91,
           92,
           93,
           94,
           95,
           96,
           97,
           103,
           104,
           105,
           107,
           108,
           109,
           111,
           113,
           114,
           115,
           117,
           119,
           121,
           122,
           124,
           126,
           127,
           128,
           129,
           130,
           131,
           132,
           133
          ],
          "coloraxis": "coloraxis",
          "size": [
           48,
           108,
           1452,
           503,
           2526,
           125,
           72,
           7,
           59,
           472,
           2729,
           2644,
           2795,
           162,
           2552,
           2903,
           2205,
           236,
           1037,
           38,
           147,
           206,
           2202,
           39,
           473,
           3327,
           1937,
           57,
           2779,
           1884,
           101,
           2375,
           572,
           1933,
           1814,
           942,
           1040,
           1539,
           1690,
           2717,
           368,
           100,
           53,
           40,
           3,
           1981,
           1847,
           37,
           295,
           6,
           39,
           376,
           27,
           9,
           27,
           17,
           85,
           9,
           86,
           27,
           1601,
           487,
           49,
           2132,
           32,
           120,
           30,
           1711,
           953,
           10,
           30,
           3,
           13,
           64,
           3,
           6,
           4,
           17,
           8,
           377,
           38,
           43,
           81,
           3,
           36,
           2243,
           12,
           16,
           434,
           1544,
           140,
           1798,
           1313,
           422,
           1171,
           90,
           1108,
           3375,
           765,
           930
          ],
          "sizemode": "area",
          "sizeref": 8.4375,
          "symbol": "circle"
         },
         "mode": "markers",
         "name": "",
         "orientation": "v",
         "showlegend": false,
         "type": "scatter",
         "x": [
          17,
          27,
          779,
          371,
          3590,
          92,
          12,
          8,
          7,
          250,
          2457,
          3401,
          4043,
          130,
          2472,
          2019,
          1556,
          265,
          865,
          15,
          24,
          106,
          1658,
          7,
          289,
          2402,
          1838,
          10,
          2110,
          1541,
          28,
          2635,
          250,
          1216,
          2303,
          644,
          587,
          958,
          1450,
          2867,
          128,
          19,
          18,
          11,
          0,
          1368,
          1016,
          9,
          172,
          0,
          9,
          189,
          5,
          3,
          8,
          8,
          21,
          8,
          25,
          3,
          1153,
          269,
          11,
          1414,
          11,
          13,
          18,
          1014,
          509,
          4,
          11,
          0,
          2,
          4,
          3,
          2,
          0,
          19,
          2,
          199,
          9,
          8,
          11,
          3,
          14,
          2444,
          12,
          7,
          152,
          948,
          63,
          1887,
          1164,
          192,
          566,
          22,
          1121,
          3821,
          507,
          651
         ],
         "xaxis": "x",
         "y": [
          776,
          1896,
          58832,
          14019,
          136296,
          4455,
          608,
          266,
          687,
          13917,
          121306,
          148275,
          191545,
          3437,
          109825,
          119125,
          97118,
          9297,
          36077,
          993,
          1882,
          5315,
          92456,
          719,
          10814,
          142077,
          88847,
          596,
          131116,
          81684,
          1406,
          96881,
          16738,
          73895,
          67113,
          36443,
          36514,
          34928,
          72631,
          160484,
          10491,
          1126,
          788,
          354,
          25,
          62520,
          66455,
          140,
          6681,
          18,
          798,
          10082,
          404,
          25,
          425,
          476,
          1071,
          238,
          1316,
          179,
          57588,
          13003,
          569,
          96588,
          642,
          891,
          618,
          69441,
          31879,
          194,
          726,
          65,
          248,
          767,
          90,
          170,
          2,
          560,
          231,
          11891,
          446,
          546,
          795,
          120,
          1196,
          101699,
          495,
          449,
          5177,
          54149,
          3002,
          59849,
          46646,
          12172,
          36926,
          977,
          51963,
          219058,
          19588,
          20913
         ],
         "yaxis": "y"
        }
       ],
       "layout": {
        "autosize": true,
        "coloraxis": {
         "colorbar": {
          "title": {
           "text": "color"
          }
         },
         "colorscale": [
          [
           0,
           "#0d0887"
          ],
          [
           0.1111111111111111,
           "#46039f"
          ],
          [
           0.2222222222222222,
           "#7201a8"
          ],
          [
           0.3333333333333333,
           "#9c179e"
          ],
          [
           0.4444444444444444,
           "#bd3786"
          ],
          [
           0.5555555555555556,
           "#d8576b"
          ],
          [
           0.6666666666666666,
           "#ed7953"
          ],
          [
           0.7777777777777778,
           "#fb9f3a"
          ],
          [
           0.8888888888888888,
           "#fdca26"
          ],
          [
           1,
           "#f0f921"
          ]
         ]
        },
        "legend": {
         "itemsizing": "constant",
         "tracegroupgap": 0
        },
        "showlegend": false,
        "template": {
         "data": {
          "bar": [
           {
            "error_x": {
             "color": "#2a3f5f"
            },
            "error_y": {
             "color": "#2a3f5f"
            },
            "marker": {
             "line": {
              "color": "#E5ECF6",
              "width": 0.5
             },
             "pattern": {
              "fillmode": "overlay",
              "size": 10,
              "solidity": 0.2
             }
            },
            "type": "bar"
           }
          ],
          "barpolar": [
           {
            "marker": {
             "line": {
              "color": "#E5ECF6",
              "width": 0.5
             },
             "pattern": {
              "fillmode": "overlay",
              "size": 10,
              "solidity": 0.2
             }
            },
            "type": "barpolar"
           }
          ],
          "carpet": [
           {
            "aaxis": {
             "endlinecolor": "#2a3f5f",
             "gridcolor": "white",
             "linecolor": "white",
             "minorgridcolor": "white",
             "startlinecolor": "#2a3f5f"
            },
            "baxis": {
             "endlinecolor": "#2a3f5f",
             "gridcolor": "white",
             "linecolor": "white",
             "minorgridcolor": "white",
             "startlinecolor": "#2a3f5f"
            },
            "type": "carpet"
           }
          ],
          "choropleth": [
           {
            "colorbar": {
             "outlinewidth": 0,
             "ticks": ""
            },
            "type": "choropleth"
           }
          ],
          "contour": [
           {
            "colorbar": {
             "outlinewidth": 0,
             "ticks": ""
            },
            "colorscale": [
             [
              0,
              "#0d0887"
             ],
             [
              0.1111111111111111,
              "#46039f"
             ],
             [
              0.2222222222222222,
              "#7201a8"
             ],
             [
              0.3333333333333333,
              "#9c179e"
             ],
             [
              0.4444444444444444,
              "#bd3786"
             ],
             [
              0.5555555555555556,
              "#d8576b"
             ],
             [
              0.6666666666666666,
              "#ed7953"
             ],
             [
              0.7777777777777778,
              "#fb9f3a"
             ],
             [
              0.8888888888888888,
              "#fdca26"
             ],
             [
              1,
              "#f0f921"
             ]
            ],
            "type": "contour"
           }
          ],
          "contourcarpet": [
           {
            "colorbar": {
             "outlinewidth": 0,
             "ticks": ""
            },
            "type": "contourcarpet"
           }
          ],
          "heatmap": [
           {
            "colorbar": {
             "outlinewidth": 0,
             "ticks": ""
            },
            "colorscale": [
             [
              0,
              "#0d0887"
             ],
             [
              0.1111111111111111,
              "#46039f"
             ],
             [
              0.2222222222222222,
              "#7201a8"
             ],
             [
              0.3333333333333333,
              "#9c179e"
             ],
             [
              0.4444444444444444,
              "#bd3786"
             ],
             [
              0.5555555555555556,
              "#d8576b"
             ],
             [
              0.6666666666666666,
              "#ed7953"
             ],
             [
              0.7777777777777778,
              "#fb9f3a"
             ],
             [
              0.8888888888888888,
              "#fdca26"
             ],
             [
              1,
              "#f0f921"
             ]
            ],
            "type": "heatmap"
           }
          ],
          "heatmapgl": [
           {
            "colorbar": {
             "outlinewidth": 0,
             "ticks": ""
            },
            "colorscale": [
             [
              0,
              "#0d0887"
             ],
             [
              0.1111111111111111,
              "#46039f"
             ],
             [
              0.2222222222222222,
              "#7201a8"
             ],
             [
              0.3333333333333333,
              "#9c179e"
             ],
             [
              0.4444444444444444,
              "#bd3786"
             ],
             [
              0.5555555555555556,
              "#d8576b"
             ],
             [
              0.6666666666666666,
              "#ed7953"
             ],
             [
              0.7777777777777778,
              "#fb9f3a"
             ],
             [
              0.8888888888888888,
              "#fdca26"
             ],
             [
              1,
              "#f0f921"
             ]
            ],
            "type": "heatmapgl"
           }
          ],
          "histogram": [
           {
            "marker": {
             "pattern": {
              "fillmode": "overlay",
              "size": 10,
              "solidity": 0.2
             }
            },
            "type": "histogram"
           }
          ],
          "histogram2d": [
           {
            "colorbar": {
             "outlinewidth": 0,
             "ticks": ""
            },
            "colorscale": [
             [
              0,
              "#0d0887"
             ],
             [
              0.1111111111111111,
              "#46039f"
             ],
             [
              0.2222222222222222,
              "#7201a8"
             ],
             [
              0.3333333333333333,
              "#9c179e"
             ],
             [
              0.4444444444444444,
              "#bd3786"
             ],
             [
              0.5555555555555556,
              "#d8576b"
             ],
             [
              0.6666666666666666,
              "#ed7953"
             ],
             [
              0.7777777777777778,
              "#fb9f3a"
             ],
             [
              0.8888888888888888,
              "#fdca26"
             ],
             [
              1,
              "#f0f921"
             ]
            ],
            "type": "histogram2d"
           }
          ],
          "histogram2dcontour": [
           {
            "colorbar": {
             "outlinewidth": 0,
             "ticks": ""
            },
            "colorscale": [
             [
              0,
              "#0d0887"
             ],
             [
              0.1111111111111111,
              "#46039f"
             ],
             [
              0.2222222222222222,
              "#7201a8"
             ],
             [
              0.3333333333333333,
              "#9c179e"
             ],
             [
              0.4444444444444444,
              "#bd3786"
             ],
             [
              0.5555555555555556,
              "#d8576b"
             ],
             [
              0.6666666666666666,
              "#ed7953"
             ],
             [
              0.7777777777777778,
              "#fb9f3a"
             ],
             [
              0.8888888888888888,
              "#fdca26"
             ],
             [
              1,
              "#f0f921"
             ]
            ],
            "type": "histogram2dcontour"
           }
          ],
          "mesh3d": [
           {
            "colorbar": {
             "outlinewidth": 0,
             "ticks": ""
            },
            "type": "mesh3d"
           }
          ],
          "parcoords": [
           {
            "line": {
             "colorbar": {
              "outlinewidth": 0,
              "ticks": ""
             }
            },
            "type": "parcoords"
           }
          ],
          "pie": [
           {
            "automargin": true,
            "type": "pie"
           }
          ],
          "scatter": [
           {
            "fillpattern": {
             "fillmode": "overlay",
             "size": 10,
             "solidity": 0.2
            },
            "type": "scatter"
           }
          ],
          "scatter3d": [
           {
            "line": {
             "colorbar": {
              "outlinewidth": 0,
              "ticks": ""
             }
            },
            "marker": {
             "colorbar": {
              "outlinewidth": 0,
              "ticks": ""
             }
            },
            "type": "scatter3d"
           }
          ],
          "scattercarpet": [
           {
            "marker": {
             "colorbar": {
              "outlinewidth": 0,
              "ticks": ""
             }
            },
            "type": "scattercarpet"
           }
          ],
          "scattergeo": [
           {
            "marker": {
             "colorbar": {
              "outlinewidth": 0,
              "ticks": ""
             }
            },
            "type": "scattergeo"
           }
          ],
          "scattergl": [
           {
            "marker": {
             "colorbar": {
              "outlinewidth": 0,
              "ticks": ""
             }
            },
            "type": "scattergl"
           }
          ],
          "scattermapbox": [
           {
            "marker": {
             "colorbar": {
              "outlinewidth": 0,
              "ticks": ""
             }
            },
            "type": "scattermapbox"
           }
          ],
          "scatterpolar": [
           {
            "marker": {
             "colorbar": {
              "outlinewidth": 0,
              "ticks": ""
             }
            },
            "type": "scatterpolar"
           }
          ],
          "scatterpolargl": [
           {
            "marker": {
             "colorbar": {
              "outlinewidth": 0,
              "ticks": ""
             }
            },
            "type": "scatterpolargl"
           }
          ],
          "scatterternary": [
           {
            "marker": {
             "colorbar": {
              "outlinewidth": 0,
              "ticks": ""
             }
            },
            "type": "scatterternary"
           }
          ],
          "surface": [
           {
            "colorbar": {
             "outlinewidth": 0,
             "ticks": ""
            },
            "colorscale": [
             [
              0,
              "#0d0887"
             ],
             [
              0.1111111111111111,
              "#46039f"
             ],
             [
              0.2222222222222222,
              "#7201a8"
             ],
             [
              0.3333333333333333,
              "#9c179e"
             ],
             [
              0.4444444444444444,
              "#bd3786"
             ],
             [
              0.5555555555555556,
              "#d8576b"
             ],
             [
              0.6666666666666666,
              "#ed7953"
             ],
             [
              0.7777777777777778,
              "#fb9f3a"
             ],
             [
              0.8888888888888888,
              "#fdca26"
             ],
             [
              1,
              "#f0f921"
             ]
            ],
            "type": "surface"
           }
          ],
          "table": [
           {
            "cells": {
             "fill": {
              "color": "#EBF0F8"
             },
             "line": {
              "color": "white"
             }
            },
            "header": {
             "fill": {
              "color": "#C8D4E3"
             },
             "line": {
              "color": "white"
             }
            },
            "type": "table"
           }
          ]
         },
         "layout": {
          "annotationdefaults": {
           "arrowcolor": "#2a3f5f",
           "arrowhead": 0,
           "arrowwidth": 1
          },
          "autotypenumbers": "strict",
          "coloraxis": {
           "colorbar": {
            "outlinewidth": 0,
            "ticks": ""
           }
          },
          "colorscale": {
           "diverging": [
            [
             0,
             "#8e0152"
            ],
            [
             0.1,
             "#c51b7d"
            ],
            [
             0.2,
             "#de77ae"
            ],
            [
             0.3,
             "#f1b6da"
            ],
            [
             0.4,
             "#fde0ef"
            ],
            [
             0.5,
             "#f7f7f7"
            ],
            [
             0.6,
             "#e6f5d0"
            ],
            [
             0.7,
             "#b8e186"
            ],
            [
             0.8,
             "#7fbc41"
            ],
            [
             0.9,
             "#4d9221"
            ],
            [
             1,
             "#276419"
            ]
           ],
           "sequential": [
            [
             0,
             "#0d0887"
            ],
            [
             0.1111111111111111,
             "#46039f"
            ],
            [
             0.2222222222222222,
             "#7201a8"
            ],
            [
             0.3333333333333333,
             "#9c179e"
            ],
            [
             0.4444444444444444,
             "#bd3786"
            ],
            [
             0.5555555555555556,
             "#d8576b"
            ],
            [
             0.6666666666666666,
             "#ed7953"
            ],
            [
             0.7777777777777778,
             "#fb9f3a"
            ],
            [
             0.8888888888888888,
             "#fdca26"
            ],
            [
             1,
             "#f0f921"
            ]
           ],
           "sequentialminus": [
            [
             0,
             "#0d0887"
            ],
            [
             0.1111111111111111,
             "#46039f"
            ],
            [
             0.2222222222222222,
             "#7201a8"
            ],
            [
             0.3333333333333333,
             "#9c179e"
            ],
            [
             0.4444444444444444,
             "#bd3786"
            ],
            [
             0.5555555555555556,
             "#d8576b"
            ],
            [
             0.6666666666666666,
             "#ed7953"
            ],
            [
             0.7777777777777778,
             "#fb9f3a"
            ],
            [
             0.8888888888888888,
             "#fdca26"
            ],
            [
             1,
             "#f0f921"
            ]
           ]
          },
          "colorway": [
           "#636efa",
           "#EF553B",
           "#00cc96",
           "#ab63fa",
           "#FFA15A",
           "#19d3f3",
           "#FF6692",
           "#B6E880",
           "#FF97FF",
           "#FECB52"
          ],
          "font": {
           "color": "#2a3f5f"
          },
          "geo": {
           "bgcolor": "white",
           "lakecolor": "white",
           "landcolor": "#E5ECF6",
           "showlakes": true,
           "showland": true,
           "subunitcolor": "white"
          },
          "hoverlabel": {
           "align": "left"
          },
          "hovermode": "closest",
          "mapbox": {
           "style": "light"
          },
          "paper_bgcolor": "white",
          "plot_bgcolor": "#E5ECF6",
          "polar": {
           "angularaxis": {
            "gridcolor": "white",
            "linecolor": "white",
            "ticks": ""
           },
           "bgcolor": "#E5ECF6",
           "radialaxis": {
            "gridcolor": "white",
            "linecolor": "white",
            "ticks": ""
           }
          },
          "scene": {
           "xaxis": {
            "backgroundcolor": "#E5ECF6",
            "gridcolor": "white",
            "gridwidth": 2,
            "linecolor": "white",
            "showbackground": true,
            "ticks": "",
            "zerolinecolor": "white"
           },
           "yaxis": {
            "backgroundcolor": "#E5ECF6",
            "gridcolor": "white",
            "gridwidth": 2,
            "linecolor": "white",
            "showbackground": true,
            "ticks": "",
            "zerolinecolor": "white"
           },
           "zaxis": {
            "backgroundcolor": "#E5ECF6",
            "gridcolor": "white",
            "gridwidth": 2,
            "linecolor": "white",
            "showbackground": true,
            "ticks": "",
            "zerolinecolor": "white"
           }
          },
          "shapedefaults": {
           "line": {
            "color": "#2a3f5f"
           }
          },
          "ternary": {
           "aaxis": {
            "gridcolor": "white",
            "linecolor": "white",
            "ticks": ""
           },
           "baxis": {
            "gridcolor": "white",
            "linecolor": "white",
            "ticks": ""
           },
           "bgcolor": "#E5ECF6",
           "caxis": {
            "gridcolor": "white",
            "linecolor": "white",
            "ticks": ""
           }
          },
          "title": {
           "x": 0.05
          },
          "xaxis": {
           "automargin": true,
           "gridcolor": "white",
           "linecolor": "white",
           "ticks": "",
           "title": {
            "standoff": 15
           },
           "zerolinecolor": "white",
           "zerolinewidth": 2
          },
          "yaxis": {
           "automargin": true,
           "gridcolor": "white",
           "linecolor": "white",
           "ticks": "",
           "title": {
            "standoff": 15
           },
           "zerolinecolor": "white",
           "zerolinewidth": 2
          }
         }
        },
        "title": {
         "text": "Interactive Bubble Chart"
        },
        "xaxis": {
         "anchor": "y",
         "autorange": true,
         "domain": [
          0,
          1
         ],
         "range": [
          -244.32645894187968,
          4343.940511624854
         ],
         "title": {
          "text": "Red Cards"
         },
         "type": "linear"
        },
        "yaxis": {
         "anchor": "x",
         "autorange": true,
         "domain": [
          0,
          1
         ],
         "range": [
          -18356.108014364214,
          257015.51220109902
         ],
         "title": {
          "text": "Yellow Cards"
         },
         "type": "linear"
        }
       }
      },
      "image/png": "[encoded data removed]",
      "text/html": [
       "<div>                            <div id=\"0c12bdd1-2ffa-43ff-bc2b-c46d4ca5d110\" class=\"plotly-graph-div\" style=\"height:525px; width:100%;\"></div>            <script type=\"text/javascript\">                require([\"plotly\"], function(Plotly) {                    window.PLOTLYENV=window.PLOTLYENV || {};                                    if (document.getElementById(\"0c12bdd1-2ffa-43ff-bc2b-c46d4ca5d110\")) {                    Plotly.newPlot(                        \"0c12bdd1-2ffa-43ff-bc2b-c46d4ca5d110\",                        [{\"hovertemplate\":\"\\u003cb\\u003e%{hovertext}\\u003c\\u002fb\\u003e\\u003cbr\\u003e\\u003cbr\\u003eRed Cards=%{x}\\u003cbr\\u003eYellow Cards=%{y}\\u003cbr\\u003etotal_match=%{marker.size}\\u003cbr\\u003ecolor=%{marker.color}\\u003cextra\\u003e\\u003c\\u002fextra\\u003e\",\"hovertext\":[1.0,2.0,3.0,4.0,5.0,6.0,7.0,8.0,9.0,10.0,11.0,12.0,13.0,14.0,15.0,16.0,18.0,19.0,20.0,21.0,22.0,23.0,24.0,25.0,26.0,27.0,29.0,30.0,31.0,33.0,35.0,36.0,38.0,39.0,40.0,41.0,42.0,43.0,44.0,46.0,47.0,48.0,52.0,56.0,57.0,58.0,60.0,61.0,62.0,63.0,64.0,65.0,66.0,68.0,69.0,71.0,72.0,76.0,77.0,78.0,79.0,80.0,81.0,82.0,83.0,84.0,85.0,86.0,89.0,90.0,91.0,92.0,93.0,94.0,95.0,96.0,97.0,103.0,104.0,105.0,107.0,108.0,109.0,111.0,113.0,114.0,115.0,117.0,119.0,121.0,122.0,124.0,126.0,127.0,128.0,129.0,130.0,131.0,132.0,133.0],\"legendgroup\":\"\",\"marker\":{\"color\":[1,2,3,4,5,6,7,8,9,10,11,12,13,14,15,16,18,19,20,21,22,23,24,25,26,27,29,30,31,33,35,36,38,39,40,41,42,43,44,46,47,48,52,56,57,58,60,61,62,63,64,65,66,68,69,71,72,76,77,78,79,80,81,82,83,84,85,86,89,90,91,92,93,94,95,96,97,103,104,105,107,108,109,111,113,114,115,117,119,121,122,124,126,127,128,129,130,131,132,133],\"coloraxis\":\"coloraxis\",\"size\":[48.0,108.0,1452.0,503.0,2526.0,125.0,72.0,7.0,59.0,472.0,2729.0,2644.0,2795.0,162.0,2552.0,2903.0,2205.0,236.0,1037.0,38.0,147.0,206.0,2202.0,39.0,473.0,3327.0,1937.0,57.0,2779.0,1884.0,101.0,2375.0,572.0,1933.0,1814.0,942.0,1040.0,1539.0,1690.0,2717.0,368.0,100.0,53.0,40.0,3.0,1981.0,1847.0,37.0,295.0,6.0,39.0,376.0,27.0,9.0,27.0,17.0,85.0,9.0,86.0,27.0,1601.0,487.0,49.0,2132.0,32.0,120.0,30.0,1711.0,953.0,10.0,30.0,3.0,13.0,64.0,3.0,6.0,4.0,17.0,8.0,377.0,38.0,43.0,81.0,3.0,36.0,2243.0,12.0,16.0,434.0,1544.0,140.0,1798.0,1313.0,422.0,1171.0,90.0,1108.0,3375.0,765.0,930.0],\"sizemode\":\"area\",\"sizeref\":8.4375,\"symbol\":\"circle\"},\"mode\":\"markers\",\"name\":\"\",\"orientation\":\"v\",\"showlegend\":false,\"x\":[17,27,779,371,3590,92,12,8,7,250,2457,3401,4043,130,2472,2019,1556,265,865,15,24,106,1658,7,289,2402,1838,10,2110,1541,28,2635,250,1216,2303,644,587,958,1450,2867,128,19,18,11,0,1368,1016,9,172,0,9,189,5,3,8,8,21,8,25,3,1153,269,11,1414,11,13,18,1014,509,4,11,0,2,4,3,2,0,19,2,199,9,8,11,3,14,2444,12,7,152,948,63,1887,1164,192,566,22,1121,3821,507,651],\"xaxis\":\"x\",\"y\":[776,1896,58832,14019,136296,4455,608,266,687,13917,121306,148275,191545,3437,109825,119125,97118,9297,36077,993,1882,5315,92456,719,10814,142077,88847,596,131116,81684,1406,96881,16738,73895,67113,36443,36514,34928,72631,160484,10491,1126,788,354,25,62520,66455,140,6681,18,798,10082,404,25,425,476,1071,238,1316,179,57588,13003,569,96588,642,891,618,69441,31879,194,726,65,248,767,90,170,2,560,231,11891,446,546,795,120,1196,101699,495,449,5177,54149,3002,59849,46646,12172,36926,977,51963,219058,19588,20913],\"yaxis\":\"y\",\"type\":\"scatter\"}],                        {\"template\":{\"data\":{\"histogram2dcontour\":[{\"type\":\"histogram2dcontour\",\"colorbar\":{\"outlinewidth\":0,\"ticks\":\"\"},\"colorscale\":[[0.0,\"#0d0887\"],[0.1111111111111111,\"#46039f\"],[0.2222222222222222,\"#7201a8\"],[0.3333333333333333,\"#9c179e\"],[0.4444444444444444,\"#bd3786\"],[0.5555555555555556,\"#d8576b\"],[0.6666666666666666,\"#ed7953\"],[0.7777777777777778,\"#fb9f3a\"],[0.8888888888888888,\"#fdca26\"],[1.0,\"#f0f921\"]]}],\"choropleth\":[{\"type\":\"choropleth\",\"colorbar\":{\"outlinewidth\":0,\"ticks\":\"\"}}],\"histogram2d\":[{\"type\":\"histogram2d\",\"colorbar\":{\"outlinewidth\":0,\"ticks\":\"\"},\"colorscale\":[[0.0,\"#0d0887\"],[0.1111111111111111,\"#46039f\"],[0.2222222222222222,\"#7201a8\"],[0.3333333333333333,\"#9c179e\"],[0.4444444444444444,\"#bd3786\"],[0.5555555555555556,\"#d8576b\"],[0.6666666666666666,\"#ed7953\"],[0.7777777777777778,\"#fb9f3a\"],[0.8888888888888888,\"#fdca26\"],[1.0,\"#f0f921\"]]}],\"heatmap\":[{\"type\":\"heatmap\",\"colorbar\":{\"outlinewidth\":0,\"ticks\":\"\"},\"colorscale\":[[0.0,\"#0d0887\"],[0.1111111111111111,\"#46039f\"],[0.2222222222222222,\"#7201a8\"],[0.3333333333333333,\"#9c179e\"],[0.4444444444444444,\"#bd3786\"],[0.5555555555555556,\"#d8576b\"],[0.6666666666666666,\"#ed7953\"],[0.7777777777777778,\"#fb9f3a\"],[0.8888888888888888,\"#fdca26\"],[1.0,\"#f0f921\"]]}],\"heatmapgl\":[{\"type\":\"heatmapgl\",\"colorbar\":{\"outlinewidth\":0,\"ticks\":\"\"},\"colorscale\":[[0.0,\"#0d0887\"],[0.1111111111111111,\"#46039f\"],[0.2222222222222222,\"#7201a8\"],[0.3333333333333333,\"#9c179e\"],[0.4444444444444444,\"#bd3786\"],[0.5555555555555556,\"#d8576b\"],[0.6666666666666666,\"#ed7953\"],[0.7777777777777778,\"#fb9f3a\"],[0.8888888888888888,\"#fdca26\"],[1.0,\"#f0f921\"]]}],\"contourcarpet\":[{\"type\":\"contourcarpet\",\"colorbar\":{\"outlinewidth\":0,\"ticks\":\"\"}}],\"contour\":[{\"type\":\"contour\",\"colorbar\":{\"outlinewidth\":0,\"ticks\":\"\"},\"colorscale\":[[0.0,\"#0d0887\"],[0.1111111111111111,\"#46039f\"],[0.2222222222222222,\"#7201a8\"],[0.3333333333333333,\"#9c179e\"],[0.4444444444444444,\"#bd3786\"],[0.5555555555555556,\"#d8576b\"],[0.6666666666666666,\"#ed7953\"],[0.7777777777777778,\"#fb9f3a\"],[0.8888888888888888,\"#fdca26\"],[1.0,\"#f0f921\"]]}],\"surface\":[{\"type\":\"surface\",\"colorbar\":{\"outlinewidth\":0,\"ticks\":\"\"},\"colorscale\":[[0.0,\"#0d0887\"],[0.1111111111111111,\"#46039f\"],[0.2222222222222222,\"#7201a8\"],[0.3333333333333333,\"#9c179e\"],[0.4444444444444444,\"#bd3786\"],[0.5555555555555556,\"#d8576b\"],[0.6666666666666666,\"#ed7953\"],[0.7777777777777778,\"#fb9f3a\"],[0.8888888888888888,\"#fdca26\"],[1.0,\"#f0f921\"]]}],\"mesh3d\":[{\"type\":\"mesh3d\",\"colorbar\":{\"outlinewidth\":0,\"ticks\":\"\"}}],\"scatter\":[{\"fillpattern\":{\"fillmode\":\"overlay\",\"size\":10,\"solidity\":0.2},\"type\":\"scatter\"}],\"parcoords\":[{\"type\":\"parcoords\",\"line\":{\"colorbar\":{\"outlinewidth\":0,\"ticks\":\"\"}}}],\"scatterpolargl\":[{\"type\":\"scatterpolargl\",\"marker\":{\"colorbar\":{\"outlinewidth\":0,\"ticks\":\"\"}}}],\"bar\":[{\"error_x\":{\"color\":\"#2a3f5f\"},\"error_y\":{\"color\":\"#2a3f5f\"},\"marker\":{\"line\":{\"color\":\"#E5ECF6\",\"width\":0.5},\"pattern\":{\"fillmode\":\"overlay\",\"size\":10,\"solidity\":0.2}},\"type\":\"bar\"}],\"scattergeo\":[{\"type\":\"scattergeo\",\"marker\":{\"colorbar\":{\"outlinewidth\":0,\"ticks\":\"\"}}}],\"scatterpolar\":[{\"type\":\"scatterpolar\",\"marker\":{\"colorbar\":{\"outlinewidth\":0,\"ticks\":\"\"}}}],\"histogram\":[{\"marker\":{\"pattern\":{\"fillmode\":\"overlay\",\"size\":10,\"solidity\":0.2}},\"type\":\"histogram\"}],\"scattergl\":[{\"type\":\"scattergl\",\"marker\":{\"colorbar\":{\"outlinewidth\":0,\"ticks\":\"\"}}}],\"scatter3d\":[{\"type\":\"scatter3d\",\"line\":{\"colorbar\":{\"outlinewidth\":0,\"ticks\":\"\"}},\"marker\":{\"colorbar\":{\"outlinewidth\":0,\"ticks\":\"\"}}}],\"scattermapbox\":[{\"type\":\"scattermapbox\",\"marker\":{\"colorbar\":{\"outlinewidth\":0,\"ticks\":\"\"}}}],\"scatterternary\":[{\"type\":\"scatterternary\",\"marker\":{\"colorbar\":{\"outlinewidth\":0,\"ticks\":\"\"}}}],\"scattercarpet\":[{\"type\":\"scattercarpet\",\"marker\":{\"colorbar\":{\"outlinewidth\":0,\"ticks\":\"\"}}}],\"carpet\":[{\"aaxis\":{\"endlinecolor\":\"#2a3f5f\",\"gridcolor\":\"white\",\"linecolor\":\"white\",\"minorgridcolor\":\"white\",\"startlinecolor\":\"#2a3f5f\"},\"baxis\":{\"endlinecolor\":\"#2a3f5f\",\"gridcolor\":\"white\",\"linecolor\":\"white\",\"minorgridcolor\":\"white\",\"startlinecolor\":\"#2a3f5f\"},\"type\":\"carpet\"}],\"table\":[{\"cells\":{\"fill\":{\"color\":\"#EBF0F8\"},\"line\":{\"color\":\"white\"}},\"header\":{\"fill\":{\"color\":\"#C8D4E3\"},\"line\":{\"color\":\"white\"}},\"type\":\"table\"}],\"barpolar\":[{\"marker\":{\"line\":{\"color\":\"#E5ECF6\",\"width\":0.5},\"pattern\":{\"fillmode\":\"overlay\",\"size\":10,\"solidity\":0.2}},\"type\":\"barpolar\"}],\"pie\":[{\"automargin\":true,\"type\":\"pie\"}]},\"layout\":{\"autotypenumbers\":\"strict\",\"colorway\":[\"#636efa\",\"#EF553B\",\"#00cc96\",\"#ab63fa\",\"#FFA15A\",\"#19d3f3\",\"#FF6692\",\"#B6E880\",\"#FF97FF\",\"#FECB52\"],\"font\":{\"color\":\"#2a3f5f\"},\"hovermode\":\"closest\",\"hoverlabel\":{\"align\":\"left\"},\"paper_bgcolor\":\"white\",\"plot_bgcolor\":\"#E5ECF6\",\"polar\":{\"bgcolor\":\"#E5ECF6\",\"angularaxis\":{\"gridcolor\":\"white\",\"linecolor\":\"white\",\"ticks\":\"\"},\"radialaxis\":{\"gridcolor\":\"white\",\"linecolor\":\"white\",\"ticks\":\"\"}},\"ternary\":{\"bgcolor\":\"#E5ECF6\",\"aaxis\":{\"gridcolor\":\"white\",\"linecolor\":\"white\",\"ticks\":\"\"},\"baxis\":{\"gridcolor\":\"white\",\"linecolor\":\"white\",\"ticks\":\"\"},\"caxis\":{\"gridcolor\":\"white\",\"linecolor\":\"white\",\"ticks\":\"\"}},\"coloraxis\":{\"colorbar\":{\"outlinewidth\":0,\"ticks\":\"\"}},\"colorscale\":{\"sequential\":[[0.0,\"#0d0887\"],[0.1111111111111111,\"#46039f\"],[0.2222222222222222,\"#7201a8\"],[0.3333333333333333,\"#9c179e\"],[0.4444444444444444,\"#bd3786\"],[0.5555555555555556,\"#d8576b\"],[0.6666666666666666,\"#ed7953\"],[0.7777777777777778,\"#fb9f3a\"],[0.8888888888888888,\"#fdca26\"],[1.0,\"#f0f921\"]],\"sequentialminus\":[[0.0,\"#0d0887\"],[0.1111111111111111,\"#46039f\"],[0.2222222222222222,\"#7201a8\"],[0.3333333333333333,\"#9c179e\"],[0.4444444444444444,\"#bd3786\"],[0.5555555555555556,\"#d8576b\"],[0.6666666666666666,\"#ed7953\"],[0.7777777777777778,\"#fb9f3a\"],[0.8888888888888888,\"#fdca26\"],[1.0,\"#f0f921\"]],\"diverging\":[[0,\"#8e0152\"],[0.1,\"#c51b7d\"],[0.2,\"#de77ae\"],[0.3,\"#f1b6da\"],[0.4,\"#fde0ef\"],[0.5,\"#f7f7f7\"],[0.6,\"#e6f5d0\"],[0.7,\"#b8e186\"],[0.8,\"#7fbc41\"],[0.9,\"#4d9221\"],[1,\"#276419\"]]},\"xaxis\":{\"gridcolor\":\"white\",\"linecolor\":\"white\",\"ticks\":\"\",\"title\":{\"standoff\":15},\"zerolinecolor\":\"white\",\"automargin\":true,\"zerolinewidth\":2},\"yaxis\":{\"gridcolor\":\"white\",\"linecolor\":\"white\",\"ticks\":\"\",\"title\":{\"standoff\":15},\"zerolinecolor\":\"white\",\"automargin\":true,\"zerolinewidth\":2},\"scene\":{\"xaxis\":{\"backgroundcolor\":\"#E5ECF6\",\"gridcolor\":\"white\",\"linecolor\":\"white\",\"showbackground\":true,\"ticks\":\"\",\"zerolinecolor\":\"white\",\"gridwidth\":2},\"yaxis\":{\"backgroundcolor\":\"#E5ECF6\",\"gridcolor\":\"white\",\"linecolor\":\"white\",\"showbackground\":true,\"ticks\":\"\",\"zerolinecolor\":\"white\",\"gridwidth\":2},\"zaxis\":{\"backgroundcolor\":\"#E5ECF6\",\"gridcolor\":\"white\",\"linecolor\":\"white\",\"showbackground\":true,\"ticks\":\"\",\"zerolinecolor\":\"white\",\"gridwidth\":2}},\"shapedefaults\":{\"line\":{\"color\":\"#2a3f5f\"}},\"annotationdefaults\":{\"arrowcolor\":\"#2a3f5f\",\"arrowhead\":0,\"arrowwidth\":1},\"geo\":{\"bgcolor\":\"white\",\"landcolor\":\"#E5ECF6\",\"subunitcolor\":\"white\",\"showland\":true,\"showlakes\":true,\"lakecolor\":\"white\"},\"title\":{\"x\":0.05},\"mapbox\":{\"style\":\"light\"}}},\"xaxis\":{\"anchor\":\"y\",\"domain\":[0.0,1.0],\"title\":{\"text\":\"Red Cards\"}},\"yaxis\":{\"anchor\":\"x\",\"domain\":[0.0,1.0],\"title\":{\"text\":\"Yellow Cards\"}},\"coloraxis\":{\"colorbar\":{\"title\":{\"text\":\"color\"}},\"colorscale\":[[0.0,\"#0d0887\"],[0.1111111111111111,\"#46039f\"],[0.2222222222222222,\"#7201a8\"],[0.3333333333333333,\"#9c179e\"],[0.4444444444444444,\"#bd3786\"],[0.5555555555555556,\"#d8576b\"],[0.6666666666666666,\"#ed7953\"],[0.7777777777777778,\"#fb9f3a\"],[0.8888888888888888,\"#fdca26\"],[1.0,\"#f0f921\"]]},\"legend\":{\"tracegroupgap\":0,\"itemsizing\":\"constant\"},\"title\":{\"text\":\"Interactive Bubble Chart\"},\"showlegend\":false},                        {\"responsive\": true}                    ).then(function(){\n",
       "                            \n",
       "var gd = document.getElementById('0c12bdd1-2ffa-43ff-bc2b-c46d4ca5d110');\n",
       "var x = new MutationObserver(function (mutations, observer) {{\n",
       "        var display = window.getComputedStyle(gd).display;\n",
       "        if (!display || display === 'none') {{\n",
       "            console.log([gd, 'removed!']);\n",
       "            Plotly.purge(gd);\n",
       "            observer.disconnect();\n",
       "        }}\n",
       "}});\n",
       "\n",
       "// Listen for the removal of the full notebook cells\n",
       "var notebookContainer = gd.closest('#notebook-container');\n",
       "if (notebookContainer) {{\n",
       "    x.observe(notebookContainer, {childList: true});\n",
       "}}\n",
       "\n",
       "// Listen for the clearing of the current output cell\n",
       "var outputEl = gd.closest('.output');\n",
       "if (outputEl) {{\n",
       "    x.observe(outputEl, {childList: true});\n",
       "}}\n",
       "\n",
       "                        })                };                });            </script>        </div>"
      ]
     },
     "metadata": {},
     "output_type": "display_data"
    }
   ],
   "source": [
    "club_m=pd.merge(club_games,game_events[['game_id','player_id']],on='game_id',how='inner')\n",
    "club_ap_m=pd.merge(club_m[[\"player_id\",'club_id']],appearances[[\"player_id\",\"yellow_cards\",\"red_cards\"]],on=\"player_id\")\n",
    "m=pd.pivot_table(club_ap_m,index='club_id',values=[\"yellow_cards\",\"red_cards\"],aggfunc='sum')\n",
    "m['total_match']=pd.pivot_table(game_events,index=\"club_id\",values=\"game_id\",aggfunc=\"count\")\n",
    "m['total_match'] = m['total_match'].fillna(0)\n",
    "fig = px.scatter(m.head(100),x='red_cards', y='yellow_cards', size='total_match', color=m.head(100).index,\n",
    "                 hover_name=m.head(100).index, title='Interactive Bubble Chart',\n",
    "                 labels={'red_cards': 'Red Cards', 'yellow_cards': 'Yellow Cards'})\n",
    "fig.update_layout(xaxis_title='Red Cards', yaxis_title='Yellow Cards', showlegend=False)\n",
    "fig.show()"
   ]
  },
  {
   "cell_type": "markdown",
   "id": "18ad5fb1-7373-4e47-b6a9-da9ab1025afe",
   "metadata": {},
   "source": [
    "## Player Nationality Analysis"
   ]
  },
  {
   "cell_type": "markdown",
   "id": "820fdf3f-f46c-427d-a62a-210ad9530727",
   "metadata": {},
   "source": [
    "This A/B testing investigates whether the number of foreign players, and the number of national team players have an impact on the number of wins achieved by clubs. A hypothesis test is conducted to determine if there is a significant difference in the number of wins between clubs with a high percentage of foreign players and those with a lower percentage.\n",
    "\n",
    "* **Null Hypothesis (H0):** There is no significant difference in the number of wins between clubs with a high percentage of foreign players and those with a lower percentage.\n",
    "* **Alternate Hypothesis (H1)**: Clubs with a high percentage of foreign players have significantly more wins compared to clubs with a lower percentage."
   ]
  },
  {
   "cell_type": "code",
   "execution_count": 48,
   "id": "a8ba6908-54b6-4284-9525-9051d388cd25",
   "metadata": {},
   "outputs": [],
   "source": [
    "df=pd.merge(clubs[[\"club_id\",'foreigners_number',\"national_team_players\"]],club_games[['club_id',\"is_win\"]],on=\"club_id\")\n",
    "df=pd.pivot_table(df,index='club_id',values=['foreigners_number',\"national_team_players\",\"is_win\"],\n",
    "               aggfunc={\"foreigners_number\":\"mean\",\"national_team_players\":\"mean\",\"is_win\":\"sum\"})"
   ]
  },
  {
   "cell_type": "code",
   "execution_count": 49,
   "id": "d508e18b-d848-479d-8553-cc1e4d7f3734",
   "metadata": {},
   "outputs": [
    {
     "data": {
      "image/png": "[encoded data removed]",
      "text/plain": [
       "<Figure size 1200x500 with 2 Axes>"
      ]
     },
     "metadata": {},
     "output_type": "display_data"
    }
   ],
   "source": [
    "fig, axes = plt.subplots(1, 2, figsize=(12, 5))\n",
    "sns.scatterplot(data=df, x=\"is_win\", y=\"foreigners_number\", ax=axes[0])\n",
    "axes[0].set_title('Foreigners Number vs Win')\n",
    "\n",
    "sns.scatterplot(data=df, x=\"is_win\", y=\"national_team_players\", ax=axes[1])\n",
    "axes[1].set_title('National Team Players vs. Win')\n",
    "\n",
    "plt.tight_layout()\n",
    "plt.show()"
   ]
  },
  {
   "cell_type": "code",
   "execution_count": 50,
   "id": "f6d331df-7718-4804-93c0-93dd61ebda9b",
   "metadata": {},
   "outputs": [
    {
     "name": "stdout",
     "output_type": "stream",
     "text": [
      "[[1.         0.40417937]\n",
      " [0.40417937 1.        ]]\n",
      "[[1.         0.69411684]\n",
      " [0.69411684 1.        ]]\n",
      "There is no significant difference in the number of wins between clubs with a high percentage of foreign players and those with a lower percentage\n"
     ]
    }
   ],
   "source": [
    "print(np.corrcoef(df['foreigners_number'],df['is_win']))\n",
    "print(np.corrcoef(df['national_team_players'],df['is_win']))\n",
    "\n",
    "np.random.seed(1)\n",
    "g1=df[df['foreigners_number']>df['foreigners_number'].mean()].sample(30)\n",
    "g2=df[df['foreigners_number']<df['foreigners_number'].mean()].sample(30)\n",
    "\n",
    "statistic,pvalue=ss.ttest_ind(g1['is_win'],g2['is_win'])\n",
    "if pvalue<0.05:\n",
    "    print(\"There is no significant difference in the number of wins between clubs with a high percentage of foreign players and those with a lower percentage\")\n",
    "else:\n",
    "    print(\"We fail to reject the null hypothesis\")"
   ]
  },
  {
   "cell_type": "markdown",
   "id": "9ad5a066-7839-4e6f-89ae-9f39235a590f",
   "metadata": {},
   "source": [
    "The t-test did not find a statistically significant positive association between the presence of foreign players and improved club performance at a 5% significance level .These findings can help clubs optimize their team composition to improve performance and achieve better results in competitions."
   ]
  },
  {
   "cell_type": "markdown",
   "id": "6e8f6e0c-a88d-4ddf-b5b0-d05944ed194b",
   "metadata": {},
   "source": [
    "## Home vs Away Performance Analysis"
   ]
  },
  {
   "cell_type": "markdown",
   "id": "36541f44-dd37-41e9-a1bc-5c7466009eb5",
   "metadata": {},
   "source": [
    "This analysis focuses on the performance of football clubs in home and away matches across various competitions. The aim is to understand the distribution of wins when clubs play at home versus away and identify if there is a significant difference in performance based on the location of the match.\n",
    "\n",
    "\n",
    "Firstly, the dataset merges club games and general games data, focusing on essential attributes like club IDs, home and away goals, and competition IDs. Matches are then classified as \"Home\" or \"Away\" based on the higher goal-scoring club. A cross-tabulation is conducted to quantify the number of home and away wins per competition. Competitions are filtered based on the average number of matches, ensuring a focus on significant data subsets. Finally, a stacked bar chart visually represents the distribution of home and away wins, providing insights into performance trends across different leagues."
   ]
  },
  {
   "cell_type": "code",
   "execution_count": 51,
   "id": "ad2416c0-1a07-4082-9c42-dcca9ce34415",
   "metadata": {},
   "outputs": [
    {
     "data": {
      "text/html": [
       "<div>\n",
       "<style scoped>\n",
       "    .dataframe tbody tr th:only-of-type {\n",
       "        vertical-align: middle;\n",
       "    }\n",
       "\n",
       "    .dataframe tbody tr th {\n",
       "        vertical-align: top;\n",
       "    }\n",
       "\n",
       "    .dataframe thead th {\n",
       "        text-align: right;\n",
       "    }\n",
       "</style>\n",
       "<table border=\"1\" class=\"dataframe\">\n",
       "  <thead>\n",
       "    <tr style=\"text-align: right;\">\n",
       "      <th>Home/Away</th>\n",
       "      <th>Away</th>\n",
       "      <th>Home</th>\n",
       "      <th>All</th>\n",
       "    </tr>\n",
       "    <tr>\n",
       "      <th>competition_id</th>\n",
       "      <th></th>\n",
       "      <th></th>\n",
       "      <th></th>\n",
       "    </tr>\n",
       "  </thead>\n",
       "  <tbody>\n",
       "    <tr>\n",
       "      <th>BE1</th>\n",
       "      <td>3110.0</td>\n",
       "      <td>2528.0</td>\n",
       "      <td>5638</td>\n",
       "    </tr>\n",
       "    <tr>\n",
       "      <th>DK1</th>\n",
       "      <td>2196.0</td>\n",
       "      <td>1634.0</td>\n",
       "      <td>3830</td>\n",
       "    </tr>\n",
       "    <tr>\n",
       "      <th>EL</th>\n",
       "      <td>2444.0</td>\n",
       "      <td>2136.0</td>\n",
       "      <td>4580</td>\n",
       "    </tr>\n",
       "    <tr>\n",
       "      <th>ELQ</th>\n",
       "      <td>2434.0</td>\n",
       "      <td>2160.0</td>\n",
       "      <td>4594</td>\n",
       "    </tr>\n",
       "    <tr>\n",
       "      <th>ES1</th>\n",
       "      <td>4358.0</td>\n",
       "      <td>3722.0</td>\n",
       "      <td>8080</td>\n",
       "    </tr>\n",
       "    <tr>\n",
       "      <th>FAC</th>\n",
       "      <td>1728.0</td>\n",
       "      <td>1508.0</td>\n",
       "      <td>3236</td>\n",
       "    </tr>\n",
       "    <tr>\n",
       "      <th>FR1</th>\n",
       "      <td>4476.0</td>\n",
       "      <td>3540.0</td>\n",
       "      <td>8016</td>\n",
       "    </tr>\n",
       "    <tr>\n",
       "      <th>GB1</th>\n",
       "      <td>4540.0</td>\n",
       "      <td>3672.0</td>\n",
       "      <td>8212</td>\n",
       "    </tr>\n",
       "    <tr>\n",
       "      <th>GR1</th>\n",
       "      <td>2642.0</td>\n",
       "      <td>2436.0</td>\n",
       "      <td>5078</td>\n",
       "    </tr>\n",
       "    <tr>\n",
       "      <th>IT1</th>\n",
       "      <td>4632.0</td>\n",
       "      <td>3568.0</td>\n",
       "      <td>8200</td>\n",
       "    </tr>\n",
       "    <tr>\n",
       "      <th>L1</th>\n",
       "      <td>3638.0</td>\n",
       "      <td>2986.0</td>\n",
       "      <td>6624</td>\n",
       "    </tr>\n",
       "    <tr>\n",
       "      <th>NL1</th>\n",
       "      <td>3536.0</td>\n",
       "      <td>2952.0</td>\n",
       "      <td>6488</td>\n",
       "    </tr>\n",
       "    <tr>\n",
       "      <th>PO1</th>\n",
       "      <td>3458.0</td>\n",
       "      <td>2746.0</td>\n",
       "      <td>6204</td>\n",
       "    </tr>\n",
       "    <tr>\n",
       "      <th>RU1</th>\n",
       "      <td>2918.0</td>\n",
       "      <td>2250.0</td>\n",
       "      <td>5168</td>\n",
       "    </tr>\n",
       "    <tr>\n",
       "      <th>SC1</th>\n",
       "      <td>2618.0</td>\n",
       "      <td>1980.0</td>\n",
       "      <td>4598</td>\n",
       "    </tr>\n",
       "    <tr>\n",
       "      <th>TR1</th>\n",
       "      <td>3836.0</td>\n",
       "      <td>3196.0</td>\n",
       "      <td>7032</td>\n",
       "    </tr>\n",
       "    <tr>\n",
       "      <th>UKR1</th>\n",
       "      <td>2194.0</td>\n",
       "      <td>1616.0</td>\n",
       "      <td>3810</td>\n",
       "    </tr>\n",
       "    <tr>\n",
       "      <th>All</th>\n",
       "      <td>67390.0</td>\n",
       "      <td>55686.0</td>\n",
       "      <td>123076</td>\n",
       "    </tr>\n",
       "  </tbody>\n",
       "</table>\n",
       "</div>"
      ],
      "text/plain": [
       "Home/Away          Away     Home     All\n",
       "competition_id                          \n",
       "BE1              3110.0   2528.0    5638\n",
       "DK1              2196.0   1634.0    3830\n",
       "EL               2444.0   2136.0    4580\n",
       "ELQ              2434.0   2160.0    4594\n",
       "ES1              4358.0   3722.0    8080\n",
       "FAC              1728.0   1508.0    3236\n",
       "FR1              4476.0   3540.0    8016\n",
       "GB1              4540.0   3672.0    8212\n",
       "GR1              2642.0   2436.0    5078\n",
       "IT1              4632.0   3568.0    8200\n",
       "L1               3638.0   2986.0    6624\n",
       "NL1              3536.0   2952.0    6488\n",
       "PO1              3458.0   2746.0    6204\n",
       "RU1              2918.0   2250.0    5168\n",
       "SC1              2618.0   1980.0    4598\n",
       "TR1              3836.0   3196.0    7032\n",
       "UKR1             2194.0   1616.0    3810\n",
       "All             67390.0  55686.0  123076"
      ]
     },
     "execution_count": 51,
     "metadata": {},
     "output_type": "execute_result"
    }
   ],
   "source": [
    "home_away=pd.merge(club_games[['game_id','club_id']],games[['game_id','home_club_goals','away_club_goals','competition_id']],on='game_id',how='left')\n",
    "home_away=home_away.drop(columns=\"game_id\")\n",
    "home_away[\"Home/Away\"]=np.where(home_away['home_club_goals']>home_away['away_club_goals'],\"Home\",\"Away\")\n",
    "home_away_c=pd.crosstab(index=home_away['competition_id'],columns=home_away['Home/Away'],values=home_away['Home/Away'],aggfunc=\"count\",margins=True)\n",
    "home_away_c.dropna(inplace=True)\n",
    "tyr=pd.crosstab(index=home_away['competition_id'],columns=home_away['Home/Away'],values=home_away['Home/Away'],aggfunc=\"count\",margins=True)\n",
    "tyr.iloc[:-1,2:].mean()\n",
    "home_away_c=tyr[tyr['All']>2862.232558]\n",
    "home_away_c"
   ]
  },
  {
   "cell_type": "code",
   "execution_count": 52,
   "id": "bf4f9d08-7031-44b4-a7fb-b3f7e4cd8c00",
   "metadata": {},
   "outputs": [
    {
     "data": {
      "text/plain": [
       "<matplotlib.legend.Legend at 0x181730e8050>"
      ]
     },
     "execution_count": 52,
     "metadata": {},
     "output_type": "execute_result"
    },
    {
     "data": {
      "image/png": "[encoded data removed]",
      "text/plain": [
       "<Figure size 1400x700 with 1 Axes>"
      ]
     },
     "metadata": {},
     "output_type": "display_data"
    }
   ],
   "source": [
    "plt.figure(figsize=(14,7))\n",
    "plt.bar(home_away_c.iloc[:-1].index,home_away_c['All'].iloc[:-1], label = 'Home')\n",
    "plt.bar(home_away_c.iloc[:-1].index,home_away_c['Away'].iloc[:-1],bottom=home_away_c['Home'].iloc[:-1],label = 'Away')\n",
    "plt.ylabel(\"Home/Away Wins\")\n",
    "plt.xlabel(\"Competition\")\n",
    "plt.title(\"Home Vs Away Club Performance Across Various Competitions\")\n",
    "plt.legend()"
   ]
  },
  {
   "cell_type": "markdown",
   "id": "64abe975-7c80-4df0-b89f-202d4c66417e",
   "metadata": {},
   "source": [
    "This analysis highlights the significance of match location in football performance, with clubs generally performing better in away games. Understanding this trend can help clubs strategize better for away matches and leverage their home advantage effectively. "
   ]
  },
  {
   "cell_type": "markdown",
   "id": "d9f334b2-d9b2-46d7-b11c-ed4f292b78c2",
   "metadata": {},
   "source": [
    "## Club Performace Report"
   ]
  },
  {
   "cell_type": "markdown",
   "id": "35b4d444-8448-4afa-b935-34b39a0d7c34",
   "metadata": {},
   "source": [
    "This section focuses on evaluating the performance of football clubs based on various metrics derived from match data. The process begins with merging club game records and game event data to gather comprehensive information. Subsequently, player-level data, including yellow cards and red cards, is aggregated at the club level using pivot tables. Additionally, match-related metrics like opponent goals, opponent position, and match outcomes are consolidated for each club. Using a scoring mechanism considering goals, match outcomes, and disciplinary actions, clubs are ranked to provide a comparative assessment of their standing.\n",
    "\n",
    "**Weight Assignment Rationale :** \n",
    "\n",
    "* Home Club Goals (0.2): Given moderate importance as goals scored at home reflect a team's ability to capitalize on home advantage.\n",
    "\n",
    "* Away Club Goals (0.2): Similar weight as home goals, emphasizing the significance of defensive stability in away matches.\n",
    "\n",
    "* Red Cards (-0.1): Negative weight assigned due to the detrimental impact of player dismissals on team performance and prospects of winning.\n",
    "\n",
    "* Yellow Cards (-0.1): Negative weight attributed to the potential consequences of accumulated bookings, such as player suspensions and team disadvantage.\n",
    "\n",
    "* Match Wins (0.3): Given the highest weight to prioritize the ultimate objective of football – winning matches and securing points.\n",
    "\n",
    "* Opponent Goals (-0.2): Negative weight assigned to emphasize the importance of defensive solidity and minimizing goals conceded.\n",
    "\n",
    "* Opponent Position (0.1): Positive weight to acknowledge the varying levels of difficulty posed by opponents based on their league standings, influencing the significance of match outcomes"
   ]
  },
  {
   "cell_type": "code",
   "execution_count": 53,
   "id": "b8fe5b57-fa23-4c9c-9d16-47ff3cea78e9",
   "metadata": {},
   "outputs": [
    {
     "data": {
      "text/html": [
       "<div>\n",
       "<style scoped>\n",
       "    .dataframe tbody tr th:only-of-type {\n",
       "        vertical-align: middle;\n",
       "    }\n",
       "\n",
       "    .dataframe tbody tr th {\n",
       "        vertical-align: top;\n",
       "    }\n",
       "\n",
       "    .dataframe thead th {\n",
       "        text-align: right;\n",
       "    }\n",
       "</style>\n",
       "<table border=\"1\" class=\"dataframe\">\n",
       "  <thead>\n",
       "    <tr style=\"text-align: right;\">\n",
       "      <th></th>\n",
       "      <th>home_club_goals</th>\n",
       "      <th>away_club_goals</th>\n",
       "      <th>red_cards</th>\n",
       "      <th>yellow_cards</th>\n",
       "      <th>is_win</th>\n",
       "      <th>opponent_goals</th>\n",
       "      <th>opponent_position</th>\n",
       "    </tr>\n",
       "    <tr>\n",
       "      <th>club_id</th>\n",
       "      <th></th>\n",
       "      <th></th>\n",
       "      <th></th>\n",
       "      <th></th>\n",
       "      <th></th>\n",
       "      <th></th>\n",
       "      <th></th>\n",
       "    </tr>\n",
       "  </thead>\n",
       "  <tbody>\n",
       "    <tr>\n",
       "      <th>440</th>\n",
       "      <td>0</td>\n",
       "      <td>1</td>\n",
       "      <td>5</td>\n",
       "      <td>360</td>\n",
       "      <td>1</td>\n",
       "      <td>14</td>\n",
       "      <td>-5</td>\n",
       "    </tr>\n",
       "    <tr>\n",
       "      <th>113</th>\n",
       "      <td>0</td>\n",
       "      <td>4</td>\n",
       "      <td>14</td>\n",
       "      <td>1196</td>\n",
       "      <td>1</td>\n",
       "      <td>26</td>\n",
       "      <td>-9</td>\n",
       "    </tr>\n",
       "    <tr>\n",
       "      <th>60</th>\n",
       "      <td>1</td>\n",
       "      <td>1</td>\n",
       "      <td>1016</td>\n",
       "      <td>66455</td>\n",
       "      <td>145</td>\n",
       "      <td>577</td>\n",
       "      <td>3148</td>\n",
       "    </tr>\n",
       "    <tr>\n",
       "      <th>41</th>\n",
       "      <td>0</td>\n",
       "      <td>1</td>\n",
       "      <td>644</td>\n",
       "      <td>36443</td>\n",
       "      <td>76</td>\n",
       "      <td>401</td>\n",
       "      <td>1786</td>\n",
       "    </tr>\n",
       "    <tr>\n",
       "      <th>24</th>\n",
       "      <td>2</td>\n",
       "      <td>1</td>\n",
       "      <td>1658</td>\n",
       "      <td>92456</td>\n",
       "      <td>194</td>\n",
       "      <td>685</td>\n",
       "      <td>3417</td>\n",
       "    </tr>\n",
       "    <tr>\n",
       "      <th>...</th>\n",
       "      <td>...</td>\n",
       "      <td>...</td>\n",
       "      <td>...</td>\n",
       "      <td>...</td>\n",
       "      <td>...</td>\n",
       "      <td>...</td>\n",
       "      <td>...</td>\n",
       "    </tr>\n",
       "    <tr>\n",
       "      <th>12</th>\n",
       "      <td>0</td>\n",
       "      <td>0</td>\n",
       "      <td>3401</td>\n",
       "      <td>148275</td>\n",
       "      <td>282</td>\n",
       "      <td>610</td>\n",
       "      <td>4432</td>\n",
       "    </tr>\n",
       "    <tr>\n",
       "      <th>11127</th>\n",
       "      <td>1</td>\n",
       "      <td>1</td>\n",
       "      <td>832</td>\n",
       "      <td>46555</td>\n",
       "      <td>108</td>\n",
       "      <td>481</td>\n",
       "      <td>2367</td>\n",
       "    </tr>\n",
       "    <tr>\n",
       "      <th>338</th>\n",
       "      <td>0</td>\n",
       "      <td>2</td>\n",
       "      <td>2374</td>\n",
       "      <td>91369</td>\n",
       "      <td>264</td>\n",
       "      <td>410</td>\n",
       "      <td>2027</td>\n",
       "    </tr>\n",
       "    <tr>\n",
       "      <th>3592</th>\n",
       "      <td>1</td>\n",
       "      <td>2</td>\n",
       "      <td>86</td>\n",
       "      <td>5229</td>\n",
       "      <td>22</td>\n",
       "      <td>72</td>\n",
       "      <td>399</td>\n",
       "    </tr>\n",
       "    <tr>\n",
       "      <th>11127</th>\n",
       "      <td>2</td>\n",
       "      <td>0</td>\n",
       "      <td>832</td>\n",
       "      <td>46555</td>\n",
       "      <td>108</td>\n",
       "      <td>481</td>\n",
       "      <td>2367</td>\n",
       "    </tr>\n",
       "  </tbody>\n",
       "</table>\n",
       "<p>122382 rows × 7 columns</p>\n",
       "</div>"
      ],
      "text/plain": [
       "         home_club_goals  away_club_goals  red_cards  yellow_cards  is_win  \\\n",
       "club_id                                                                      \n",
       "440                    0                1          5           360       1   \n",
       "113                    0                4         14          1196       1   \n",
       "60                     1                1       1016         66455     145   \n",
       "41                     0                1        644         36443      76   \n",
       "24                     2                1       1658         92456     194   \n",
       "...                  ...              ...        ...           ...     ...   \n",
       "12                     0                0       3401        148275     282   \n",
       "11127                  1                1        832         46555     108   \n",
       "338                    0                2       2374         91369     264   \n",
       "3592                   1                2         86          5229      22   \n",
       "11127                  2                0        832         46555     108   \n",
       "\n",
       "         opponent_goals  opponent_position  \n",
       "club_id                                     \n",
       "440                  14                 -5  \n",
       "113                  26                 -9  \n",
       "60                  577               3148  \n",
       "41                  401               1786  \n",
       "24                  685               3417  \n",
       "...                 ...                ...  \n",
       "12                  610               4432  \n",
       "11127               481               2367  \n",
       "338                 410               2027  \n",
       "3592                 72                399  \n",
       "11127               481               2367  \n",
       "\n",
       "[122382 rows x 7 columns]"
      ]
     },
     "metadata": {},
     "output_type": "display_data"
    }
   ],
   "source": [
    "club_m=pd.merge(club_games,game_events[['game_id','player_id']],on='game_id',how='inner')\n",
    "club_ap_m=pd.merge(club_m[[\"player_id\",'club_id']],appearances[[\"player_id\",\"yellow_cards\",\"red_cards\"]],on=\"player_id\")\n",
    "m=pd.pivot_table(club_ap_m,index='club_id',values=[\"yellow_cards\",\"red_cards\"],aggfunc='sum')\n",
    "l=pd.pivot_table(club_games,index='club_id',values=[\"opponent_goals\",\"opponent_position\",\"is_win\"],aggfunc=\"sum\")\n",
    "p=pd.merge(m,l,on=\"club_id\",how=\"inner\")\n",
    "report=pd.merge(home_away[['club_id','home_club_goals','away_club_goals']],p,on=\"club_id\").set_index(\"club_id\")\n",
    "display(report)"
   ]
  },
  {
   "cell_type": "code",
   "execution_count": 54,
   "id": "1023adc8-2a45-4ae2-9818-77547925a159",
   "metadata": {},
   "outputs": [
    {
     "data": {
      "text/html": [
       "<div>\n",
       "<style scoped>\n",
       "    .dataframe tbody tr th:only-of-type {\n",
       "        vertical-align: middle;\n",
       "    }\n",
       "\n",
       "    .dataframe tbody tr th {\n",
       "        vertical-align: top;\n",
       "    }\n",
       "\n",
       "    .dataframe thead th {\n",
       "        text-align: right;\n",
       "    }\n",
       "</style>\n",
       "<table border=\"1\" class=\"dataframe\">\n",
       "  <thead>\n",
       "    <tr style=\"text-align: right;\">\n",
       "      <th></th>\n",
       "      <th>name</th>\n",
       "      <th>score</th>\n",
       "      <th>rank</th>\n",
       "    </tr>\n",
       "  </thead>\n",
       "  <tbody>\n",
       "    <tr>\n",
       "      <th>9</th>\n",
       "      <td>Bayern Munich</td>\n",
       "      <td>0.216166</td>\n",
       "      <td>1.0</td>\n",
       "    </tr>\n",
       "    <tr>\n",
       "      <th>64</th>\n",
       "      <td>Celtic FC</td>\n",
       "      <td>0.191035</td>\n",
       "      <td>2.0</td>\n",
       "    </tr>\n",
       "    <tr>\n",
       "      <th>101</th>\n",
       "      <td>Olympiacos Piraeus</td>\n",
       "      <td>0.187729</td>\n",
       "      <td>3.0</td>\n",
       "    </tr>\n",
       "    <tr>\n",
       "      <th>93</th>\n",
       "      <td>Ajax Amsterdam</td>\n",
       "      <td>0.175238</td>\n",
       "      <td>4.0</td>\n",
       "    </tr>\n",
       "    <tr>\n",
       "      <th>50</th>\n",
       "      <td>Manchester City</td>\n",
       "      <td>0.168389</td>\n",
       "      <td>5.0</td>\n",
       "    </tr>\n",
       "    <tr>\n",
       "      <th>...</th>\n",
       "      <td>...</td>\n",
       "      <td>...</td>\n",
       "      <td>...</td>\n",
       "    </tr>\n",
       "    <tr>\n",
       "      <th>118</th>\n",
       "      <td>Celta de Vigo</td>\n",
       "      <td>-0.021305</td>\n",
       "      <td>232.0</td>\n",
       "    </tr>\n",
       "    <tr>\n",
       "      <th>72</th>\n",
       "      <td>Udinese Calcio</td>\n",
       "      <td>-0.022362</td>\n",
       "      <td>233.0</td>\n",
       "    </tr>\n",
       "    <tr>\n",
       "      <th>129</th>\n",
       "      <td>UC Sampdoria</td>\n",
       "      <td>-0.022968</td>\n",
       "      <td>234.0</td>\n",
       "    </tr>\n",
       "    <tr>\n",
       "      <th>128</th>\n",
       "      <td>Bologna FC 1909</td>\n",
       "      <td>-0.026504</td>\n",
       "      <td>235.0</td>\n",
       "    </tr>\n",
       "    <tr>\n",
       "      <th>207</th>\n",
       "      <td>US Sassuolo</td>\n",
       "      <td>-0.045464</td>\n",
       "      <td>236.0</td>\n",
       "    </tr>\n",
       "  </tbody>\n",
       "</table>\n",
       "<p>236 rows × 3 columns</p>\n",
       "</div>"
      ],
      "text/plain": [
       "                   name     score   rank\n",
       "9         Bayern Munich  0.216166    1.0\n",
       "64            Celtic FC  0.191035    2.0\n",
       "101  Olympiacos Piraeus  0.187729    3.0\n",
       "93       Ajax Amsterdam  0.175238    4.0\n",
       "50      Manchester City  0.168389    5.0\n",
       "..                  ...       ...    ...\n",
       "118       Celta de Vigo -0.021305  232.0\n",
       "72       Udinese Calcio -0.022362  233.0\n",
       "129        UC Sampdoria -0.022968  234.0\n",
       "128     Bologna FC 1909 -0.026504  235.0\n",
       "207         US Sassuolo -0.045464  236.0\n",
       "\n",
       "[236 rows x 3 columns]"
      ]
     },
     "metadata": {},
     "output_type": "display_data"
    }
   ],
   "source": [
    "cl_report=pd.merge(report,clubs[['club_id','name']],on='club_id').drop_duplicates()\n",
    "m=list(cl_report[cl_report['name'].isna()]['club_id'])\n",
    "df=cl_report[~cl_report['club_id'].isin(m)]\n",
    "\n",
    "df=df.reset_index()\n",
    "numeric_columns = df.select_dtypes(include=['int64', 'float64']).columns.drop(['index', 'club_id'])\n",
    "\n",
    "scaler = MinMaxScaler()\n",
    "scaled_data = scaler.fit_transform(df[numeric_columns])\n",
    "N_df = pd.DataFrame(scaled_data, columns=numeric_columns)\n",
    "N_df[['index', 'club_id', 'name']] = df[['index', 'club_id', 'name']]\n",
    "\n",
    "\n",
    "\n",
    "weights = {\n",
    "    'home_club_goals': 0.2,\n",
    "    'away_club_goals': 0.2,\n",
    "    'red_cards': -0.1,\n",
    "    'yellow_cards': -0.1,\n",
    "    'is_win': 0.3,\n",
    "    'opponent_goals': -0.2,\n",
    "    'opponent_position': 0.1\n",
    "}\n",
    "\n",
    "N_df['score'] = (\n",
    "    N_df['home_club_goals'] * weights['home_club_goals'] +\n",
    "    N_df['away_club_goals'] * weights['away_club_goals'] +\n",
    "    N_df['red_cards'] * weights['red_cards'] +\n",
    "    N_df['yellow_cards'] * weights['yellow_cards'] +\n",
    "    N_df['is_win'] * weights['is_win'] +\n",
    "    N_df['opponent_goals'] * weights['opponent_goals'] +\n",
    "    N_df['opponent_position'] * weights['opponent_position']\n",
    ")\n",
    "\n",
    "M_r  = N_df.groupby(['club_id','name'])['score'].mean().reset_index()\n",
    "M_r['rank'] = M_r['score'].rank(ascending=False)\n",
    "display(M_r[[\"name\",\"score\",\"rank\"]].sort_values(by=\"rank\"))"
   ]
  },
  {
   "cell_type": "markdown",
   "id": "cbf0e5a6-01ee-4715-ba0b-8eea96cef297",
   "metadata": {},
   "source": [
    "The performance Report  provides valuable insights into the strengths and weaknesses of football clubs, enabling stakeholders to make informed decisions regarding team management, player recruitment, and strategic planning. By considering multiple performance indicators, this analysis provides a holistic view of club performance, facilitating data-driven strategies for improvement and success in competitive football environments."
   ]
  },
  {
   "cell_type": "markdown",
   "id": "9df82d15-267f-42b9-be80-c0565eb669bb",
   "metadata": {},
   "source": [
    "## Age Group Dynamics and Performance in Football Clubs"
   ]
  },
  {
   "cell_type": "markdown",
   "id": "d4c5883b-732d-4a0c-84e9-5a1196d27b68",
   "metadata": {},
   "source": [
    "Here we examine the relationship between the age of players and the success of football clubs.Player ages are categorized into three distinct bins: (22-24], (24-26], and (26-28] and aggregated based on no. of wins. This categorization allows for a more focused examination of player age groups and their corresponding performance outcomes."
   ]
  },
  {
   "cell_type": "code",
   "execution_count": 55,
   "id": "a3b067ec-ad64-494d-b5d7-a6a7dace263c",
   "metadata": {},
   "outputs": [
    {
     "data": {
      "text/plain": [
       "(array([  4.,   2.,  16.,  52.,  56., 103.,  63.,  43.,  26.,   8.]),\n",
       " array([20.9 , 21.76, 22.62, 23.48, 24.34, 25.2 , 26.06, 26.92, 27.78,\n",
       "        28.64, 29.5 ]),\n",
       " <BarContainer object of 10 artists>)"
      ]
     },
     "execution_count": 55,
     "metadata": {},
     "output_type": "execute_result"
    },
    {
     "data": {
      "image/png": "[encoded data removed]",
      "text/plain": [
       "<Figure size 800x550 with 1 Axes>"
      ]
     },
     "metadata": {},
     "output_type": "display_data"
    }
   ],
   "source": [
    "plt.hist(clubs['average_age'])"
   ]
  },
  {
   "cell_type": "code",
   "execution_count": 56,
   "id": "a74e04c0-f9d5-4b5d-ad1e-a038579c25ce",
   "metadata": {},
   "outputs": [
    {
     "data": {
      "text/html": [
       "<div>\n",
       "<style scoped>\n",
       "    .dataframe tbody tr th:only-of-type {\n",
       "        vertical-align: middle;\n",
       "    }\n",
       "\n",
       "    .dataframe tbody tr th {\n",
       "        vertical-align: top;\n",
       "    }\n",
       "\n",
       "    .dataframe thead th {\n",
       "        text-align: right;\n",
       "    }\n",
       "</style>\n",
       "<table border=\"1\" class=\"dataframe\">\n",
       "  <thead>\n",
       "    <tr style=\"text-align: right;\">\n",
       "      <th></th>\n",
       "      <th>is_win</th>\n",
       "    </tr>\n",
       "    <tr>\n",
       "      <th>age_bin</th>\n",
       "      <th></th>\n",
       "    </tr>\n",
       "  </thead>\n",
       "  <tbody>\n",
       "    <tr>\n",
       "      <th>(22, 24]</th>\n",
       "      <td>3720</td>\n",
       "    </tr>\n",
       "    <tr>\n",
       "      <th>(24, 26]</th>\n",
       "      <td>18919</td>\n",
       "    </tr>\n",
       "    <tr>\n",
       "      <th>(26, 28]</th>\n",
       "      <td>14252</td>\n",
       "    </tr>\n",
       "  </tbody>\n",
       "</table>\n",
       "</div>"
      ],
      "text/plain": [
       "          is_win\n",
       "age_bin         \n",
       "(22, 24]    3720\n",
       "(24, 26]   18919\n",
       "(26, 28]   14252"
      ]
     },
     "execution_count": 56,
     "metadata": {},
     "output_type": "execute_result"
    }
   ],
   "source": [
    "clubs['age_bin']=pd.cut(clubs['average_age'],bins=[22,24,26,28])\n",
    "clu_age=pd.merge(clubs,club_games[['club_id','is_win']],on=\"club_id\")\n",
    "pd.pivot_table(clu_age,index=\"age_bin\",values=\"is_win\",aggfunc=\"sum\",observed=False)"
   ]
  },
  {
   "cell_type": "markdown",
   "id": "134dfbde-b380-4945-8182-2d83b5bd0bde",
   "metadata": {},
   "source": [
    "Clubs with players aged between 24 and 26 years exhibit the highest number of wins, totaling an impressive 18,919 victories. Meanwhile clubs with players aged 22 to 24 years achieved a total of 3,720 wins, indicating a comparatively lower success rate.This helps us to understand the significance of player age in determining club success. "
   ]
  },
  {
   "cell_type": "markdown",
   "id": "144e6fc0-d5d5-417c-a057-263ca0c39a25",
   "metadata": {},
   "source": [
    "##  Exploring the Relationship Between Squad Size and Win Rates"
   ]
  },
  {
   "cell_type": "markdown",
   "id": "d5da4197-1b1b-4a9a-bef7-dcef70b58529",
   "metadata": {},
   "source": [
    "In the realm of football, the dynamics of squad composition often spark discussions about their impact on team performance. Among the various factors considered, squad size stands out as a pivotal element that may influence a club's success on the field. This analysis delves into the intriguing question: does squad size affect with win rates of football clubs?\n",
    "\n",
    "To address this question,we construct a pivot table to aggregate win counts based on squad size. This initial step allows us to examine potential trends and patterns in the data."
   ]
  },
  {
   "cell_type": "code",
   "execution_count": 57,
   "id": "27a28f6c-4837-4eed-ade2-343d8fa51eb7",
   "metadata": {},
   "outputs": [
    {
     "name": "stdout",
     "output_type": "stream",
     "text": [
      "Corelation between 0.39450477400286577\n"
     ]
    },
    {
     "data": {
      "text/plain": [
       "<matplotlib.collections.PathCollection at 0x1816de34710>"
      ]
     },
     "execution_count": 57,
     "metadata": {},
     "output_type": "execute_result"
    },
    {
     "data": {
      "image/png": "[encoded data removed]",
      "text/plain": [
       "<Figure size 800x550 with 1 Axes>"
      ]
     },
     "metadata": {},
     "output_type": "display_data"
    }
   ],
   "source": [
    "t=pd.pivot_table(clu_age,index=\"squad_size\",values=\"is_win\",aggfunc=\"sum\",observed=False)\n",
    "print(\"Corelation between\",np.corrcoef(t.index,t['is_win'])[0][1])\n",
    "plt.scatter(t.index,t['is_win'])"
   ]
  },
  {
   "cell_type": "markdown",
   "id": "e2bf6707-6299-40dd-bc37-dc36e1d720b9",
   "metadata": {},
   "source": [
    "There is moderate postive corelation of 0.39 between squad size and win rates."
   ]
  },
  {
   "cell_type": "markdown",
   "id": "fb64f370-bab6-4356-bcfa-352535da54cf",
   "metadata": {},
   "source": [
    "We perform a t-test, we assess whether there exists a significant association between squad size and win rates. This hypothesis testing allows us to draw conclusions about the relationship between these variables.\n",
    "\n",
    "**Null Hypothesis (H0)**: There is no significant association between squad size and win rates.\n",
    "\n",
    "**Alternate Hypothesis(H1)**: There is a significant association between squad size and win rates."
   ]
  },
  {
   "cell_type": "code",
   "execution_count": 58,
   "id": "0bda8ece-9981-4091-a325-d4793c48c843",
   "metadata": {},
   "outputs": [
    {
     "data": {
      "image/png": "[encoded data removed]",
      "text/plain": [
       "<Figure size 1200x600 with 2 Axes>"
      ]
     },
     "metadata": {},
     "output_type": "display_data"
    }
   ],
   "source": [
    "# Before performing t-test , we check the assumptions of t test whether the data follows a normal distriution or not using qq-plot.\n",
    "fig, axs = plt.subplots(1, 2, figsize=(12, 6))\n",
    "ss.probplot(t.index, plot=axs[0])\n",
    "axs[0].set_title('Probability Plot for Squad Size')\n",
    "\n",
    "ss.probplot(t['is_win'], plot=axs[1])\n",
    "axs[1].set_title('Probability Plot for Wins')\n",
    "\n",
    "plt.tight_layout()\n",
    "plt.show()"
   ]
  },
  {
   "cell_type": "code",
   "execution_count": 59,
   "id": "2174e82c-9399-4267-92fb-97aa4565057f",
   "metadata": {},
   "outputs": [
    {
     "data": {
      "image/png": "[encoded data removed]",
      "text/plain": [
       "<Figure size 500x600 with 1 Axes>"
      ]
     },
     "metadata": {},
     "output_type": "display_data"
    }
   ],
   "source": [
    "# As win rates do not follow normal distribution , we perform log transformation.\n",
    "data_transform = np.log(t['is_win'])\n",
    "fig = plt.figure(figsize=(5, 6))\n",
    "ax = fig.add_subplot(111) \n",
    "ss.probplot(data_transform, plot=ax)\n",
    "plt.show()"
   ]
  },
  {
   "cell_type": "code",
   "execution_count": 60,
   "id": "0eaecba0-6bcb-4313-af01-ef73c221c908",
   "metadata": {},
   "outputs": [
    {
     "name": "stdout",
     "output_type": "stream",
     "text": [
      "There is a significant association between squad size and win rates.\n"
     ]
    }
   ],
   "source": [
    "test_statistics,pvalue=ss.ttest_ind(t.index,data_transform)\n",
    "if pvalue < 0.05:\n",
    "    print(\"There is a significant association between squad size and win rates.\")\n",
    "else:\n",
    "    print(\"There is no significant association between squad size and win rates.\")"
   ]
  },
  {
   "cell_type": "markdown",
   "id": "08535e31-9ce3-4b34-83c1-07a21108fbf3",
   "metadata": {},
   "source": [
    "The results of the t-test indicate a significant association between squad size and win rates, suggesting that squad size may indeed influence a football club's performance on the field. so yes , squad size does affect with win rates of football clubs."
   ]
  },
  {
   "cell_type": "markdown",
   "id": "d7f9f7b2-a8ef-4bb0-bb48-d19dc337f875",
   "metadata": {},
   "source": [
    "## Top 5 players of individual club"
   ]
  },
  {
   "cell_type": "markdown",
   "id": "2f8ce1f2-7802-489a-a747-da24b8d8a51d",
   "metadata": {},
   "source": [
    "The below show are Top 5 players of individual clubs based on goals.It focuses on aggregating player goal statistics across different football clubs to gain insights into their goal-scoring prowess. Initially, a pivot table is constructed to calculate the total goals scored by each player based on their unique player IDs the data is then merged with information about player current club IDs and names to contextualize goal contributions within specific clubs.Finally, a dictionary is created to map each club ID to a list of player names, offering a concise representation of the top goal scorers associated with each club."
   ]
  },
  {
   "cell_type": "code",
   "execution_count": 61,
   "id": "eb815a84-2366-44c2-bdec-c8fb749f3119",
   "metadata": {},
   "outputs": [
    {
     "data": {
      "text/html": [
       "<div>\n",
       "<style scoped>\n",
       "    .dataframe tbody tr th:only-of-type {\n",
       "        vertical-align: middle;\n",
       "    }\n",
       "\n",
       "    .dataframe tbody tr th {\n",
       "        vertical-align: top;\n",
       "    }\n",
       "\n",
       "    .dataframe thead th {\n",
       "        text-align: right;\n",
       "    }\n",
       "</style>\n",
       "<table border=\"1\" class=\"dataframe\">\n",
       "  <thead>\n",
       "    <tr style=\"text-align: right;\">\n",
       "      <th></th>\n",
       "      <th>Club name</th>\n",
       "      <th>Top players</th>\n",
       "    </tr>\n",
       "  </thead>\n",
       "  <tbody>\n",
       "    <tr>\n",
       "      <th>0</th>\n",
       "      <td>FC Barcelona</td>\n",
       "      <td>[Robert Lewandowski, Sergio Agüero, Raphinha, ...</td>\n",
       "    </tr>\n",
       "    <tr>\n",
       "      <th>1</th>\n",
       "      <td>Paris Saint-Germain</td>\n",
       "      <td>[Lionel Messi, Neymar, Kylian Mbappé, Sergio R...</td>\n",
       "    </tr>\n",
       "    <tr>\n",
       "      <th>2</th>\n",
       "      <td>Manchester United</td>\n",
       "      <td>[Cristiano Ronaldo, Wout Weghorst, Bruno Ferna...</td>\n",
       "    </tr>\n",
       "    <tr>\n",
       "      <th>3</th>\n",
       "      <td>Tottenham Hotspur</td>\n",
       "      <td>[Harry Kane, Heung-min Son, Ivan Perisic, Luca...</td>\n",
       "    </tr>\n",
       "    <tr>\n",
       "      <th>4</th>\n",
       "      <td>Real Madrid</td>\n",
       "      <td>[Karim Benzema, Gareth Bale, Eden Hazard, Marc...</td>\n",
       "    </tr>\n",
       "    <tr>\n",
       "      <th>...</th>\n",
       "      <td>...</td>\n",
       "      <td>...</td>\n",
       "    </tr>\n",
       "    <tr>\n",
       "      <th>232</th>\n",
       "      <td>Torpedo Moscow</td>\n",
       "      <td>[Igor Lebedenko, Ilya Kukharchuk, Aleksandr Ry...</td>\n",
       "    </tr>\n",
       "    <tr>\n",
       "      <th>233</th>\n",
       "      <td>Gaziantep FK</td>\n",
       "      <td>[Torgeir Börven, Marko Jevtovic, André Sousa, ...</td>\n",
       "    </tr>\n",
       "    <tr>\n",
       "      <th>234</th>\n",
       "      <td>Metalist Kharkiv</td>\n",
       "      <td>[Dmytro Korkishko, Maksym Pryadun, Yegor Kartu...</td>\n",
       "    </tr>\n",
       "    <tr>\n",
       "      <th>235</th>\n",
       "      <td>Istanbulspor</td>\n",
       "      <td>[Valon Ethemi, Ertugrul Ersoy, Sidrit Guri, Ja...</td>\n",
       "    </tr>\n",
       "    <tr>\n",
       "      <th>236</th>\n",
       "      <td>FK Orenburg</td>\n",
       "      <td>[Joel Fameyeh, Vladimir Obukhov, Blagoy Georgi...</td>\n",
       "    </tr>\n",
       "  </tbody>\n",
       "</table>\n",
       "<p>237 rows × 2 columns</p>\n",
       "</div>"
      ],
      "text/plain": [
       "               Club name                                        Top players\n",
       "0           FC Barcelona  [Robert Lewandowski, Sergio Agüero, Raphinha, ...\n",
       "1    Paris Saint-Germain  [Lionel Messi, Neymar, Kylian Mbappé, Sergio R...\n",
       "2      Manchester United  [Cristiano Ronaldo, Wout Weghorst, Bruno Ferna...\n",
       "3      Tottenham Hotspur  [Harry Kane, Heung-min Son, Ivan Perisic, Luca...\n",
       "4            Real Madrid  [Karim Benzema, Gareth Bale, Eden Hazard, Marc...\n",
       "..                   ...                                                ...\n",
       "232       Torpedo Moscow  [Igor Lebedenko, Ilya Kukharchuk, Aleksandr Ry...\n",
       "233         Gaziantep FK  [Torgeir Börven, Marko Jevtovic, André Sousa, ...\n",
       "234     Metalist Kharkiv  [Dmytro Korkishko, Maksym Pryadun, Yegor Kartu...\n",
       "235         Istanbulspor  [Valon Ethemi, Ertugrul Ersoy, Sidrit Guri, Ja...\n",
       "236          FK Orenburg  [Joel Fameyeh, Vladimir Obukhov, Blagoy Georgi...\n",
       "\n",
       "[237 rows x 2 columns]"
      ]
     },
     "execution_count": 61,
     "metadata": {},
     "output_type": "execute_result"
    }
   ],
   "source": [
    "goal_sum=pd.pivot_table(appearances,index=\"player_id\",values=\"goals\",aggfunc=\"sum\")\n",
    "\n",
    "goals_sum_club=pd.merge(goal_sum,appearances[[\"player_id\",\"player_current_club_id\",\"player_name\"]],on=\"player_id\",how=\"inner\")\n",
    "\n",
    "goals_sum_club=pd.merge(goals_sum_club,clubs[['club_id','name']],left_on=\"player_current_club_id\",right_on=\"club_id\",how=\"left\").drop_duplicates()\n",
    "goals_sum_club.sort_values(by=\"goals\",ascending=False,inplace=True)\n",
    "\n",
    "q={}\n",
    "for i in goals_sum_club['name'].unique():\n",
    "    l=goals_sum_club[goals_sum_club['name']==i]['player_name'].unique()\n",
    "    q[i]=l\n",
    "    \n",
    "goals_sum_club=pd.DataFrame(q.items())\n",
    "goals_sum_club.columns=[\"Club name\",\"Top players\"]\n",
    "goals_sum_club"
   ]
  },
  {
   "cell_type": "markdown",
   "id": "0a8075b0-477b-4945-9974-e4dd01f76ffc",
   "metadata": {},
   "source": [
    "## Top performing clubs of each competitions"
   ]
  },
  {
   "cell_type": "markdown",
   "id": "5bb3abf1-f8e4-48d3-a6f0-e97954355c42",
   "metadata": {},
   "source": [
    "This identifies the top three football clubs in various domestic competitions based on their total wins. First, the total wins for each club are aggregated and merged with club and competition information to provide a comprehensive dataset. This dataset includes club IDs, club names, competition IDs, and total win. A pivot table is then used to rank the clubs within their competitions, highlighting the top three clubs with the most wins.  Additionally, an interactive bar chart is generated, allowing users to select a specific competition and view the top three performing clubs dynamically."
   ]
  },
  {
   "cell_type": "code",
   "execution_count": 62,
   "id": "b62ce780-bdbd-4007-b421-9f811d4de65c",
   "metadata": {},
   "outputs": [],
   "source": [
    "club_o=pd.pivot_table(club_games,index=\"club_id\",values=\"is_win\",aggfunc='sum')\n",
    "club_win=pd.merge(clubs,club_o,on=\"club_id\",how=\"left\")\n",
    "club_win_d=club_win[[\"domestic_competition_id\",\"club_id\",\"name\",\"is_win\"]].rename(columns={\"domestic_competition_id\":\"competition_id\",\"name\":\"club_name\"})\n",
    "club_win_d=pd.merge(club_win_d,competitions[['competition_id','name']],on=\"competition_id\",how=\"left\")\n",
    "club_win_d_p=pd.pivot_table(club_win_d,index=[\"name\",\"club_name\"],values=\"is_win\",aggfunc=\"sum\")\n",
    "teams_df=pd.DataFrame(club_win_d_p.groupby(level='name')['is_win'].nlargest(3).reset_index(level=club_win_d_p.index.names.index('name')))\n",
    "teams_df.drop(columns=\"name\",inplace=True)\n",
    "teams_df.reset_index(inplace=True)"
   ]
  },
  {
   "cell_type": "code",
   "execution_count": 63,
   "id": "6705582f-d956-4153-af13-6ef7e33dcc73",
   "metadata": {},
   "outputs": [
    {
     "data": {
      "application/vnd.jupyter.widget-view+json": {
       "model_id": "d23c96efc6184255a5ee42cd76231584",
       "version_major": 2,
       "version_minor": 0
      },
      "text/plain": [
       "Dropdown(description='Select Competition:', options=('bundesliga', 'eredivisie', 'jupiler-pro-league', 'laliga…"
      ]
     },
     "metadata": {},
     "output_type": "display_data"
    },
    {
     "data": {
      "application/vnd.jupyter.widget-view+json": {
       "model_id": "600707b4867e4ff1bb3972564b5add3a",
       "version_major": 2,
       "version_minor": 0
      },
      "text/plain": [
       "Output()"
      ]
     },
     "metadata": {},
     "output_type": "display_data"
    }
   ],
   "source": [
    "def update_teams_plot(selected_competition):\n",
    "    plt.figure(figsize=(8, 6))\n",
    "    \n",
    "    sns.barplot(x='club_name', y='is_win', data=teams_df[teams_df['name'] == selected_competition], palette='pastel')\n",
    "    plt.title(f'Wins by Team in {selected_competition}')\n",
    "    plt.xlabel('Team')\n",
    "    plt.ylabel('Wins')\n",
    "    \n",
    "    plt.tight_layout()\n",
    "    plt.show()\n",
    "\n",
    "competition_dropdown = widgets.Dropdown(\n",
    "    options=teams_df['name'].unique(),\n",
    "    value=teams_df['name'].iloc[0],\n",
    "    description='Select Competition:',\n",
    "    style={'description_width': 'initial'}\n",
    ")\n",
    "\n",
    "teams_output = widgets.interactive_output(update_teams_plot, {'selected_competition': competition_dropdown})\n",
    "\n",
    "display(competition_dropdown, teams_output)"
   ]
  },
  {
   "cell_type": "markdown",
   "id": "2eef1e35-4742-460d-b3e0-38e5d1cb6438",
   "metadata": {},
   "source": [
    "## Top Scorer Analysis"
   ]
  },
  {
   "cell_type": "markdown",
   "id": "82bd04f5-74c0-4540-89e6-2d30dcecb27e",
   "metadata": {},
   "source": [
    "This analysis highlights the top performers in terms of goal-scoring within each league, providing a clear overview of the leading players across various competitions.Additionally, an interactive bar chart is generated, allowing users to select a specific competition and view the top three performing players dynamically."
   ]
  },
  {
   "cell_type": "code",
   "execution_count": 64,
   "id": "575ca4b3-194a-4103-8d49-d373b70a711f",
   "metadata": {},
   "outputs": [
    {
     "data": {
      "text/html": [
       "<div>\n",
       "<style scoped>\n",
       "    .dataframe tbody tr th:only-of-type {\n",
       "        vertical-align: middle;\n",
       "    }\n",
       "\n",
       "    .dataframe tbody tr th {\n",
       "        vertical-align: top;\n",
       "    }\n",
       "\n",
       "    .dataframe thead th {\n",
       "        text-align: right;\n",
       "    }\n",
       "</style>\n",
       "<table border=\"1\" class=\"dataframe\">\n",
       "  <thead>\n",
       "    <tr style=\"text-align: right;\">\n",
       "      <th></th>\n",
       "      <th>name</th>\n",
       "      <th>player_name</th>\n",
       "      <th>goals</th>\n",
       "    </tr>\n",
       "  </thead>\n",
       "  <tbody>\n",
       "    <tr>\n",
       "      <th>0</th>\n",
       "      <td>allianz-cup</td>\n",
       "      <td>Paulinho</td>\n",
       "      <td>20</td>\n",
       "    </tr>\n",
       "    <tr>\n",
       "      <th>1</th>\n",
       "      <td>allianz-cup</td>\n",
       "      <td>Jonas</td>\n",
       "      <td>10</td>\n",
       "    </tr>\n",
       "    <tr>\n",
       "      <th>2</th>\n",
       "      <td>allianz-cup</td>\n",
       "      <td>Dyego Sousa</td>\n",
       "      <td>8</td>\n",
       "    </tr>\n",
       "    <tr>\n",
       "      <th>3</th>\n",
       "      <td>belgian-supercup</td>\n",
       "      <td>Sébastien Dewaest</td>\n",
       "      <td>2</td>\n",
       "    </tr>\n",
       "    <tr>\n",
       "      <th>4</th>\n",
       "      <td>belgian-supercup</td>\n",
       "      <td>Adrien Trébel</td>\n",
       "      <td>1</td>\n",
       "    </tr>\n",
       "    <tr>\n",
       "      <th>...</th>\n",
       "      <td>...</td>\n",
       "      <td>...</td>\n",
       "      <td>...</td>\n",
       "    </tr>\n",
       "    <tr>\n",
       "      <th>121</th>\n",
       "      <td>ukrainian-cup</td>\n",
       "      <td>Bernard</td>\n",
       "      <td>6</td>\n",
       "    </tr>\n",
       "    <tr>\n",
       "      <th>122</th>\n",
       "      <td>ukrainian-cup</td>\n",
       "      <td>Bogdan Lednev</td>\n",
       "      <td>6</td>\n",
       "    </tr>\n",
       "    <tr>\n",
       "      <th>123</th>\n",
       "      <td>ukrainian-super-cup</td>\n",
       "      <td>Facundo Ferreyra</td>\n",
       "      <td>2</td>\n",
       "    </tr>\n",
       "    <tr>\n",
       "      <th>124</th>\n",
       "      <td>ukrainian-super-cup</td>\n",
       "      <td>Lassina Traoré</td>\n",
       "      <td>2</td>\n",
       "    </tr>\n",
       "    <tr>\n",
       "      <th>125</th>\n",
       "      <td>ukrainian-super-cup</td>\n",
       "      <td>Alan Patrick</td>\n",
       "      <td>1</td>\n",
       "    </tr>\n",
       "  </tbody>\n",
       "</table>\n",
       "<p>126 rows × 3 columns</p>\n",
       "</div>"
      ],
      "text/plain": [
       "                    name        player_name  goals\n",
       "0            allianz-cup           Paulinho     20\n",
       "1            allianz-cup              Jonas     10\n",
       "2            allianz-cup        Dyego Sousa      8\n",
       "3       belgian-supercup  Sébastien Dewaest      2\n",
       "4       belgian-supercup      Adrien Trébel      1\n",
       "..                   ...                ...    ...\n",
       "121        ukrainian-cup            Bernard      6\n",
       "122        ukrainian-cup      Bogdan Lednev      6\n",
       "123  ukrainian-super-cup   Facundo Ferreyra      2\n",
       "124  ukrainian-super-cup     Lassina Traoré      2\n",
       "125  ukrainian-super-cup       Alan Patrick      1\n",
       "\n",
       "[126 rows x 3 columns]"
      ]
     },
     "metadata": {},
     "output_type": "display_data"
    }
   ],
   "source": [
    "play = pd.merge(players, player_valuations[['player_id','datetime','date','dateweek','market_value_in_eur']], on = \"player_id\")\n",
    "play.rename(columns= {'current_club_name':'club_name','current_club_domestic_competition_id':'competition_id'},inplace = True)\n",
    "top_l = pd.merge(appearances, play[['player_id','club_name']], on = 'player_id', how ='left')\n",
    "top_l.drop_duplicates(inplace=True)\n",
    "top_l = pd.merge(top_l, competitions[['competition_id', 'name']], on = 'competition_id', how = 'left')\n",
    "l=pd.pivot_table(top_l,index=[\"name\",\"player_name\"],values=[\"goals\"],aggfunc=\"sum\",dropna=True)\n",
    "df=pd.DataFrame(l.groupby(level='name')['goals'].nlargest(3))\n",
    "df=pd.DataFrame(l.groupby(level='name')['goals'].nlargest(3)).reset_index(level=df.index.names.index('name'))\n",
    "df.drop(columns=\"name\",inplace=True)\n",
    "df.reset_index(inplace=True)\n",
    "display(df)"
   ]
  },
  {
   "cell_type": "code",
   "execution_count": 65,
   "id": "a538d50c-971d-45b5-b9ac-0d653714a057",
   "metadata": {},
   "outputs": [
    {
     "data": {
      "application/vnd.jupyter.widget-view+json": {
       "model_id": "cce9bb2c10904ef8958ee56283ca85f0",
       "version_major": 2,
       "version_minor": 0
      },
      "text/plain": [
       "Dropdown(description='Select League:', options=('allianz-cup', 'belgian-supercup', 'bundesliga', 'community-sh…"
      ]
     },
     "metadata": {},
     "output_type": "display_data"
    },
    {
     "data": {
      "application/vnd.jupyter.widget-view+json": {
       "model_id": "0d28a861574c41978be5b2ed8f61015b",
       "version_major": 2,
       "version_minor": 0
      },
      "text/plain": [
       "Output()"
      ]
     },
     "metadata": {},
     "output_type": "display_data"
    }
   ],
   "source": [
    "def update_plot(selected_league):\n",
    "    plt.figure(figsize=(8, 6))\n",
    "    \n",
    "    sns.barplot(x='player_name', y='goals', data=df[df['name'] == selected_league], palette='plasma')\n",
    "    plt.title(f'Goals by Player in {selected_league}')\n",
    "    plt.xlabel('Player')\n",
    "    plt.ylabel('Goals')\n",
    "    \n",
    "    plt.tight_layout()\n",
    "    plt.show()\n",
    "\n",
    "league_dropdown = widgets.Dropdown(\n",
    "    options=df['name'].unique(),\n",
    "    value=df['name'].iloc[0],\n",
    "    description='Select League:',\n",
    "    style={'description_width': 'initial'}\n",
    ")\n",
    "\n",
    "output = widgets.interactive_output(update_plot, {'selected_league': league_dropdown})\n",
    "\n",
    "display(league_dropdown, output)"
   ]
  },
  {
   "cell_type": "markdown",
   "id": "f1fd2954-cca5-429f-ab09-1fff12fd0263",
   "metadata": {},
   "source": [
    "# Conclusion"
   ]
  },
  {
   "cell_type": "markdown",
   "id": "d03dbfc2-33bb-4e54-9bb0-412c5d41834b",
   "metadata": {},
   "source": [
    "\n",
    "Our data-driven exploration through the intricate realm of football has been a revelatory journey, illuminating the transformative power of data in unraveling the sport's multifaceted dynamics. Spanning a diverse array of datasets, we navigated through complex merges and statistical analyses, armed with tools like Pandas, NumPy, Matplotlib, and Scikit-learn, to extract invaluable insights.\n",
    "\n",
    "The challenges encountered in merging data from eight distinct datasets underscored the complexity inherent in football data analysis. Yet, our unwavering determination was rewarded with a profound understanding of player performance, club strategies, and match dynamics – insights that transcend mere statistics and unveil the deeper narratives woven into the fabric of the game.\n",
    "\n",
    "Our analytical arsenal encompassed a range of statistical techniques, including pivot tables, correlation analysis, and hypothesis testing, each offering unique perspectives on football's multifaceted landscape. These methodologies not only shed light on current trends but also paved the way for future explorations and innovations.\n",
    "\n",
    "As we look towards the futualyis (EDA) lays the groundwork for further advancements in the field. As football data continues to evolve, opportunities abound for deeper analysis, trend forecasting, and actionable insights that can benefit teams, analysts, and fans alike. Imagine a world where data-driven decision-making becomes the norm, where clubs leverage advanced analytics to optimize player acquisitions, tactical strategies, and youth development programs – a world where the beautiful game is elevated to new heights through the power nnovation."
   ]
  }
 ],
 "metadata": {
  "kernelspec": {
   "display_name": "Python 3 (ipykernel)",
   "language": "python",
   "name": "python3"
  },
  "language_info": {
   "codemirror_mode": {
    "name": "ipython",
    "version": 3
   },
   "file_extension": ".py",
   "mimetype": "text/x-python",
   "name": "python",
   "nbconvert_exporter": "python",
   "pygments_lexer": "ipython3",
   "version": "3.12.3"
  }
 },
 "nbformat": 4,
 "nbformat_minor": 5
}
